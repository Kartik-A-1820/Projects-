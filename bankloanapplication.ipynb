{
 "cells": [
  {
   "cell_type": "code",
   "execution_count": 1,
   "id": "d143ddaf",
   "metadata": {
    "_cell_guid": "b1076dfc-b9ad-4769-8c92-a6c4dae69d19",
    "_uuid": "8f2839f25d086af736a60e9eeb907d3b93b6e0e5",
    "execution": {
     "iopub.execute_input": "2023-01-03T16:55:04.003894Z",
     "iopub.status.busy": "2023-01-03T16:55:04.002861Z",
     "iopub.status.idle": "2023-01-03T16:55:04.023708Z",
     "shell.execute_reply": "2023-01-03T16:55:04.022423Z"
    },
    "papermill": {
     "duration": 0.035569,
     "end_time": "2023-01-03T16:55:04.026618",
     "exception": false,
     "start_time": "2023-01-03T16:55:03.991049",
     "status": "completed"
    },
    "tags": []
   },
   "outputs": [
    {
     "name": "stdout",
     "output_type": "stream",
     "text": [
      "/kaggle/input/bank-loan-application-data/application_data.csv\n"
     ]
    }
   ],
   "source": [
    "# This Python 3 environment comes with many helpful analytics libraries installed\n",
    "# It is defined by the kaggle/python Docker image: https://github.com/kaggle/docker-python\n",
    "# For example, here's several helpful packages to load\n",
    "\n",
    "import numpy as np # linear algebra\n",
    "import pandas as pd # data processing, CSV file I/O (e.g. pd.read_csv)\n",
    "\n",
    "# Input data files are available in the read-only \"../input/\" directory\n",
    "# For example, running this (by clicking run or pressing Shift+Enter) will list all files under the input directory\n",
    "\n",
    "import os\n",
    "for dirname, _, filenames in os.walk('/kaggle/input'):\n",
    "    for filename in filenames:\n",
    "        print(os.path.join(dirname, filename))\n",
    "\n",
    "# You can write up to 20GB to the current directory (/kaggle/working/) that gets preserved as output when you create a version using \"Save & Run All\" \n",
    "# You can also write temporary files to /kaggle/temp/, but they won't be saved outside of the current session"
   ]
  },
  {
   "cell_type": "code",
   "execution_count": 2,
   "id": "15cc2e98",
   "metadata": {
    "execution": {
     "iopub.execute_input": "2023-01-03T16:55:04.043901Z",
     "iopub.status.busy": "2023-01-03T16:55:04.043508Z",
     "iopub.status.idle": "2023-01-03T16:55:10.642582Z",
     "shell.execute_reply": "2023-01-03T16:55:10.641392Z"
    },
    "papermill": {
     "duration": 6.610821,
     "end_time": "2023-01-03T16:55:10.645545",
     "exception": false,
     "start_time": "2023-01-03T16:55:04.034724",
     "status": "completed"
    },
    "tags": []
   },
   "outputs": [],
   "source": [
    "df = pd.read_csv('/kaggle/input/bank-loan-application-data/application_data.csv')"
   ]
  },
  {
   "cell_type": "code",
   "execution_count": 3,
   "id": "168e9b8c",
   "metadata": {
    "execution": {
     "iopub.execute_input": "2023-01-03T16:55:10.662682Z",
     "iopub.status.busy": "2023-01-03T16:55:10.662283Z",
     "iopub.status.idle": "2023-01-03T16:55:10.701920Z",
     "shell.execute_reply": "2023-01-03T16:55:10.700724Z"
    },
    "papermill": {
     "duration": 0.051002,
     "end_time": "2023-01-03T16:55:10.704445",
     "exception": false,
     "start_time": "2023-01-03T16:55:10.653443",
     "status": "completed"
    },
    "tags": []
   },
   "outputs": [
    {
     "data": {
      "text/html": [
       "<div>\n",
       "<style scoped>\n",
       "    .dataframe tbody tr th:only-of-type {\n",
       "        vertical-align: middle;\n",
       "    }\n",
       "\n",
       "    .dataframe tbody tr th {\n",
       "        vertical-align: top;\n",
       "    }\n",
       "\n",
       "    .dataframe thead th {\n",
       "        text-align: right;\n",
       "    }\n",
       "</style>\n",
       "<table border=\"1\" class=\"dataframe\">\n",
       "  <thead>\n",
       "    <tr style=\"text-align: right;\">\n",
       "      <th></th>\n",
       "      <th>SK_ID_CURR</th>\n",
       "      <th>TARGET</th>\n",
       "      <th>NAME_CONTRACT_TYPE</th>\n",
       "      <th>CODE_GENDER</th>\n",
       "      <th>FLAG_OWN_CAR</th>\n",
       "      <th>FLAG_OWN_REALTY</th>\n",
       "      <th>CNT_CHILDREN</th>\n",
       "      <th>AMT_INCOME_TOTAL</th>\n",
       "      <th>AMT_CREDIT</th>\n",
       "      <th>AMT_ANNUITY</th>\n",
       "      <th>...</th>\n",
       "      <th>FLAG_DOCUMENT_18</th>\n",
       "      <th>FLAG_DOCUMENT_19</th>\n",
       "      <th>FLAG_DOCUMENT_20</th>\n",
       "      <th>FLAG_DOCUMENT_21</th>\n",
       "      <th>AMT_REQ_CREDIT_BUREAU_HOUR</th>\n",
       "      <th>AMT_REQ_CREDIT_BUREAU_DAY</th>\n",
       "      <th>AMT_REQ_CREDIT_BUREAU_WEEK</th>\n",
       "      <th>AMT_REQ_CREDIT_BUREAU_MON</th>\n",
       "      <th>AMT_REQ_CREDIT_BUREAU_QRT</th>\n",
       "      <th>AMT_REQ_CREDIT_BUREAU_YEAR</th>\n",
       "    </tr>\n",
       "  </thead>\n",
       "  <tbody>\n",
       "    <tr>\n",
       "      <th>0</th>\n",
       "      <td>100002</td>\n",
       "      <td>1</td>\n",
       "      <td>Cash loans</td>\n",
       "      <td>M</td>\n",
       "      <td>N</td>\n",
       "      <td>Y</td>\n",
       "      <td>0</td>\n",
       "      <td>202500.0</td>\n",
       "      <td>406597.5</td>\n",
       "      <td>24700.5</td>\n",
       "      <td>...</td>\n",
       "      <td>0</td>\n",
       "      <td>0</td>\n",
       "      <td>0</td>\n",
       "      <td>0</td>\n",
       "      <td>0.0</td>\n",
       "      <td>0.0</td>\n",
       "      <td>0.0</td>\n",
       "      <td>0.0</td>\n",
       "      <td>0.0</td>\n",
       "      <td>1.0</td>\n",
       "    </tr>\n",
       "    <tr>\n",
       "      <th>1</th>\n",
       "      <td>100003</td>\n",
       "      <td>0</td>\n",
       "      <td>Cash loans</td>\n",
       "      <td>F</td>\n",
       "      <td>N</td>\n",
       "      <td>N</td>\n",
       "      <td>0</td>\n",
       "      <td>270000.0</td>\n",
       "      <td>1293502.5</td>\n",
       "      <td>35698.5</td>\n",
       "      <td>...</td>\n",
       "      <td>0</td>\n",
       "      <td>0</td>\n",
       "      <td>0</td>\n",
       "      <td>0</td>\n",
       "      <td>0.0</td>\n",
       "      <td>0.0</td>\n",
       "      <td>0.0</td>\n",
       "      <td>0.0</td>\n",
       "      <td>0.0</td>\n",
       "      <td>0.0</td>\n",
       "    </tr>\n",
       "    <tr>\n",
       "      <th>2</th>\n",
       "      <td>100004</td>\n",
       "      <td>0</td>\n",
       "      <td>Revolving loans</td>\n",
       "      <td>M</td>\n",
       "      <td>Y</td>\n",
       "      <td>Y</td>\n",
       "      <td>0</td>\n",
       "      <td>67500.0</td>\n",
       "      <td>135000.0</td>\n",
       "      <td>6750.0</td>\n",
       "      <td>...</td>\n",
       "      <td>0</td>\n",
       "      <td>0</td>\n",
       "      <td>0</td>\n",
       "      <td>0</td>\n",
       "      <td>0.0</td>\n",
       "      <td>0.0</td>\n",
       "      <td>0.0</td>\n",
       "      <td>0.0</td>\n",
       "      <td>0.0</td>\n",
       "      <td>0.0</td>\n",
       "    </tr>\n",
       "    <tr>\n",
       "      <th>3</th>\n",
       "      <td>100006</td>\n",
       "      <td>0</td>\n",
       "      <td>Cash loans</td>\n",
       "      <td>F</td>\n",
       "      <td>N</td>\n",
       "      <td>Y</td>\n",
       "      <td>0</td>\n",
       "      <td>135000.0</td>\n",
       "      <td>312682.5</td>\n",
       "      <td>29686.5</td>\n",
       "      <td>...</td>\n",
       "      <td>0</td>\n",
       "      <td>0</td>\n",
       "      <td>0</td>\n",
       "      <td>0</td>\n",
       "      <td>NaN</td>\n",
       "      <td>NaN</td>\n",
       "      <td>NaN</td>\n",
       "      <td>NaN</td>\n",
       "      <td>NaN</td>\n",
       "      <td>NaN</td>\n",
       "    </tr>\n",
       "    <tr>\n",
       "      <th>4</th>\n",
       "      <td>100007</td>\n",
       "      <td>0</td>\n",
       "      <td>Cash loans</td>\n",
       "      <td>M</td>\n",
       "      <td>N</td>\n",
       "      <td>Y</td>\n",
       "      <td>0</td>\n",
       "      <td>121500.0</td>\n",
       "      <td>513000.0</td>\n",
       "      <td>21865.5</td>\n",
       "      <td>...</td>\n",
       "      <td>0</td>\n",
       "      <td>0</td>\n",
       "      <td>0</td>\n",
       "      <td>0</td>\n",
       "      <td>0.0</td>\n",
       "      <td>0.0</td>\n",
       "      <td>0.0</td>\n",
       "      <td>0.0</td>\n",
       "      <td>0.0</td>\n",
       "      <td>0.0</td>\n",
       "    </tr>\n",
       "  </tbody>\n",
       "</table>\n",
       "<p>5 rows × 122 columns</p>\n",
       "</div>"
      ],
      "text/plain": [
       "   SK_ID_CURR  TARGET NAME_CONTRACT_TYPE CODE_GENDER FLAG_OWN_CAR  \\\n",
       "0      100002       1         Cash loans           M            N   \n",
       "1      100003       0         Cash loans           F            N   \n",
       "2      100004       0    Revolving loans           M            Y   \n",
       "3      100006       0         Cash loans           F            N   \n",
       "4      100007       0         Cash loans           M            N   \n",
       "\n",
       "  FLAG_OWN_REALTY  CNT_CHILDREN  AMT_INCOME_TOTAL  AMT_CREDIT  AMT_ANNUITY  \\\n",
       "0               Y             0          202500.0    406597.5      24700.5   \n",
       "1               N             0          270000.0   1293502.5      35698.5   \n",
       "2               Y             0           67500.0    135000.0       6750.0   \n",
       "3               Y             0          135000.0    312682.5      29686.5   \n",
       "4               Y             0          121500.0    513000.0      21865.5   \n",
       "\n",
       "   ...  FLAG_DOCUMENT_18 FLAG_DOCUMENT_19 FLAG_DOCUMENT_20 FLAG_DOCUMENT_21  \\\n",
       "0  ...                 0                0                0                0   \n",
       "1  ...                 0                0                0                0   \n",
       "2  ...                 0                0                0                0   \n",
       "3  ...                 0                0                0                0   \n",
       "4  ...                 0                0                0                0   \n",
       "\n",
       "  AMT_REQ_CREDIT_BUREAU_HOUR AMT_REQ_CREDIT_BUREAU_DAY  \\\n",
       "0                        0.0                       0.0   \n",
       "1                        0.0                       0.0   \n",
       "2                        0.0                       0.0   \n",
       "3                        NaN                       NaN   \n",
       "4                        0.0                       0.0   \n",
       "\n",
       "   AMT_REQ_CREDIT_BUREAU_WEEK  AMT_REQ_CREDIT_BUREAU_MON  \\\n",
       "0                         0.0                        0.0   \n",
       "1                         0.0                        0.0   \n",
       "2                         0.0                        0.0   \n",
       "3                         NaN                        NaN   \n",
       "4                         0.0                        0.0   \n",
       "\n",
       "   AMT_REQ_CREDIT_BUREAU_QRT  AMT_REQ_CREDIT_BUREAU_YEAR  \n",
       "0                        0.0                         1.0  \n",
       "1                        0.0                         0.0  \n",
       "2                        0.0                         0.0  \n",
       "3                        NaN                         NaN  \n",
       "4                        0.0                         0.0  \n",
       "\n",
       "[5 rows x 122 columns]"
      ]
     },
     "execution_count": 3,
     "metadata": {},
     "output_type": "execute_result"
    }
   ],
   "source": [
    "df.head()"
   ]
  },
  {
   "cell_type": "code",
   "execution_count": 4,
   "id": "dc5335d3",
   "metadata": {
    "execution": {
     "iopub.execute_input": "2023-01-03T16:55:10.722645Z",
     "iopub.status.busy": "2023-01-03T16:55:10.721605Z",
     "iopub.status.idle": "2023-01-03T16:55:10.728851Z",
     "shell.execute_reply": "2023-01-03T16:55:10.727764Z"
    },
    "papermill": {
     "duration": 0.019003,
     "end_time": "2023-01-03T16:55:10.731457",
     "exception": false,
     "start_time": "2023-01-03T16:55:10.712454",
     "status": "completed"
    },
    "tags": []
   },
   "outputs": [
    {
     "data": {
      "text/plain": [
       "(307511, 122)"
      ]
     },
     "execution_count": 4,
     "metadata": {},
     "output_type": "execute_result"
    }
   ],
   "source": [
    "df.shape"
   ]
  },
  {
   "cell_type": "code",
   "execution_count": 5,
   "id": "9931a13f",
   "metadata": {
    "execution": {
     "iopub.execute_input": "2023-01-03T16:55:10.749427Z",
     "iopub.status.busy": "2023-01-03T16:55:10.749010Z",
     "iopub.status.idle": "2023-01-03T16:55:11.078566Z",
     "shell.execute_reply": "2023-01-03T16:55:11.077615Z"
    },
    "papermill": {
     "duration": 0.341618,
     "end_time": "2023-01-03T16:55:11.081181",
     "exception": false,
     "start_time": "2023-01-03T16:55:10.739563",
     "status": "completed"
    },
    "tags": []
   },
   "outputs": [],
   "source": [
    "null_values = df.isnull().mean()\n",
    "df = df.drop(null_values[null_values >= 0.4].index, axis=1)"
   ]
  },
  {
   "cell_type": "code",
   "execution_count": 6,
   "id": "a4614905",
   "metadata": {
    "execution": {
     "iopub.execute_input": "2023-01-03T16:55:11.100766Z",
     "iopub.status.busy": "2023-01-03T16:55:11.099986Z",
     "iopub.status.idle": "2023-01-03T16:55:11.107366Z",
     "shell.execute_reply": "2023-01-03T16:55:11.106228Z"
    },
    "papermill": {
     "duration": 0.019056,
     "end_time": "2023-01-03T16:55:11.109815",
     "exception": false,
     "start_time": "2023-01-03T16:55:11.090759",
     "status": "completed"
    },
    "tags": []
   },
   "outputs": [
    {
     "data": {
      "text/plain": [
       "(307511, 73)"
      ]
     },
     "execution_count": 6,
     "metadata": {},
     "output_type": "execute_result"
    }
   ],
   "source": [
    "df.shape"
   ]
  },
  {
   "cell_type": "code",
   "execution_count": 7,
   "id": "ed69adeb",
   "metadata": {
    "execution": {
     "iopub.execute_input": "2023-01-03T16:55:11.128974Z",
     "iopub.status.busy": "2023-01-03T16:55:11.127892Z",
     "iopub.status.idle": "2023-01-03T16:55:11.137780Z",
     "shell.execute_reply": "2023-01-03T16:55:11.136880Z"
    },
    "papermill": {
     "duration": 0.021764,
     "end_time": "2023-01-03T16:55:11.140003",
     "exception": false,
     "start_time": "2023-01-03T16:55:11.118239",
     "status": "completed"
    },
    "tags": []
   },
   "outputs": [
    {
     "data": {
      "text/plain": [
       "int64      41\n",
       "float64    20\n",
       "object     12\n",
       "dtype: int64"
      ]
     },
     "execution_count": 7,
     "metadata": {},
     "output_type": "execute_result"
    }
   ],
   "source": [
    "df.dtypes.value_counts()"
   ]
  },
  {
   "cell_type": "code",
   "execution_count": 8,
   "id": "1ab611f3",
   "metadata": {
    "execution": {
     "iopub.execute_input": "2023-01-03T16:55:11.159397Z",
     "iopub.status.busy": "2023-01-03T16:55:11.158224Z",
     "iopub.status.idle": "2023-01-03T16:55:11.273465Z",
     "shell.execute_reply": "2023-01-03T16:55:11.272585Z"
    },
    "papermill": {
     "duration": 0.12742,
     "end_time": "2023-01-03T16:55:11.275934",
     "exception": false,
     "start_time": "2023-01-03T16:55:11.148514",
     "status": "completed"
    },
    "tags": []
   },
   "outputs": [],
   "source": [
    "numerical = [i for i in df.select_dtypes(exclude='object')]\n",
    "categorical =  [i for i in df.select_dtypes(include='object')]"
   ]
  },
  {
   "cell_type": "code",
   "execution_count": 9,
   "id": "0835f328",
   "metadata": {
    "execution": {
     "iopub.execute_input": "2023-01-03T16:55:11.294586Z",
     "iopub.status.busy": "2023-01-03T16:55:11.293822Z",
     "iopub.status.idle": "2023-01-03T16:55:11.342860Z",
     "shell.execute_reply": "2023-01-03T16:55:11.341478Z"
    },
    "papermill": {
     "duration": 0.061266,
     "end_time": "2023-01-03T16:55:11.345439",
     "exception": false,
     "start_time": "2023-01-03T16:55:11.284173",
     "status": "completed"
    },
    "tags": []
   },
   "outputs": [],
   "source": [
    "num_with_na = [i for i in numerical if df[i].isnull().sum()>0]"
   ]
  },
  {
   "cell_type": "code",
   "execution_count": 10,
   "id": "13a8a2ab",
   "metadata": {
    "execution": {
     "iopub.execute_input": "2023-01-03T16:55:11.363770Z",
     "iopub.status.busy": "2023-01-03T16:55:11.363374Z",
     "iopub.status.idle": "2023-01-03T16:55:11.684409Z",
     "shell.execute_reply": "2023-01-03T16:55:11.683394Z"
    },
    "papermill": {
     "duration": 0.333192,
     "end_time": "2023-01-03T16:55:11.687015",
     "exception": false,
     "start_time": "2023-01-03T16:55:11.353823",
     "status": "completed"
    },
    "tags": []
   },
   "outputs": [
    {
     "data": {
      "text/plain": [
       "SK_ID_CURR                    278202.0\n",
       "TARGET                             0.0\n",
       "CNT_CHILDREN                       0.0\n",
       "AMT_INCOME_TOTAL              147150.0\n",
       "AMT_CREDIT                    513531.0\n",
       "                                ...   \n",
       "AMT_REQ_CREDIT_BUREAU_DAY          0.0\n",
       "AMT_REQ_CREDIT_BUREAU_WEEK         0.0\n",
       "AMT_REQ_CREDIT_BUREAU_MON          0.0\n",
       "AMT_REQ_CREDIT_BUREAU_QRT          0.0\n",
       "AMT_REQ_CREDIT_BUREAU_YEAR         1.0\n",
       "Length: 61, dtype: float64"
      ]
     },
     "execution_count": 10,
     "metadata": {},
     "output_type": "execute_result"
    }
   ],
   "source": [
    "mean = df[numerical].median()\n",
    "mean"
   ]
  },
  {
   "cell_type": "code",
   "execution_count": 11,
   "id": "046420d9",
   "metadata": {
    "execution": {
     "iopub.execute_input": "2023-01-03T16:55:11.705757Z",
     "iopub.status.busy": "2023-01-03T16:55:11.705367Z",
     "iopub.status.idle": "2023-01-03T16:55:11.898769Z",
     "shell.execute_reply": "2023-01-03T16:55:11.897651Z"
    },
    "papermill": {
     "duration": 0.205547,
     "end_time": "2023-01-03T16:55:11.901192",
     "exception": false,
     "start_time": "2023-01-03T16:55:11.695645",
     "status": "completed"
    },
    "tags": []
   },
   "outputs": [],
   "source": [
    "df[numerical] = df[numerical].fillna(mean)"
   ]
  },
  {
   "cell_type": "code",
   "execution_count": 12,
   "id": "a424c22f",
   "metadata": {
    "execution": {
     "iopub.execute_input": "2023-01-03T16:55:11.919643Z",
     "iopub.status.busy": "2023-01-03T16:55:11.919241Z",
     "iopub.status.idle": "2023-01-03T16:55:12.009133Z",
     "shell.execute_reply": "2023-01-03T16:55:12.007987Z"
    },
    "papermill": {
     "duration": 0.102076,
     "end_time": "2023-01-03T16:55:12.011619",
     "exception": false,
     "start_time": "2023-01-03T16:55:11.909543",
     "status": "completed"
    },
    "tags": []
   },
   "outputs": [
    {
     "data": {
      "text/plain": [
       "SK_ID_CURR                    0\n",
       "TARGET                        0\n",
       "CNT_CHILDREN                  0\n",
       "AMT_INCOME_TOTAL              0\n",
       "AMT_CREDIT                    0\n",
       "                             ..\n",
       "AMT_REQ_CREDIT_BUREAU_DAY     0\n",
       "AMT_REQ_CREDIT_BUREAU_WEEK    0\n",
       "AMT_REQ_CREDIT_BUREAU_MON     0\n",
       "AMT_REQ_CREDIT_BUREAU_QRT     0\n",
       "AMT_REQ_CREDIT_BUREAU_YEAR    0\n",
       "Length: 61, dtype: int64"
      ]
     },
     "execution_count": 12,
     "metadata": {},
     "output_type": "execute_result"
    }
   ],
   "source": [
    "df[numerical].isnull().sum()"
   ]
  },
  {
   "cell_type": "code",
   "execution_count": 13,
   "id": "58afeaa1",
   "metadata": {
    "execution": {
     "iopub.execute_input": "2023-01-03T16:55:12.030930Z",
     "iopub.status.busy": "2023-01-03T16:55:12.030149Z",
     "iopub.status.idle": "2023-01-03T16:55:12.241356Z",
     "shell.execute_reply": "2023-01-03T16:55:12.240151Z"
    },
    "papermill": {
     "duration": 0.223691,
     "end_time": "2023-01-03T16:55:12.243946",
     "exception": false,
     "start_time": "2023-01-03T16:55:12.020255",
     "status": "completed"
    },
    "tags": []
   },
   "outputs": [
    {
     "data": {
      "text/plain": [
       "NAME_CONTRACT_TYPE            0.000000\n",
       "CODE_GENDER                   0.000000\n",
       "FLAG_OWN_CAR                  0.000000\n",
       "FLAG_OWN_REALTY               0.000000\n",
       "NAME_TYPE_SUITE               0.004201\n",
       "NAME_INCOME_TYPE              0.000000\n",
       "NAME_EDUCATION_TYPE           0.000000\n",
       "NAME_FAMILY_STATUS            0.000000\n",
       "NAME_HOUSING_TYPE             0.000000\n",
       "OCCUPATION_TYPE               0.313455\n",
       "WEEKDAY_APPR_PROCESS_START    0.000000\n",
       "ORGANIZATION_TYPE             0.000000\n",
       "dtype: float64"
      ]
     },
     "execution_count": 13,
     "metadata": {},
     "output_type": "execute_result"
    }
   ],
   "source": [
    "df[categorical].isnull().mean()"
   ]
  },
  {
   "cell_type": "code",
   "execution_count": 14,
   "id": "7d23b827",
   "metadata": {
    "execution": {
     "iopub.execute_input": "2023-01-03T16:55:12.263084Z",
     "iopub.status.busy": "2023-01-03T16:55:12.262658Z",
     "iopub.status.idle": "2023-01-03T16:55:12.539986Z",
     "shell.execute_reply": "2023-01-03T16:55:12.538858Z"
    },
    "papermill": {
     "duration": 0.28986,
     "end_time": "2023-01-03T16:55:12.542672",
     "exception": false,
     "start_time": "2023-01-03T16:55:12.252812",
     "status": "completed"
    },
    "tags": []
   },
   "outputs": [
    {
     "data": {
      "text/html": [
       "<div>\n",
       "<style scoped>\n",
       "    .dataframe tbody tr th:only-of-type {\n",
       "        vertical-align: middle;\n",
       "    }\n",
       "\n",
       "    .dataframe tbody tr th {\n",
       "        vertical-align: top;\n",
       "    }\n",
       "\n",
       "    .dataframe thead th {\n",
       "        text-align: right;\n",
       "    }\n",
       "</style>\n",
       "<table border=\"1\" class=\"dataframe\">\n",
       "  <thead>\n",
       "    <tr style=\"text-align: right;\">\n",
       "      <th></th>\n",
       "      <th>NAME_CONTRACT_TYPE</th>\n",
       "      <th>CODE_GENDER</th>\n",
       "      <th>FLAG_OWN_CAR</th>\n",
       "      <th>FLAG_OWN_REALTY</th>\n",
       "      <th>NAME_TYPE_SUITE</th>\n",
       "      <th>NAME_INCOME_TYPE</th>\n",
       "      <th>NAME_EDUCATION_TYPE</th>\n",
       "      <th>NAME_FAMILY_STATUS</th>\n",
       "      <th>NAME_HOUSING_TYPE</th>\n",
       "      <th>OCCUPATION_TYPE</th>\n",
       "      <th>WEEKDAY_APPR_PROCESS_START</th>\n",
       "      <th>ORGANIZATION_TYPE</th>\n",
       "    </tr>\n",
       "  </thead>\n",
       "  <tbody>\n",
       "    <tr>\n",
       "      <th>0</th>\n",
       "      <td>Cash loans</td>\n",
       "      <td>F</td>\n",
       "      <td>N</td>\n",
       "      <td>Y</td>\n",
       "      <td>Unaccompanied</td>\n",
       "      <td>Working</td>\n",
       "      <td>Secondary / secondary special</td>\n",
       "      <td>Married</td>\n",
       "      <td>House / apartment</td>\n",
       "      <td>Laborers</td>\n",
       "      <td>TUESDAY</td>\n",
       "      <td>Business Entity Type 3</td>\n",
       "    </tr>\n",
       "  </tbody>\n",
       "</table>\n",
       "</div>"
      ],
      "text/plain": [
       "  NAME_CONTRACT_TYPE CODE_GENDER FLAG_OWN_CAR FLAG_OWN_REALTY NAME_TYPE_SUITE  \\\n",
       "0         Cash loans           F            N               Y   Unaccompanied   \n",
       "\n",
       "  NAME_INCOME_TYPE            NAME_EDUCATION_TYPE NAME_FAMILY_STATUS  \\\n",
       "0          Working  Secondary / secondary special            Married   \n",
       "\n",
       "   NAME_HOUSING_TYPE OCCUPATION_TYPE WEEKDAY_APPR_PROCESS_START  \\\n",
       "0  House / apartment        Laborers                    TUESDAY   \n",
       "\n",
       "        ORGANIZATION_TYPE  \n",
       "0  Business Entity Type 3  "
      ]
     },
     "execution_count": 14,
     "metadata": {},
     "output_type": "execute_result"
    }
   ],
   "source": [
    "mode=df[categorical].mode()\n",
    "mode"
   ]
  },
  {
   "cell_type": "code",
   "execution_count": 15,
   "id": "bf3c6696",
   "metadata": {
    "execution": {
     "iopub.execute_input": "2023-01-03T16:55:12.562569Z",
     "iopub.status.busy": "2023-01-03T16:55:12.561773Z",
     "iopub.status.idle": "2023-01-03T16:55:12.866421Z",
     "shell.execute_reply": "2023-01-03T16:55:12.865454Z"
    },
    "papermill": {
     "duration": 0.31763,
     "end_time": "2023-01-03T16:55:12.869182",
     "exception": false,
     "start_time": "2023-01-03T16:55:12.551552",
     "status": "completed"
    },
    "tags": []
   },
   "outputs": [],
   "source": [
    "df = df.dropna()"
   ]
  },
  {
   "cell_type": "code",
   "execution_count": 16,
   "id": "506ec8b4",
   "metadata": {
    "execution": {
     "iopub.execute_input": "2023-01-03T16:55:12.888444Z",
     "iopub.status.busy": "2023-01-03T16:55:12.888045Z",
     "iopub.status.idle": "2023-01-03T16:55:12.894932Z",
     "shell.execute_reply": "2023-01-03T16:55:12.893673Z"
    },
    "papermill": {
     "duration": 0.019308,
     "end_time": "2023-01-03T16:55:12.897288",
     "exception": false,
     "start_time": "2023-01-03T16:55:12.877980",
     "status": "completed"
    },
    "tags": []
   },
   "outputs": [
    {
     "data": {
      "text/plain": [
       "(210213, 73)"
      ]
     },
     "execution_count": 16,
     "metadata": {},
     "output_type": "execute_result"
    }
   ],
   "source": [
    "df.shape"
   ]
  },
  {
   "cell_type": "code",
   "execution_count": 17,
   "id": "c51ae2eb",
   "metadata": {
    "execution": {
     "iopub.execute_input": "2023-01-03T16:55:12.917006Z",
     "iopub.status.busy": "2023-01-03T16:55:12.916485Z",
     "iopub.status.idle": "2023-01-03T16:55:15.080001Z",
     "shell.execute_reply": "2023-01-03T16:55:15.078898Z"
    },
    "papermill": {
     "duration": 2.176147,
     "end_time": "2023-01-03T16:55:15.082576",
     "exception": false,
     "start_time": "2023-01-03T16:55:12.906429",
     "status": "completed"
    },
    "tags": []
   },
   "outputs": [],
   "source": [
    "c = df.corr()"
   ]
  },
  {
   "cell_type": "code",
   "execution_count": 18,
   "id": "4689785c",
   "metadata": {
    "execution": {
     "iopub.execute_input": "2023-01-03T16:55:15.102615Z",
     "iopub.status.busy": "2023-01-03T16:55:15.102203Z",
     "iopub.status.idle": "2023-01-03T16:55:15.108521Z",
     "shell.execute_reply": "2023-01-03T16:55:15.107238Z"
    },
    "papermill": {
     "duration": 0.019445,
     "end_time": "2023-01-03T16:55:15.111083",
     "exception": false,
     "start_time": "2023-01-03T16:55:15.091638",
     "status": "completed"
    },
    "tags": []
   },
   "outputs": [],
   "source": [
    "numericals = [ i for i in c['TARGET'][c['TARGET']>0.01].index]"
   ]
  },
  {
   "cell_type": "code",
   "execution_count": 19,
   "id": "dd622190",
   "metadata": {
    "execution": {
     "iopub.execute_input": "2023-01-03T16:55:15.130823Z",
     "iopub.status.busy": "2023-01-03T16:55:15.130398Z",
     "iopub.status.idle": "2023-01-03T16:55:16.534467Z",
     "shell.execute_reply": "2023-01-03T16:55:16.533220Z"
    },
    "papermill": {
     "duration": 1.417342,
     "end_time": "2023-01-03T16:55:16.537528",
     "exception": false,
     "start_time": "2023-01-03T16:55:15.120186",
     "status": "completed"
    },
    "tags": []
   },
   "outputs": [],
   "source": [
    "from scipy.stats import chi2_contingency\n",
    "l=[]\n",
    "for feature in categorical:\n",
    "    contingency_table = pd.crosstab(df[feature], df['TARGET'])\n",
    "    _, p, __, expected = chi2_contingency(contingency_table)\n",
    "    if p < 0.05:\n",
    "        l.append(feature)"
   ]
  },
  {
   "cell_type": "code",
   "execution_count": 20,
   "id": "1fc88628",
   "metadata": {
    "execution": {
     "iopub.execute_input": "2023-01-03T16:55:16.562119Z",
     "iopub.status.busy": "2023-01-03T16:55:16.561245Z",
     "iopub.status.idle": "2023-01-03T16:55:16.568443Z",
     "shell.execute_reply": "2023-01-03T16:55:16.567527Z"
    },
    "papermill": {
     "duration": 0.023213,
     "end_time": "2023-01-03T16:55:16.571284",
     "exception": false,
     "start_time": "2023-01-03T16:55:16.548071",
     "status": "completed"
    },
    "tags": []
   },
   "outputs": [],
   "source": [
    "categorical = l"
   ]
  },
  {
   "cell_type": "code",
   "execution_count": 21,
   "id": "65c6266b",
   "metadata": {
    "execution": {
     "iopub.execute_input": "2023-01-03T16:55:16.592322Z",
     "iopub.status.busy": "2023-01-03T16:55:16.590684Z",
     "iopub.status.idle": "2023-01-03T16:55:16.633072Z",
     "shell.execute_reply": "2023-01-03T16:55:16.632182Z"
    },
    "papermill": {
     "duration": 0.056181,
     "end_time": "2023-01-03T16:55:16.636495",
     "exception": false,
     "start_time": "2023-01-03T16:55:16.580314",
     "status": "completed"
    },
    "tags": []
   },
   "outputs": [],
   "source": [
    "df = df[categorical + numericals]"
   ]
  },
  {
   "cell_type": "code",
   "execution_count": 22,
   "id": "eec024a2",
   "metadata": {
    "execution": {
     "iopub.execute_input": "2023-01-03T16:55:16.663261Z",
     "iopub.status.busy": "2023-01-03T16:55:16.662443Z",
     "iopub.status.idle": "2023-01-03T16:55:16.669571Z",
     "shell.execute_reply": "2023-01-03T16:55:16.668626Z"
    },
    "papermill": {
     "duration": 0.022526,
     "end_time": "2023-01-03T16:55:16.671883",
     "exception": false,
     "start_time": "2023-01-03T16:55:16.649357",
     "status": "completed"
    },
    "tags": []
   },
   "outputs": [
    {
     "data": {
      "text/plain": [
       "(210213, 29)"
      ]
     },
     "execution_count": 22,
     "metadata": {},
     "output_type": "execute_result"
    }
   ],
   "source": [
    "df.shape"
   ]
  },
  {
   "cell_type": "code",
   "execution_count": 23,
   "id": "dcf0383b",
   "metadata": {
    "execution": {
     "iopub.execute_input": "2023-01-03T16:55:16.692528Z",
     "iopub.status.busy": "2023-01-03T16:55:16.691688Z",
     "iopub.status.idle": "2023-01-03T16:55:17.081721Z",
     "shell.execute_reply": "2023-01-03T16:55:17.080546Z"
    },
    "papermill": {
     "duration": 0.404199,
     "end_time": "2023-01-03T16:55:17.085226",
     "exception": false,
     "start_time": "2023-01-03T16:55:16.681027",
     "status": "completed"
    },
    "tags": []
   },
   "outputs": [],
   "source": [
    "data = pd.get_dummies(df)"
   ]
  },
  {
   "cell_type": "code",
   "execution_count": 24,
   "id": "cc65c072",
   "metadata": {
    "execution": {
     "iopub.execute_input": "2023-01-03T16:55:17.105601Z",
     "iopub.status.busy": "2023-01-03T16:55:17.105187Z",
     "iopub.status.idle": "2023-01-03T16:55:17.159680Z",
     "shell.execute_reply": "2023-01-03T16:55:17.158328Z"
    },
    "papermill": {
     "duration": 0.068664,
     "end_time": "2023-01-03T16:55:17.163280",
     "exception": false,
     "start_time": "2023-01-03T16:55:17.094616",
     "status": "completed"
    },
    "tags": []
   },
   "outputs": [
    {
     "name": "stderr",
     "output_type": "stream",
     "text": [
      "/opt/conda/lib/python3.7/site-packages/ipykernel_launcher.py:1: FutureWarning: In a future version of pandas all arguments of DataFrame.drop except for the argument 'labels' will be keyword-only\n",
      "  \"\"\"Entry point for launching an IPython kernel.\n"
     ]
    }
   ],
   "source": [
    "x = data.drop('TARGET',1)\n",
    "y=data.TARGET"
   ]
  },
  {
   "cell_type": "code",
   "execution_count": 25,
   "id": "ce7a636e",
   "metadata": {
    "execution": {
     "iopub.execute_input": "2023-01-03T16:55:17.183982Z",
     "iopub.status.busy": "2023-01-03T16:55:17.183170Z",
     "iopub.status.idle": "2023-01-03T16:55:17.571581Z",
     "shell.execute_reply": "2023-01-03T16:55:17.570297Z"
    },
    "papermill": {
     "duration": 0.402252,
     "end_time": "2023-01-03T16:55:17.574561",
     "exception": false,
     "start_time": "2023-01-03T16:55:17.172309",
     "status": "completed"
    },
    "tags": []
   },
   "outputs": [],
   "source": [
    "from sklearn.model_selection import train_test_split,GridSearchCV\n",
    "from sklearn.linear_model import LogisticRegression\n",
    "from sklearn.neighbors import KNeighborsClassifier\n",
    "from sklearn.ensemble import RandomForestClassifier"
   ]
  },
  {
   "cell_type": "code",
   "execution_count": 26,
   "id": "0459eea7",
   "metadata": {
    "execution": {
     "iopub.execute_input": "2023-01-03T16:55:17.596089Z",
     "iopub.status.busy": "2023-01-03T16:55:17.595261Z",
     "iopub.status.idle": "2023-01-03T16:55:18.145896Z",
     "shell.execute_reply": "2023-01-03T16:55:18.144711Z"
    },
    "papermill": {
     "duration": 0.565304,
     "end_time": "2023-01-03T16:55:18.149030",
     "exception": false,
     "start_time": "2023-01-03T16:55:17.583726",
     "status": "completed"
    },
    "tags": []
   },
   "outputs": [],
   "source": [
    "x = np.array(x)\n",
    "y = np.array(y)\n",
    "\n",
    "x_train,x_test,y_train,y_test = train_test_split(x,y,test_size=0.3,random_state=28)"
   ]
  },
  {
   "cell_type": "code",
   "execution_count": 27,
   "id": "c1c85fcd",
   "metadata": {
    "execution": {
     "iopub.execute_input": "2023-01-03T16:55:18.169834Z",
     "iopub.status.busy": "2023-01-03T16:55:18.169465Z",
     "iopub.status.idle": "2023-01-03T16:55:19.826599Z",
     "shell.execute_reply": "2023-01-03T16:55:19.824953Z"
    },
    "papermill": {
     "duration": 1.673168,
     "end_time": "2023-01-03T16:55:19.831639",
     "exception": false,
     "start_time": "2023-01-03T16:55:18.158471",
     "status": "completed"
    },
    "tags": []
   },
   "outputs": [
    {
     "data": {
      "text/plain": [
       "0.9121051630090067"
      ]
     },
     "execution_count": 27,
     "metadata": {},
     "output_type": "execute_result"
    }
   ],
   "source": [
    "lr = LogisticRegression()\n",
    "lr.fit(x_train,y_train)\n",
    "lr.score(x_test,y_test)"
   ]
  },
  {
   "cell_type": "code",
   "execution_count": 28,
   "id": "e72d5016",
   "metadata": {
    "execution": {
     "iopub.execute_input": "2023-01-03T16:55:19.882365Z",
     "iopub.status.busy": "2023-01-03T16:55:19.881504Z",
     "iopub.status.idle": "2023-01-03T16:59:22.185125Z",
     "shell.execute_reply": "2023-01-03T16:59:22.183969Z"
    },
    "papermill": {
     "duration": 242.340971,
     "end_time": "2023-01-03T16:59:22.196969",
     "exception": false,
     "start_time": "2023-01-03T16:55:19.855998",
     "status": "completed"
    },
    "tags": []
   },
   "outputs": [
    {
     "data": {
      "text/plain": [
       "0.9059368260814411"
      ]
     },
     "execution_count": 28,
     "metadata": {},
     "output_type": "execute_result"
    }
   ],
   "source": [
    "knn = KNeighborsClassifier()\n",
    "knn.fit(x_train,y_train)\n",
    "knn.score(x_test,y_test)"
   ]
  },
  {
   "cell_type": "code",
   "execution_count": 29,
   "id": "82361987",
   "metadata": {
    "execution": {
     "iopub.execute_input": "2023-01-03T16:59:22.217721Z",
     "iopub.status.busy": "2023-01-03T16:59:22.217061Z",
     "iopub.status.idle": "2023-01-03T17:00:09.737940Z",
     "shell.execute_reply": "2023-01-03T17:00:09.736696Z"
    },
    "papermill": {
     "duration": 47.542263,
     "end_time": "2023-01-03T17:00:09.748490",
     "exception": false,
     "start_time": "2023-01-03T16:59:22.206227",
     "status": "completed"
    },
    "tags": []
   },
   "outputs": [
    {
     "data": {
      "text/plain": [
       "0.9121210199162755"
      ]
     },
     "execution_count": 29,
     "metadata": {},
     "output_type": "execute_result"
    }
   ],
   "source": [
    "rf = RandomForestClassifier()\n",
    "rf.fit(x_train,y_train)\n",
    "rf.score(x_test,y_test)"
   ]
  },
  {
   "cell_type": "code",
   "execution_count": 30,
   "id": "9ff9000d",
   "metadata": {
    "execution": {
     "iopub.execute_input": "2023-01-03T17:00:09.769256Z",
     "iopub.status.busy": "2023-01-03T17:00:09.768818Z",
     "iopub.status.idle": "2023-01-03T17:10:01.036408Z",
     "shell.execute_reply": "2023-01-03T17:10:01.035271Z"
    },
    "papermill": {
     "duration": 591.290221,
     "end_time": "2023-01-03T17:10:01.048277",
     "exception": false,
     "start_time": "2023-01-03T17:00:09.758056",
     "status": "completed"
    },
    "tags": []
   },
   "outputs": [
    {
     "data": {
      "text/plain": [
       "0.9121368768235444"
      ]
     },
     "execution_count": 30,
     "metadata": {},
     "output_type": "execute_result"
    }
   ],
   "source": [
    "rfc = RandomForestClassifier()\n",
    "\n",
    "# Create a list of hyperparameters to tune\n",
    "param_grid = {'n_estimators': [10, 50, 100], 'max_depth': [None, 5, 10]}\n",
    "\n",
    "# Use GridSearchCV to tune the hyperparameters\n",
    "rf = GridSearchCV(rfc, param_grid, cv=5)\n",
    "rf.fit(x_train, y_train)\n",
    "rf.score(x_test,y_test)"
   ]
  },
  {
   "cell_type": "code",
   "execution_count": null,
   "id": "09e565dc",
   "metadata": {
    "papermill": {
     "duration": 0.009242,
     "end_time": "2023-01-03T17:10:01.067131",
     "exception": false,
     "start_time": "2023-01-03T17:10:01.057889",
     "status": "completed"
    },
    "tags": []
   },
   "outputs": [],
   "source": []
  }
 ],
 "metadata": {
  "kernelspec": {
   "display_name": "Python 3",
   "language": "python",
   "name": "python3"
  },
  "language_info": {
   "codemirror_mode": {
    "name": "ipython",
    "version": 3
   },
   "file_extension": ".py",
   "mimetype": "text/x-python",
   "name": "python",
   "nbconvert_exporter": "python",
   "pygments_lexer": "ipython3",
   "version": "3.7.12"
  },
  "papermill": {
   "default_parameters": {},
   "duration": 906.344716,
   "end_time": "2023-01-03T17:10:01.900022",
   "environment_variables": {},
   "exception": null,
   "input_path": "__notebook__.ipynb",
   "output_path": "__notebook__.ipynb",
   "parameters": {},
   "start_time": "2023-01-03T16:54:55.555306",
   "version": "2.3.4"
  }
 },
 "nbformat": 4,
 "nbformat_minor": 5
}
