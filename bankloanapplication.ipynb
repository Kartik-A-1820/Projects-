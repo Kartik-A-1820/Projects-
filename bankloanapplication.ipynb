{
 "cells": [
  {
   "cell_type": "code",
   "execution_count": 1,
   "id": "6e5e9c0d",
   "metadata": {
    "_cell_guid": "b1076dfc-b9ad-4769-8c92-a6c4dae69d19",
    "_uuid": "8f2839f25d086af736a60e9eeb907d3b93b6e0e5",
    "execution": {
     "iopub.execute_input": "2023-01-03T16:45:59.736492Z",
     "iopub.status.busy": "2023-01-03T16:45:59.735469Z",
     "iopub.status.idle": "2023-01-03T16:45:59.768828Z",
     "shell.execute_reply": "2023-01-03T16:45:59.767952Z"
    },
    "papermill": {
     "duration": 0.04733,
     "end_time": "2023-01-03T16:45:59.771621",
     "exception": false,
     "start_time": "2023-01-03T16:45:59.724291",
     "status": "completed"
    },
    "tags": []
   },
   "outputs": [
    {
     "name": "stdout",
     "output_type": "stream",
     "text": [
      "/kaggle/input/bank-loan-application-data/application_data.csv\n"
     ]
    }
   ],
   "source": [
    "# This Python 3 environment comes with many helpful analytics libraries installed\n",
    "# It is defined by the kaggle/python Docker image: https://github.com/kaggle/docker-python\n",
    "# For example, here's several helpful packages to load\n",
    "\n",
    "import numpy as np # linear algebra\n",
    "import pandas as pd # data processing, CSV file I/O (e.g. pd.read_csv)\n",
    "\n",
    "# Input data files are available in the read-only \"../input/\" directory\n",
    "# For example, running this (by clicking run or pressing Shift+Enter) will list all files under the input directory\n",
    "\n",
    "import os\n",
    "for dirname, _, filenames in os.walk('/kaggle/input'):\n",
    "    for filename in filenames:\n",
    "        print(os.path.join(dirname, filename))\n",
    "\n",
    "# You can write up to 20GB to the current directory (/kaggle/working/) that gets preserved as output when you create a version using \"Save & Run All\" \n",
    "# You can also write temporary files to /kaggle/temp/, but they won't be saved outside of the current session"
   ]
  },
  {
   "cell_type": "code",
   "execution_count": 2,
   "id": "6891e349",
   "metadata": {
    "execution": {
     "iopub.execute_input": "2023-01-03T16:45:59.789379Z",
     "iopub.status.busy": "2023-01-03T16:45:59.788640Z",
     "iopub.status.idle": "2023-01-03T16:46:06.380124Z",
     "shell.execute_reply": "2023-01-03T16:46:06.379031Z"
    },
    "papermill": {
     "duration": 6.603656,
     "end_time": "2023-01-03T16:46:06.383358",
     "exception": false,
     "start_time": "2023-01-03T16:45:59.779702",
     "status": "completed"
    },
    "tags": []
   },
   "outputs": [],
   "source": [
    "df = pd.read_csv('/kaggle/input/bank-loan-application-data/application_data.csv')"
   ]
  },
  {
   "cell_type": "code",
   "execution_count": 3,
   "id": "93393f3c",
   "metadata": {
    "execution": {
     "iopub.execute_input": "2023-01-03T16:46:06.400799Z",
     "iopub.status.busy": "2023-01-03T16:46:06.400376Z",
     "iopub.status.idle": "2023-01-03T16:46:06.441592Z",
     "shell.execute_reply": "2023-01-03T16:46:06.440409Z"
    },
    "papermill": {
     "duration": 0.053058,
     "end_time": "2023-01-03T16:46:06.444464",
     "exception": false,
     "start_time": "2023-01-03T16:46:06.391406",
     "status": "completed"
    },
    "tags": []
   },
   "outputs": [
    {
     "data": {
      "text/html": [
       "<div>\n",
       "<style scoped>\n",
       "    .dataframe tbody tr th:only-of-type {\n",
       "        vertical-align: middle;\n",
       "    }\n",
       "\n",
       "    .dataframe tbody tr th {\n",
       "        vertical-align: top;\n",
       "    }\n",
       "\n",
       "    .dataframe thead th {\n",
       "        text-align: right;\n",
       "    }\n",
       "</style>\n",
       "<table border=\"1\" class=\"dataframe\">\n",
       "  <thead>\n",
       "    <tr style=\"text-align: right;\">\n",
       "      <th></th>\n",
       "      <th>SK_ID_CURR</th>\n",
       "      <th>TARGET</th>\n",
       "      <th>NAME_CONTRACT_TYPE</th>\n",
       "      <th>CODE_GENDER</th>\n",
       "      <th>FLAG_OWN_CAR</th>\n",
       "      <th>FLAG_OWN_REALTY</th>\n",
       "      <th>CNT_CHILDREN</th>\n",
       "      <th>AMT_INCOME_TOTAL</th>\n",
       "      <th>AMT_CREDIT</th>\n",
       "      <th>AMT_ANNUITY</th>\n",
       "      <th>...</th>\n",
       "      <th>FLAG_DOCUMENT_18</th>\n",
       "      <th>FLAG_DOCUMENT_19</th>\n",
       "      <th>FLAG_DOCUMENT_20</th>\n",
       "      <th>FLAG_DOCUMENT_21</th>\n",
       "      <th>AMT_REQ_CREDIT_BUREAU_HOUR</th>\n",
       "      <th>AMT_REQ_CREDIT_BUREAU_DAY</th>\n",
       "      <th>AMT_REQ_CREDIT_BUREAU_WEEK</th>\n",
       "      <th>AMT_REQ_CREDIT_BUREAU_MON</th>\n",
       "      <th>AMT_REQ_CREDIT_BUREAU_QRT</th>\n",
       "      <th>AMT_REQ_CREDIT_BUREAU_YEAR</th>\n",
       "    </tr>\n",
       "  </thead>\n",
       "  <tbody>\n",
       "    <tr>\n",
       "      <th>0</th>\n",
       "      <td>100002</td>\n",
       "      <td>1</td>\n",
       "      <td>Cash loans</td>\n",
       "      <td>M</td>\n",
       "      <td>N</td>\n",
       "      <td>Y</td>\n",
       "      <td>0</td>\n",
       "      <td>202500.0</td>\n",
       "      <td>406597.5</td>\n",
       "      <td>24700.5</td>\n",
       "      <td>...</td>\n",
       "      <td>0</td>\n",
       "      <td>0</td>\n",
       "      <td>0</td>\n",
       "      <td>0</td>\n",
       "      <td>0.0</td>\n",
       "      <td>0.0</td>\n",
       "      <td>0.0</td>\n",
       "      <td>0.0</td>\n",
       "      <td>0.0</td>\n",
       "      <td>1.0</td>\n",
       "    </tr>\n",
       "    <tr>\n",
       "      <th>1</th>\n",
       "      <td>100003</td>\n",
       "      <td>0</td>\n",
       "      <td>Cash loans</td>\n",
       "      <td>F</td>\n",
       "      <td>N</td>\n",
       "      <td>N</td>\n",
       "      <td>0</td>\n",
       "      <td>270000.0</td>\n",
       "      <td>1293502.5</td>\n",
       "      <td>35698.5</td>\n",
       "      <td>...</td>\n",
       "      <td>0</td>\n",
       "      <td>0</td>\n",
       "      <td>0</td>\n",
       "      <td>0</td>\n",
       "      <td>0.0</td>\n",
       "      <td>0.0</td>\n",
       "      <td>0.0</td>\n",
       "      <td>0.0</td>\n",
       "      <td>0.0</td>\n",
       "      <td>0.0</td>\n",
       "    </tr>\n",
       "    <tr>\n",
       "      <th>2</th>\n",
       "      <td>100004</td>\n",
       "      <td>0</td>\n",
       "      <td>Revolving loans</td>\n",
       "      <td>M</td>\n",
       "      <td>Y</td>\n",
       "      <td>Y</td>\n",
       "      <td>0</td>\n",
       "      <td>67500.0</td>\n",
       "      <td>135000.0</td>\n",
       "      <td>6750.0</td>\n",
       "      <td>...</td>\n",
       "      <td>0</td>\n",
       "      <td>0</td>\n",
       "      <td>0</td>\n",
       "      <td>0</td>\n",
       "      <td>0.0</td>\n",
       "      <td>0.0</td>\n",
       "      <td>0.0</td>\n",
       "      <td>0.0</td>\n",
       "      <td>0.0</td>\n",
       "      <td>0.0</td>\n",
       "    </tr>\n",
       "    <tr>\n",
       "      <th>3</th>\n",
       "      <td>100006</td>\n",
       "      <td>0</td>\n",
       "      <td>Cash loans</td>\n",
       "      <td>F</td>\n",
       "      <td>N</td>\n",
       "      <td>Y</td>\n",
       "      <td>0</td>\n",
       "      <td>135000.0</td>\n",
       "      <td>312682.5</td>\n",
       "      <td>29686.5</td>\n",
       "      <td>...</td>\n",
       "      <td>0</td>\n",
       "      <td>0</td>\n",
       "      <td>0</td>\n",
       "      <td>0</td>\n",
       "      <td>NaN</td>\n",
       "      <td>NaN</td>\n",
       "      <td>NaN</td>\n",
       "      <td>NaN</td>\n",
       "      <td>NaN</td>\n",
       "      <td>NaN</td>\n",
       "    </tr>\n",
       "    <tr>\n",
       "      <th>4</th>\n",
       "      <td>100007</td>\n",
       "      <td>0</td>\n",
       "      <td>Cash loans</td>\n",
       "      <td>M</td>\n",
       "      <td>N</td>\n",
       "      <td>Y</td>\n",
       "      <td>0</td>\n",
       "      <td>121500.0</td>\n",
       "      <td>513000.0</td>\n",
       "      <td>21865.5</td>\n",
       "      <td>...</td>\n",
       "      <td>0</td>\n",
       "      <td>0</td>\n",
       "      <td>0</td>\n",
       "      <td>0</td>\n",
       "      <td>0.0</td>\n",
       "      <td>0.0</td>\n",
       "      <td>0.0</td>\n",
       "      <td>0.0</td>\n",
       "      <td>0.0</td>\n",
       "      <td>0.0</td>\n",
       "    </tr>\n",
       "  </tbody>\n",
       "</table>\n",
       "<p>5 rows × 122 columns</p>\n",
       "</div>"
      ],
      "text/plain": [
       "   SK_ID_CURR  TARGET NAME_CONTRACT_TYPE CODE_GENDER FLAG_OWN_CAR  \\\n",
       "0      100002       1         Cash loans           M            N   \n",
       "1      100003       0         Cash loans           F            N   \n",
       "2      100004       0    Revolving loans           M            Y   \n",
       "3      100006       0         Cash loans           F            N   \n",
       "4      100007       0         Cash loans           M            N   \n",
       "\n",
       "  FLAG_OWN_REALTY  CNT_CHILDREN  AMT_INCOME_TOTAL  AMT_CREDIT  AMT_ANNUITY  \\\n",
       "0               Y             0          202500.0    406597.5      24700.5   \n",
       "1               N             0          270000.0   1293502.5      35698.5   \n",
       "2               Y             0           67500.0    135000.0       6750.0   \n",
       "3               Y             0          135000.0    312682.5      29686.5   \n",
       "4               Y             0          121500.0    513000.0      21865.5   \n",
       "\n",
       "   ...  FLAG_DOCUMENT_18 FLAG_DOCUMENT_19 FLAG_DOCUMENT_20 FLAG_DOCUMENT_21  \\\n",
       "0  ...                 0                0                0                0   \n",
       "1  ...                 0                0                0                0   \n",
       "2  ...                 0                0                0                0   \n",
       "3  ...                 0                0                0                0   \n",
       "4  ...                 0                0                0                0   \n",
       "\n",
       "  AMT_REQ_CREDIT_BUREAU_HOUR AMT_REQ_CREDIT_BUREAU_DAY  \\\n",
       "0                        0.0                       0.0   \n",
       "1                        0.0                       0.0   \n",
       "2                        0.0                       0.0   \n",
       "3                        NaN                       NaN   \n",
       "4                        0.0                       0.0   \n",
       "\n",
       "   AMT_REQ_CREDIT_BUREAU_WEEK  AMT_REQ_CREDIT_BUREAU_MON  \\\n",
       "0                         0.0                        0.0   \n",
       "1                         0.0                        0.0   \n",
       "2                         0.0                        0.0   \n",
       "3                         NaN                        NaN   \n",
       "4                         0.0                        0.0   \n",
       "\n",
       "   AMT_REQ_CREDIT_BUREAU_QRT  AMT_REQ_CREDIT_BUREAU_YEAR  \n",
       "0                        0.0                         1.0  \n",
       "1                        0.0                         0.0  \n",
       "2                        0.0                         0.0  \n",
       "3                        NaN                         NaN  \n",
       "4                        0.0                         0.0  \n",
       "\n",
       "[5 rows x 122 columns]"
      ]
     },
     "execution_count": 3,
     "metadata": {},
     "output_type": "execute_result"
    }
   ],
   "source": [
    "df.head()"
   ]
  },
  {
   "cell_type": "code",
   "execution_count": 4,
   "id": "307cd2f7",
   "metadata": {
    "execution": {
     "iopub.execute_input": "2023-01-03T16:46:06.463867Z",
     "iopub.status.busy": "2023-01-03T16:46:06.463380Z",
     "iopub.status.idle": "2023-01-03T16:46:06.471143Z",
     "shell.execute_reply": "2023-01-03T16:46:06.469982Z"
    },
    "papermill": {
     "duration": 0.019989,
     "end_time": "2023-01-03T16:46:06.473565",
     "exception": false,
     "start_time": "2023-01-03T16:46:06.453576",
     "status": "completed"
    },
    "tags": []
   },
   "outputs": [
    {
     "data": {
      "text/plain": [
       "(307511, 122)"
      ]
     },
     "execution_count": 4,
     "metadata": {},
     "output_type": "execute_result"
    }
   ],
   "source": [
    "df.shape"
   ]
  },
  {
   "cell_type": "code",
   "execution_count": 5,
   "id": "c2fa7c97",
   "metadata": {
    "execution": {
     "iopub.execute_input": "2023-01-03T16:46:06.491678Z",
     "iopub.status.busy": "2023-01-03T16:46:06.491247Z",
     "iopub.status.idle": "2023-01-03T16:46:06.821217Z",
     "shell.execute_reply": "2023-01-03T16:46:06.819815Z"
    },
    "papermill": {
     "duration": 0.342391,
     "end_time": "2023-01-03T16:46:06.824203",
     "exception": false,
     "start_time": "2023-01-03T16:46:06.481812",
     "status": "completed"
    },
    "tags": []
   },
   "outputs": [],
   "source": [
    "null_values = df.isnull().mean()\n",
    "df = df.drop(null_values[null_values >= 0.4].index, axis=1)"
   ]
  },
  {
   "cell_type": "code",
   "execution_count": 6,
   "id": "92649503",
   "metadata": {
    "execution": {
     "iopub.execute_input": "2023-01-03T16:46:06.848345Z",
     "iopub.status.busy": "2023-01-03T16:46:06.845740Z",
     "iopub.status.idle": "2023-01-03T16:46:06.858368Z",
     "shell.execute_reply": "2023-01-03T16:46:06.857117Z"
    },
    "papermill": {
     "duration": 0.026562,
     "end_time": "2023-01-03T16:46:06.861572",
     "exception": false,
     "start_time": "2023-01-03T16:46:06.835010",
     "status": "completed"
    },
    "tags": []
   },
   "outputs": [
    {
     "data": {
      "text/plain": [
       "(307511, 73)"
      ]
     },
     "execution_count": 6,
     "metadata": {},
     "output_type": "execute_result"
    }
   ],
   "source": [
    "df.shape"
   ]
  },
  {
   "cell_type": "code",
   "execution_count": 7,
   "id": "8ed07693",
   "metadata": {
    "execution": {
     "iopub.execute_input": "2023-01-03T16:46:06.880722Z",
     "iopub.status.busy": "2023-01-03T16:46:06.880286Z",
     "iopub.status.idle": "2023-01-03T16:46:06.891462Z",
     "shell.execute_reply": "2023-01-03T16:46:06.890362Z"
    },
    "papermill": {
     "duration": 0.023512,
     "end_time": "2023-01-03T16:46:06.893815",
     "exception": false,
     "start_time": "2023-01-03T16:46:06.870303",
     "status": "completed"
    },
    "tags": []
   },
   "outputs": [
    {
     "data": {
      "text/plain": [
       "int64      41\n",
       "float64    20\n",
       "object     12\n",
       "dtype: int64"
      ]
     },
     "execution_count": 7,
     "metadata": {},
     "output_type": "execute_result"
    }
   ],
   "source": [
    "df.dtypes.value_counts()"
   ]
  },
  {
   "cell_type": "code",
   "execution_count": 8,
   "id": "998c06b1",
   "metadata": {
    "execution": {
     "iopub.execute_input": "2023-01-03T16:46:06.912886Z",
     "iopub.status.busy": "2023-01-03T16:46:06.912467Z",
     "iopub.status.idle": "2023-01-03T16:46:07.030176Z",
     "shell.execute_reply": "2023-01-03T16:46:07.029085Z"
    },
    "papermill": {
     "duration": 0.130833,
     "end_time": "2023-01-03T16:46:07.033226",
     "exception": false,
     "start_time": "2023-01-03T16:46:06.902393",
     "status": "completed"
    },
    "tags": []
   },
   "outputs": [],
   "source": [
    "numerical = [i for i in df.select_dtypes(exclude='object')]\n",
    "categorical =  [i for i in df.select_dtypes(include='object')]"
   ]
  },
  {
   "cell_type": "code",
   "execution_count": 9,
   "id": "a632ffbb",
   "metadata": {
    "execution": {
     "iopub.execute_input": "2023-01-03T16:46:07.053131Z",
     "iopub.status.busy": "2023-01-03T16:46:07.052679Z",
     "iopub.status.idle": "2023-01-03T16:46:07.101393Z",
     "shell.execute_reply": "2023-01-03T16:46:07.100067Z"
    },
    "papermill": {
     "duration": 0.062014,
     "end_time": "2023-01-03T16:46:07.104436",
     "exception": false,
     "start_time": "2023-01-03T16:46:07.042422",
     "status": "completed"
    },
    "tags": []
   },
   "outputs": [],
   "source": [
    "num_with_na = [i for i in numerical if df[i].isnull().sum()>0]"
   ]
  },
  {
   "cell_type": "code",
   "execution_count": 10,
   "id": "b9129ef8",
   "metadata": {
    "execution": {
     "iopub.execute_input": "2023-01-03T16:46:07.123248Z",
     "iopub.status.busy": "2023-01-03T16:46:07.122778Z",
     "iopub.status.idle": "2023-01-03T16:46:07.437681Z",
     "shell.execute_reply": "2023-01-03T16:46:07.436349Z"
    },
    "papermill": {
     "duration": 0.32725,
     "end_time": "2023-01-03T16:46:07.440164",
     "exception": false,
     "start_time": "2023-01-03T16:46:07.112914",
     "status": "completed"
    },
    "tags": []
   },
   "outputs": [
    {
     "data": {
      "text/plain": [
       "SK_ID_CURR                    278202.0\n",
       "TARGET                             0.0\n",
       "CNT_CHILDREN                       0.0\n",
       "AMT_INCOME_TOTAL              147150.0\n",
       "AMT_CREDIT                    513531.0\n",
       "                                ...   \n",
       "AMT_REQ_CREDIT_BUREAU_DAY          0.0\n",
       "AMT_REQ_CREDIT_BUREAU_WEEK         0.0\n",
       "AMT_REQ_CREDIT_BUREAU_MON          0.0\n",
       "AMT_REQ_CREDIT_BUREAU_QRT          0.0\n",
       "AMT_REQ_CREDIT_BUREAU_YEAR         1.0\n",
       "Length: 61, dtype: float64"
      ]
     },
     "execution_count": 10,
     "metadata": {},
     "output_type": "execute_result"
    }
   ],
   "source": [
    "mean = df[numerical].median()\n",
    "mean"
   ]
  },
  {
   "cell_type": "code",
   "execution_count": 11,
   "id": "954dcdec",
   "metadata": {
    "execution": {
     "iopub.execute_input": "2023-01-03T16:46:07.460164Z",
     "iopub.status.busy": "2023-01-03T16:46:07.459000Z",
     "iopub.status.idle": "2023-01-03T16:46:07.652487Z",
     "shell.execute_reply": "2023-01-03T16:46:07.651235Z"
    },
    "papermill": {
     "duration": 0.20667,
     "end_time": "2023-01-03T16:46:07.655579",
     "exception": false,
     "start_time": "2023-01-03T16:46:07.448909",
     "status": "completed"
    },
    "tags": []
   },
   "outputs": [],
   "source": [
    "df[numerical] = df[numerical].fillna(mean)"
   ]
  },
  {
   "cell_type": "code",
   "execution_count": 12,
   "id": "4e0296a7",
   "metadata": {
    "execution": {
     "iopub.execute_input": "2023-01-03T16:46:07.675735Z",
     "iopub.status.busy": "2023-01-03T16:46:07.675266Z",
     "iopub.status.idle": "2023-01-03T16:46:07.765579Z",
     "shell.execute_reply": "2023-01-03T16:46:07.764332Z"
    },
    "papermill": {
     "duration": 0.103721,
     "end_time": "2023-01-03T16:46:07.768177",
     "exception": false,
     "start_time": "2023-01-03T16:46:07.664456",
     "status": "completed"
    },
    "tags": []
   },
   "outputs": [
    {
     "data": {
      "text/plain": [
       "SK_ID_CURR                    0\n",
       "TARGET                        0\n",
       "CNT_CHILDREN                  0\n",
       "AMT_INCOME_TOTAL              0\n",
       "AMT_CREDIT                    0\n",
       "                             ..\n",
       "AMT_REQ_CREDIT_BUREAU_DAY     0\n",
       "AMT_REQ_CREDIT_BUREAU_WEEK    0\n",
       "AMT_REQ_CREDIT_BUREAU_MON     0\n",
       "AMT_REQ_CREDIT_BUREAU_QRT     0\n",
       "AMT_REQ_CREDIT_BUREAU_YEAR    0\n",
       "Length: 61, dtype: int64"
      ]
     },
     "execution_count": 12,
     "metadata": {},
     "output_type": "execute_result"
    }
   ],
   "source": [
    "df[numerical].isnull().sum()"
   ]
  },
  {
   "cell_type": "code",
   "execution_count": 13,
   "id": "f478d323",
   "metadata": {
    "execution": {
     "iopub.execute_input": "2023-01-03T16:46:07.788342Z",
     "iopub.status.busy": "2023-01-03T16:46:07.787887Z",
     "iopub.status.idle": "2023-01-03T16:46:07.999188Z",
     "shell.execute_reply": "2023-01-03T16:46:07.998082Z"
    },
    "papermill": {
     "duration": 0.224104,
     "end_time": "2023-01-03T16:46:08.001597",
     "exception": false,
     "start_time": "2023-01-03T16:46:07.777493",
     "status": "completed"
    },
    "tags": []
   },
   "outputs": [
    {
     "data": {
      "text/plain": [
       "NAME_CONTRACT_TYPE            0.000000\n",
       "CODE_GENDER                   0.000000\n",
       "FLAG_OWN_CAR                  0.000000\n",
       "FLAG_OWN_REALTY               0.000000\n",
       "NAME_TYPE_SUITE               0.004201\n",
       "NAME_INCOME_TYPE              0.000000\n",
       "NAME_EDUCATION_TYPE           0.000000\n",
       "NAME_FAMILY_STATUS            0.000000\n",
       "NAME_HOUSING_TYPE             0.000000\n",
       "OCCUPATION_TYPE               0.313455\n",
       "WEEKDAY_APPR_PROCESS_START    0.000000\n",
       "ORGANIZATION_TYPE             0.000000\n",
       "dtype: float64"
      ]
     },
     "execution_count": 13,
     "metadata": {},
     "output_type": "execute_result"
    }
   ],
   "source": [
    "df[categorical].isnull().mean()"
   ]
  },
  {
   "cell_type": "code",
   "execution_count": 14,
   "id": "6fb2110b",
   "metadata": {
    "execution": {
     "iopub.execute_input": "2023-01-03T16:46:08.021255Z",
     "iopub.status.busy": "2023-01-03T16:46:08.020748Z",
     "iopub.status.idle": "2023-01-03T16:46:08.299891Z",
     "shell.execute_reply": "2023-01-03T16:46:08.298809Z"
    },
    "papermill": {
     "duration": 0.291743,
     "end_time": "2023-01-03T16:46:08.302319",
     "exception": false,
     "start_time": "2023-01-03T16:46:08.010576",
     "status": "completed"
    },
    "tags": []
   },
   "outputs": [
    {
     "data": {
      "text/html": [
       "<div>\n",
       "<style scoped>\n",
       "    .dataframe tbody tr th:only-of-type {\n",
       "        vertical-align: middle;\n",
       "    }\n",
       "\n",
       "    .dataframe tbody tr th {\n",
       "        vertical-align: top;\n",
       "    }\n",
       "\n",
       "    .dataframe thead th {\n",
       "        text-align: right;\n",
       "    }\n",
       "</style>\n",
       "<table border=\"1\" class=\"dataframe\">\n",
       "  <thead>\n",
       "    <tr style=\"text-align: right;\">\n",
       "      <th></th>\n",
       "      <th>NAME_CONTRACT_TYPE</th>\n",
       "      <th>CODE_GENDER</th>\n",
       "      <th>FLAG_OWN_CAR</th>\n",
       "      <th>FLAG_OWN_REALTY</th>\n",
       "      <th>NAME_TYPE_SUITE</th>\n",
       "      <th>NAME_INCOME_TYPE</th>\n",
       "      <th>NAME_EDUCATION_TYPE</th>\n",
       "      <th>NAME_FAMILY_STATUS</th>\n",
       "      <th>NAME_HOUSING_TYPE</th>\n",
       "      <th>OCCUPATION_TYPE</th>\n",
       "      <th>WEEKDAY_APPR_PROCESS_START</th>\n",
       "      <th>ORGANIZATION_TYPE</th>\n",
       "    </tr>\n",
       "  </thead>\n",
       "  <tbody>\n",
       "    <tr>\n",
       "      <th>0</th>\n",
       "      <td>Cash loans</td>\n",
       "      <td>F</td>\n",
       "      <td>N</td>\n",
       "      <td>Y</td>\n",
       "      <td>Unaccompanied</td>\n",
       "      <td>Working</td>\n",
       "      <td>Secondary / secondary special</td>\n",
       "      <td>Married</td>\n",
       "      <td>House / apartment</td>\n",
       "      <td>Laborers</td>\n",
       "      <td>TUESDAY</td>\n",
       "      <td>Business Entity Type 3</td>\n",
       "    </tr>\n",
       "  </tbody>\n",
       "</table>\n",
       "</div>"
      ],
      "text/plain": [
       "  NAME_CONTRACT_TYPE CODE_GENDER FLAG_OWN_CAR FLAG_OWN_REALTY NAME_TYPE_SUITE  \\\n",
       "0         Cash loans           F            N               Y   Unaccompanied   \n",
       "\n",
       "  NAME_INCOME_TYPE            NAME_EDUCATION_TYPE NAME_FAMILY_STATUS  \\\n",
       "0          Working  Secondary / secondary special            Married   \n",
       "\n",
       "   NAME_HOUSING_TYPE OCCUPATION_TYPE WEEKDAY_APPR_PROCESS_START  \\\n",
       "0  House / apartment        Laborers                    TUESDAY   \n",
       "\n",
       "        ORGANIZATION_TYPE  \n",
       "0  Business Entity Type 3  "
      ]
     },
     "execution_count": 14,
     "metadata": {},
     "output_type": "execute_result"
    }
   ],
   "source": [
    "mode=df[categorical].mode()\n",
    "mode"
   ]
  },
  {
   "cell_type": "code",
   "execution_count": 15,
   "id": "9f9cba38",
   "metadata": {
    "execution": {
     "iopub.execute_input": "2023-01-03T16:46:08.321628Z",
     "iopub.status.busy": "2023-01-03T16:46:08.321184Z",
     "iopub.status.idle": "2023-01-03T16:46:08.618986Z",
     "shell.execute_reply": "2023-01-03T16:46:08.617869Z"
    },
    "papermill": {
     "duration": 0.310917,
     "end_time": "2023-01-03T16:46:08.622042",
     "exception": false,
     "start_time": "2023-01-03T16:46:08.311125",
     "status": "completed"
    },
    "tags": []
   },
   "outputs": [],
   "source": [
    "df = df.dropna()"
   ]
  },
  {
   "cell_type": "code",
   "execution_count": 16,
   "id": "0aacb5d1",
   "metadata": {
    "execution": {
     "iopub.execute_input": "2023-01-03T16:46:08.642569Z",
     "iopub.status.busy": "2023-01-03T16:46:08.642141Z",
     "iopub.status.idle": "2023-01-03T16:46:08.651683Z",
     "shell.execute_reply": "2023-01-03T16:46:08.650426Z"
    },
    "papermill": {
     "duration": 0.023013,
     "end_time": "2023-01-03T16:46:08.654337",
     "exception": false,
     "start_time": "2023-01-03T16:46:08.631324",
     "status": "completed"
    },
    "tags": []
   },
   "outputs": [
    {
     "data": {
      "text/plain": [
       "(210213, 73)"
      ]
     },
     "execution_count": 16,
     "metadata": {},
     "output_type": "execute_result"
    }
   ],
   "source": [
    "df.shape"
   ]
  },
  {
   "cell_type": "code",
   "execution_count": 17,
   "id": "5374b003",
   "metadata": {
    "execution": {
     "iopub.execute_input": "2023-01-03T16:46:08.675371Z",
     "iopub.status.busy": "2023-01-03T16:46:08.674403Z",
     "iopub.status.idle": "2023-01-03T16:46:10.839907Z",
     "shell.execute_reply": "2023-01-03T16:46:10.838553Z"
    },
    "papermill": {
     "duration": 2.179113,
     "end_time": "2023-01-03T16:46:10.842959",
     "exception": false,
     "start_time": "2023-01-03T16:46:08.663846",
     "status": "completed"
    },
    "tags": []
   },
   "outputs": [],
   "source": [
    "c = df.corr()"
   ]
  },
  {
   "cell_type": "code",
   "execution_count": 18,
   "id": "d92a66ec",
   "metadata": {
    "execution": {
     "iopub.execute_input": "2023-01-03T16:46:10.865865Z",
     "iopub.status.busy": "2023-01-03T16:46:10.865409Z",
     "iopub.status.idle": "2023-01-03T16:46:10.872195Z",
     "shell.execute_reply": "2023-01-03T16:46:10.870850Z"
    },
    "papermill": {
     "duration": 0.020381,
     "end_time": "2023-01-03T16:46:10.874582",
     "exception": false,
     "start_time": "2023-01-03T16:46:10.854201",
     "status": "completed"
    },
    "tags": []
   },
   "outputs": [],
   "source": [
    "numericals = [ i for i in c['TARGET'][c['TARGET']>0.01].index]"
   ]
  },
  {
   "cell_type": "code",
   "execution_count": 19,
   "id": "e3e1592a",
   "metadata": {
    "execution": {
     "iopub.execute_input": "2023-01-03T16:46:10.895201Z",
     "iopub.status.busy": "2023-01-03T16:46:10.894199Z",
     "iopub.status.idle": "2023-01-03T16:46:12.214039Z",
     "shell.execute_reply": "2023-01-03T16:46:12.212929Z"
    },
    "papermill": {
     "duration": 1.333319,
     "end_time": "2023-01-03T16:46:12.217096",
     "exception": false,
     "start_time": "2023-01-03T16:46:10.883777",
     "status": "completed"
    },
    "tags": []
   },
   "outputs": [],
   "source": [
    "from scipy.stats import chi2_contingency\n",
    "l=[]\n",
    "for feature in categorical:\n",
    "    contingency_table = pd.crosstab(df[feature], df['TARGET'])\n",
    "    _, p, __, expected = chi2_contingency(contingency_table)\n",
    "    if p < 0.05:\n",
    "        l.append(feature)"
   ]
  },
  {
   "cell_type": "code",
   "execution_count": 20,
   "id": "1abc3db5",
   "metadata": {
    "execution": {
     "iopub.execute_input": "2023-01-03T16:46:12.238732Z",
     "iopub.status.busy": "2023-01-03T16:46:12.237896Z",
     "iopub.status.idle": "2023-01-03T16:46:12.243199Z",
     "shell.execute_reply": "2023-01-03T16:46:12.241807Z"
    },
    "papermill": {
     "duration": 0.019198,
     "end_time": "2023-01-03T16:46:12.245736",
     "exception": false,
     "start_time": "2023-01-03T16:46:12.226538",
     "status": "completed"
    },
    "tags": []
   },
   "outputs": [],
   "source": [
    "categorical = l"
   ]
  },
  {
   "cell_type": "code",
   "execution_count": 21,
   "id": "d8719115",
   "metadata": {
    "execution": {
     "iopub.execute_input": "2023-01-03T16:46:12.267714Z",
     "iopub.status.busy": "2023-01-03T16:46:12.266525Z",
     "iopub.status.idle": "2023-01-03T16:46:12.306665Z",
     "shell.execute_reply": "2023-01-03T16:46:12.305505Z"
    },
    "papermill": {
     "duration": 0.054041,
     "end_time": "2023-01-03T16:46:12.309457",
     "exception": false,
     "start_time": "2023-01-03T16:46:12.255416",
     "status": "completed"
    },
    "tags": []
   },
   "outputs": [],
   "source": [
    "df = df[categorical + numericals]"
   ]
  },
  {
   "cell_type": "code",
   "execution_count": 22,
   "id": "038e3999",
   "metadata": {
    "execution": {
     "iopub.execute_input": "2023-01-03T16:46:12.329517Z",
     "iopub.status.busy": "2023-01-03T16:46:12.329067Z",
     "iopub.status.idle": "2023-01-03T16:46:12.336732Z",
     "shell.execute_reply": "2023-01-03T16:46:12.335349Z"
    },
    "papermill": {
     "duration": 0.020616,
     "end_time": "2023-01-03T16:46:12.339142",
     "exception": false,
     "start_time": "2023-01-03T16:46:12.318526",
     "status": "completed"
    },
    "tags": []
   },
   "outputs": [
    {
     "data": {
      "text/plain": [
       "(210213, 29)"
      ]
     },
     "execution_count": 22,
     "metadata": {},
     "output_type": "execute_result"
    }
   ],
   "source": [
    "df.shape"
   ]
  },
  {
   "cell_type": "code",
   "execution_count": 23,
   "id": "89a271f3",
   "metadata": {
    "execution": {
     "iopub.execute_input": "2023-01-03T16:46:12.360229Z",
     "iopub.status.busy": "2023-01-03T16:46:12.359773Z",
     "iopub.status.idle": "2023-01-03T16:46:12.744892Z",
     "shell.execute_reply": "2023-01-03T16:46:12.743599Z"
    },
    "papermill": {
     "duration": 0.399455,
     "end_time": "2023-01-03T16:46:12.747954",
     "exception": false,
     "start_time": "2023-01-03T16:46:12.348499",
     "status": "completed"
    },
    "tags": []
   },
   "outputs": [],
   "source": [
    "data = pd.get_dummies(df)"
   ]
  },
  {
   "cell_type": "code",
   "execution_count": 24,
   "id": "bb4774f2",
   "metadata": {
    "execution": {
     "iopub.execute_input": "2023-01-03T16:46:12.769800Z",
     "iopub.status.busy": "2023-01-03T16:46:12.769355Z",
     "iopub.status.idle": "2023-01-03T16:46:12.823005Z",
     "shell.execute_reply": "2023-01-03T16:46:12.821694Z"
    },
    "papermill": {
     "duration": 0.068326,
     "end_time": "2023-01-03T16:46:12.826250",
     "exception": false,
     "start_time": "2023-01-03T16:46:12.757924",
     "status": "completed"
    },
    "tags": []
   },
   "outputs": [
    {
     "name": "stderr",
     "output_type": "stream",
     "text": [
      "/opt/conda/lib/python3.7/site-packages/ipykernel_launcher.py:1: FutureWarning: In a future version of pandas all arguments of DataFrame.drop except for the argument 'labels' will be keyword-only\n",
      "  \"\"\"Entry point for launching an IPython kernel.\n"
     ]
    }
   ],
   "source": [
    "x = data.drop('TARGET',1)\n",
    "y=data.TARGET"
   ]
  },
  {
   "cell_type": "code",
   "execution_count": 25,
   "id": "448fbf42",
   "metadata": {
    "execution": {
     "iopub.execute_input": "2023-01-03T16:46:12.846653Z",
     "iopub.status.busy": "2023-01-03T16:46:12.846226Z",
     "iopub.status.idle": "2023-01-03T16:46:13.185862Z",
     "shell.execute_reply": "2023-01-03T16:46:13.184786Z"
    },
    "papermill": {
     "duration": 0.353212,
     "end_time": "2023-01-03T16:46:13.188843",
     "exception": false,
     "start_time": "2023-01-03T16:46:12.835631",
     "status": "completed"
    },
    "tags": []
   },
   "outputs": [],
   "source": [
    "from sklearn.model_selection import train_test_split,GridSearchCV\n",
    "from sklearn.linear_model import LogisticRegression\n",
    "from sklearn.neighbors import KNeighborsClassifier\n",
    "from sklearn.ensemble import RandomForestClassifier"
   ]
  },
  {
   "cell_type": "code",
   "execution_count": 26,
   "id": "e390ef2d",
   "metadata": {
    "execution": {
     "iopub.execute_input": "2023-01-03T16:46:13.210741Z",
     "iopub.status.busy": "2023-01-03T16:46:13.209597Z",
     "iopub.status.idle": "2023-01-03T16:46:13.727573Z",
     "shell.execute_reply": "2023-01-03T16:46:13.726415Z"
    },
    "papermill": {
     "duration": 0.531685,
     "end_time": "2023-01-03T16:46:13.730411",
     "exception": false,
     "start_time": "2023-01-03T16:46:13.198726",
     "status": "completed"
    },
    "tags": []
   },
   "outputs": [],
   "source": [
    "x = np.array(x)\n",
    "y = np.array(y)\n",
    "\n",
    "x_train,x_test,y_train,y_test = train_test_split(x,y,test_size=0.3,random_state=28)"
   ]
  },
  {
   "cell_type": "code",
   "execution_count": 27,
   "id": "c662a61a",
   "metadata": {
    "execution": {
     "iopub.execute_input": "2023-01-03T16:46:13.751350Z",
     "iopub.status.busy": "2023-01-03T16:46:13.750162Z",
     "iopub.status.idle": "2023-01-03T16:46:15.422361Z",
     "shell.execute_reply": "2023-01-03T16:46:15.420656Z"
    },
    "papermill": {
     "duration": 1.687727,
     "end_time": "2023-01-03T16:46:15.427345",
     "exception": false,
     "start_time": "2023-01-03T16:46:13.739618",
     "status": "completed"
    },
    "tags": []
   },
   "outputs": [
    {
     "data": {
      "text/plain": [
       "0.9121051630090067"
      ]
     },
     "execution_count": 27,
     "metadata": {},
     "output_type": "execute_result"
    }
   ],
   "source": [
    "lr = LogisticRegression()\n",
    "lr.fit(x_train,y_train)\n",
    "lr.score(x_test,y_test)"
   ]
  },
  {
   "cell_type": "code",
   "execution_count": 28,
   "id": "6d552841",
   "metadata": {
    "execution": {
     "iopub.execute_input": "2023-01-03T16:46:15.479776Z",
     "iopub.status.busy": "2023-01-03T16:46:15.479070Z",
     "iopub.status.idle": "2023-01-03T16:50:17.192832Z",
     "shell.execute_reply": "2023-01-03T16:50:17.192007Z"
    },
    "papermill": {
     "duration": 241.751798,
     "end_time": "2023-01-03T16:50:17.204536",
     "exception": false,
     "start_time": "2023-01-03T16:46:15.452738",
     "status": "completed"
    },
    "tags": []
   },
   "outputs": [
    {
     "data": {
      "text/plain": [
       "0.9059368260814411"
      ]
     },
     "execution_count": 28,
     "metadata": {},
     "output_type": "execute_result"
    }
   ],
   "source": [
    "knn = KNeighborsClassifier()\n",
    "knn.fit(x_train,y_train)\n",
    "knn.score(x_test,y_test)"
   ]
  },
  {
   "cell_type": "code",
   "execution_count": 29,
   "id": "017ffcd7",
   "metadata": {
    "execution": {
     "iopub.execute_input": "2023-01-03T16:50:17.226377Z",
     "iopub.status.busy": "2023-01-03T16:50:17.225885Z",
     "iopub.status.idle": "2023-01-03T16:51:03.090628Z",
     "shell.execute_reply": "2023-01-03T16:51:03.089526Z"
    },
    "papermill": {
     "duration": 45.887756,
     "end_time": "2023-01-03T16:51:03.102134",
     "exception": false,
     "start_time": "2023-01-03T16:50:17.214378",
     "status": "completed"
    },
    "tags": []
   },
   "outputs": [
    {
     "data": {
      "text/plain": [
       "0.9121051630090067"
      ]
     },
     "execution_count": 29,
     "metadata": {},
     "output_type": "execute_result"
    }
   ],
   "source": [
    "rf = RandomForestClassifier()\n",
    "rf.fit(x_train,y_train)\n",
    "rf.score(x_test,y_test)"
   ]
  },
  {
   "cell_type": "code",
   "execution_count": 30,
   "id": "dd208888",
   "metadata": {
    "execution": {
     "iopub.execute_input": "2023-01-03T16:51:03.123037Z",
     "iopub.status.busy": "2023-01-03T16:51:03.122550Z",
     "iopub.status.idle": "2023-01-03T17:00:39.775906Z",
     "shell.execute_reply": "2023-01-03T17:00:39.774466Z"
    },
    "papermill": {
     "duration": 576.676809,
     "end_time": "2023-01-03T17:00:39.788308",
     "exception": false,
     "start_time": "2023-01-03T16:51:03.111499",
     "status": "completed"
    },
    "tags": []
   },
   "outputs": [
    {
     "data": {
      "text/plain": [
       "0.9121368768235444"
      ]
     },
     "execution_count": 30,
     "metadata": {},
     "output_type": "execute_result"
    }
   ],
   "source": [
    "rfc = RandomForestClassifier()\n",
    "\n",
    "# Create a list of hyperparameters to tune\n",
    "param_grid = {'n_estimators': [10, 50, 100], 'max_depth': [None, 5, 10]}\n",
    "\n",
    "# Use GridSearchCV to tune the hyperparameters\n",
    "rf = GridSearchCV(rfc, param_grid, cv=5)\n",
    "rf.fit(x_train, y_train)\n",
    "rf.score(x_test,y_test)"
   ]
  },
  {
   "cell_type": "code",
   "execution_count": null,
   "id": "9a5c5fbf",
   "metadata": {
    "papermill": {
     "duration": 0.009694,
     "end_time": "2023-01-03T17:00:39.808039",
     "exception": false,
     "start_time": "2023-01-03T17:00:39.798345",
     "status": "completed"
    },
    "tags": []
   },
   "outputs": [],
   "source": []
  }
 ],
 "metadata": {
  "kernelspec": {
   "display_name": "Python 3",
   "language": "python",
   "name": "python3"
  },
  "language_info": {
   "codemirror_mode": {
    "name": "ipython",
    "version": 3
   },
   "file_extension": ".py",
   "mimetype": "text/x-python",
   "name": "python",
   "nbconvert_exporter": "python",
   "pygments_lexer": "ipython3",
   "version": "3.7.12"
  },
  "papermill": {
   "default_parameters": {},
   "duration": 889.97783,
   "end_time": "2023-01-03T17:00:40.845771",
   "environment_variables": {},
   "exception": null,
   "input_path": "__notebook__.ipynb",
   "output_path": "__notebook__.ipynb",
   "parameters": {},
   "start_time": "2023-01-03T16:45:50.867941",
   "version": "2.3.4"
  }
 },
 "nbformat": 4,
 "nbformat_minor": 5
}
