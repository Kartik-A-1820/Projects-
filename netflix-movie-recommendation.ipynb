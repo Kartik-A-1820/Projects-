{
 "cells": [
  {
   "cell_type": "code",
   "execution_count": 1,
   "id": "304e6e8c",
   "metadata": {
    "_cell_guid": "b1076dfc-b9ad-4769-8c92-a6c4dae69d19",
    "_uuid": "8f2839f25d086af736a60e9eeb907d3b93b6e0e5",
    "execution": {
     "iopub.execute_input": "2023-02-08T11:15:28.480819Z",
     "iopub.status.busy": "2023-02-08T11:15:28.480244Z",
     "iopub.status.idle": "2023-02-08T11:15:28.525566Z",
     "shell.execute_reply": "2023-02-08T11:15:28.523837Z"
    },
    "papermill": {
     "duration": 0.058962,
     "end_time": "2023-02-08T11:15:28.528843",
     "exception": false,
     "start_time": "2023-02-08T11:15:28.469881",
     "status": "completed"
    },
    "tags": []
   },
   "outputs": [
    {
     "name": "stdout",
     "output_type": "stream",
     "text": [
      "/kaggle/input/netflix-prize-data/combined_data_3.txt\n",
      "/kaggle/input/netflix-prize-data/movie_titles.csv\n",
      "/kaggle/input/netflix-prize-data/combined_data_4.txt\n",
      "/kaggle/input/netflix-prize-data/combined_data_1.txt\n",
      "/kaggle/input/netflix-prize-data/README\n",
      "/kaggle/input/netflix-prize-data/probe.txt\n",
      "/kaggle/input/netflix-prize-data/combined_data_2.txt\n",
      "/kaggle/input/netflix-prize-data/qualifying.txt\n"
     ]
    }
   ],
   "source": [
    "# This Python 3 environment comes with many helpful analytics libraries installed\n",
    "# It is defined by the kaggle/python Docker image: https://github.com/kaggle/docker-python\n",
    "# For example, here's several helpful packages to load\n",
    "\n",
    "import numpy as np # linear algebra\n",
    "import pandas as pd # data processing, CSV file I/O (e.g. pd.read_csv)\n",
    "\n",
    "# Input data files are available in the read-only \"../input/\" directory\n",
    "# For example, running this (by clicking run or pressing Shift+Enter) will list all files under the input directory\n",
    "\n",
    "import os\n",
    "for dirname, _, filenames in os.walk('/kaggle/input'):\n",
    "    for filename in filenames:\n",
    "        print(os.path.join(dirname, filename))\n",
    "\n",
    "# You can write up to 20GB to the current directory (/kaggle/working/) that gets preserved as output when you create a version using \"Save & Run All\" \n",
    "# You can also write temporary files to /kaggle/temp/, but they won't be saved outside of the current session"
   ]
  },
  {
   "cell_type": "code",
   "execution_count": 2,
   "id": "e2de4545",
   "metadata": {
    "execution": {
     "iopub.execute_input": "2023-02-08T11:15:28.547082Z",
     "iopub.status.busy": "2023-02-08T11:15:28.546684Z",
     "iopub.status.idle": "2023-02-08T11:15:30.071653Z",
     "shell.execute_reply": "2023-02-08T11:15:30.069641Z"
    },
    "papermill": {
     "duration": 1.537687,
     "end_time": "2023-02-08T11:15:30.074964",
     "exception": false,
     "start_time": "2023-02-08T11:15:28.537277",
     "status": "completed"
    },
    "tags": []
   },
   "outputs": [],
   "source": [
    "import warnings\n",
    "warnings.filterwarnings('ignore')\n",
    "\n",
    "from datetime import datetime\n",
    "\n",
    "import seaborn as sns\n",
    "import matplotlib.pyplot as plt\n",
    "%matplotlib inline\n",
    "\n",
    "import scipy\n",
    "from scipy import sparse\n",
    "from scipy.sparse import csr_matrix\n",
    "\n",
    "from sklearn.metrics.pairwise import cosine_similarity,cosine_distances\n",
    "\n",
    "from sklearn.decomposition import TruncatedSVD\n",
    "\n",
    "import random\n",
    "\n",
    "import os"
   ]
  },
  {
   "cell_type": "code",
   "execution_count": 3,
   "id": "c4068364",
   "metadata": {
    "execution": {
     "iopub.execute_input": "2023-02-08T11:15:30.092557Z",
     "iopub.status.busy": "2023-02-08T11:15:30.092163Z",
     "iopub.status.idle": "2023-02-08T11:15:30.097451Z",
     "shell.execute_reply": "2023-02-08T11:15:30.096217Z"
    },
    "papermill": {
     "duration": 0.017518,
     "end_time": "2023-02-08T11:15:30.100548",
     "exception": false,
     "start_time": "2023-02-08T11:15:30.083030",
     "status": "completed"
    },
    "tags": []
   },
   "outputs": [],
   "source": [
    "files = ['/kaggle/input/netflix-prize-data/combined_data_1.txt',\n",
    "        '/kaggle/input/netflix-prize-data/combined_data_2.txt',\n",
    "        '/kaggle/input/netflix-prize-data/combined_data_3.txt',\n",
    "        '/kaggle/input/netflix-prize-data/combined_data_4.txt']"
   ]
  },
  {
   "cell_type": "code",
   "execution_count": 4,
   "id": "f75ab21e",
   "metadata": {
    "execution": {
     "iopub.execute_input": "2023-02-08T11:15:30.117797Z",
     "iopub.status.busy": "2023-02-08T11:15:30.117197Z",
     "iopub.status.idle": "2023-02-08T11:18:08.272501Z",
     "shell.execute_reply": "2023-02-08T11:18:08.270894Z"
    },
    "papermill": {
     "duration": 158.176533,
     "end_time": "2023-02-08T11:18:08.284737",
     "exception": false,
     "start_time": "2023-02-08T11:15:30.108204",
     "status": "completed"
    },
    "tags": []
   },
   "outputs": [
    {
     "name": "stdout",
     "output_type": "stream",
     "text": [
      "Finished file 1\n",
      "Finished file 2\n",
      "Finished file 3\n",
      "Finished file 4\n"
     ]
    }
   ],
   "source": [
    "data = open('data.csv','w')\n",
    "row = list()\n",
    "i=1\n",
    "\n",
    "for file in files:\n",
    "    with open(file) as f:\n",
    "        for line in f:\n",
    "            line = line.strip()\n",
    "            if line.endswith(':'):\n",
    "                movie_id = line.replace(':','')\n",
    "            else:\n",
    "                row = [x for x in line.split(',')]\n",
    "                row.insert(0,movie_id)\n",
    "                data.write(','.join(row))\n",
    "                data.write('\\n')\n",
    "    print('Finished file {}'.format(i))\n",
    "    i+=1\n",
    "data.close()"
   ]
  },
  {
   "cell_type": "code",
   "execution_count": 5,
   "id": "3895acbe",
   "metadata": {
    "execution": {
     "iopub.execute_input": "2023-02-08T11:18:08.303110Z",
     "iopub.status.busy": "2023-02-08T11:18:08.302673Z",
     "iopub.status.idle": "2023-02-08T11:18:40.753246Z",
     "shell.execute_reply": "2023-02-08T11:18:40.749278Z"
    },
    "papermill": {
     "duration": 32.466754,
     "end_time": "2023-02-08T11:18:40.759870",
     "exception": false,
     "start_time": "2023-02-08T11:18:08.293116",
     "status": "completed"
    },
    "tags": []
   },
   "outputs": [],
   "source": [
    "df = pd.read_csv('/kaggle/working/data.csv',sep=',',names=['movie','user','rating','date'])"
   ]
  },
  {
   "cell_type": "code",
   "execution_count": 6,
   "id": "64a453a8",
   "metadata": {
    "execution": {
     "iopub.execute_input": "2023-02-08T11:18:40.783089Z",
     "iopub.status.busy": "2023-02-08T11:18:40.782549Z",
     "iopub.status.idle": "2023-02-08T11:18:40.954087Z",
     "shell.execute_reply": "2023-02-08T11:18:40.951946Z"
    },
    "papermill": {
     "duration": 0.185925,
     "end_time": "2023-02-08T11:18:40.957485",
     "exception": false,
     "start_time": "2023-02-08T11:18:40.771560",
     "status": "completed"
    },
    "tags": []
   },
   "outputs": [],
   "source": [
    "os.remove('/kaggle/working/data.csv')"
   ]
  },
  {
   "cell_type": "code",
   "execution_count": 7,
   "id": "df414790",
   "metadata": {
    "execution": {
     "iopub.execute_input": "2023-02-08T11:18:40.975884Z",
     "iopub.status.busy": "2023-02-08T11:18:40.975337Z",
     "iopub.status.idle": "2023-02-08T11:18:40.988479Z",
     "shell.execute_reply": "2023-02-08T11:18:40.986657Z"
    },
    "papermill": {
     "duration": 0.025623,
     "end_time": "2023-02-08T11:18:40.991232",
     "exception": false,
     "start_time": "2023-02-08T11:18:40.965609",
     "status": "completed"
    },
    "tags": []
   },
   "outputs": [
    {
     "data": {
      "text/plain": [
       "Index(['movie', 'user', 'rating', 'date'], dtype='object')"
      ]
     },
     "execution_count": 7,
     "metadata": {},
     "output_type": "execute_result"
    }
   ],
   "source": [
    "df.columns\n"
   ]
  },
  {
   "cell_type": "code",
   "execution_count": 8,
   "id": "8641522e",
   "metadata": {
    "execution": {
     "iopub.execute_input": "2023-02-08T11:18:41.009699Z",
     "iopub.status.busy": "2023-02-08T11:18:41.009211Z",
     "iopub.status.idle": "2023-02-08T11:23:14.388854Z",
     "shell.execute_reply": "2023-02-08T11:23:14.387427Z"
    },
    "papermill": {
     "duration": 273.393323,
     "end_time": "2023-02-08T11:23:14.392721",
     "exception": false,
     "start_time": "2023-02-08T11:18:40.999398",
     "status": "completed"
    },
    "tags": []
   },
   "outputs": [],
   "source": [
    "df.sort_values(by=['date'],inplace=True,ignore_index=True)"
   ]
  },
  {
   "cell_type": "code",
   "execution_count": 9,
   "id": "335e8fb2",
   "metadata": {
    "execution": {
     "iopub.execute_input": "2023-02-08T11:23:14.411574Z",
     "iopub.status.busy": "2023-02-08T11:23:14.411034Z",
     "iopub.status.idle": "2023-02-08T11:23:55.330719Z",
     "shell.execute_reply": "2023-02-08T11:23:55.329528Z"
    },
    "papermill": {
     "duration": 40.940234,
     "end_time": "2023-02-08T11:23:55.341443",
     "exception": false,
     "start_time": "2023-02-08T11:23:14.401209",
     "status": "completed"
    },
    "tags": []
   },
   "outputs": [
    {
     "data": {
      "text/plain": [
       "0"
      ]
     },
     "execution_count": 9,
     "metadata": {},
     "output_type": "execute_result"
    }
   ],
   "source": [
    "df.duplicated().sum()"
   ]
  },
  {
   "cell_type": "code",
   "execution_count": 10,
   "id": "bb55f889",
   "metadata": {
    "execution": {
     "iopub.execute_input": "2023-02-08T11:23:55.360481Z",
     "iopub.status.busy": "2023-02-08T11:23:55.359906Z",
     "iopub.status.idle": "2023-02-08T11:23:59.404184Z",
     "shell.execute_reply": "2023-02-08T11:23:59.402380Z"
    },
    "papermill": {
     "duration": 4.057747,
     "end_time": "2023-02-08T11:23:59.407450",
     "exception": false,
     "start_time": "2023-02-08T11:23:55.349703",
     "status": "completed"
    },
    "tags": []
   },
   "outputs": [
    {
     "data": {
      "text/plain": [
       "movie     0\n",
       "user      0\n",
       "rating    0\n",
       "date      0\n",
       "dtype: int64"
      ]
     },
     "execution_count": 10,
     "metadata": {},
     "output_type": "execute_result"
    }
   ],
   "source": [
    "df.isnull().sum()"
   ]
  },
  {
   "cell_type": "code",
   "execution_count": 11,
   "id": "db95c561",
   "metadata": {
    "execution": {
     "iopub.execute_input": "2023-02-08T11:23:59.427889Z",
     "iopub.status.busy": "2023-02-08T11:23:59.427169Z",
     "iopub.status.idle": "2023-02-08T11:23:59.449386Z",
     "shell.execute_reply": "2023-02-08T11:23:59.447797Z"
    },
    "papermill": {
     "duration": 0.036086,
     "end_time": "2023-02-08T11:23:59.452097",
     "exception": false,
     "start_time": "2023-02-08T11:23:59.416011",
     "status": "completed"
    },
    "tags": []
   },
   "outputs": [
    {
     "data": {
      "text/html": [
       "<div>\n",
       "<style scoped>\n",
       "    .dataframe tbody tr th:only-of-type {\n",
       "        vertical-align: middle;\n",
       "    }\n",
       "\n",
       "    .dataframe tbody tr th {\n",
       "        vertical-align: top;\n",
       "    }\n",
       "\n",
       "    .dataframe thead th {\n",
       "        text-align: right;\n",
       "    }\n",
       "</style>\n",
       "<table border=\"1\" class=\"dataframe\">\n",
       "  <thead>\n",
       "    <tr style=\"text-align: right;\">\n",
       "      <th></th>\n",
       "      <th>movie</th>\n",
       "      <th>user</th>\n",
       "      <th>rating</th>\n",
       "      <th>date</th>\n",
       "    </tr>\n",
       "  </thead>\n",
       "  <tbody>\n",
       "    <tr>\n",
       "      <th>0</th>\n",
       "      <td>10341</td>\n",
       "      <td>510180</td>\n",
       "      <td>4</td>\n",
       "      <td>1999-11-11</td>\n",
       "    </tr>\n",
       "    <tr>\n",
       "      <th>1</th>\n",
       "      <td>1798</td>\n",
       "      <td>510180</td>\n",
       "      <td>5</td>\n",
       "      <td>1999-11-11</td>\n",
       "    </tr>\n",
       "    <tr>\n",
       "      <th>2</th>\n",
       "      <td>10774</td>\n",
       "      <td>510180</td>\n",
       "      <td>3</td>\n",
       "      <td>1999-11-11</td>\n",
       "    </tr>\n",
       "    <tr>\n",
       "      <th>3</th>\n",
       "      <td>8651</td>\n",
       "      <td>510180</td>\n",
       "      <td>2</td>\n",
       "      <td>1999-11-11</td>\n",
       "    </tr>\n",
       "    <tr>\n",
       "      <th>4</th>\n",
       "      <td>14660</td>\n",
       "      <td>510180</td>\n",
       "      <td>2</td>\n",
       "      <td>1999-11-11</td>\n",
       "    </tr>\n",
       "  </tbody>\n",
       "</table>\n",
       "</div>"
      ],
      "text/plain": [
       "   movie    user  rating        date\n",
       "0  10341  510180       4  1999-11-11\n",
       "1   1798  510180       5  1999-11-11\n",
       "2  10774  510180       3  1999-11-11\n",
       "3   8651  510180       2  1999-11-11\n",
       "4  14660  510180       2  1999-11-11"
      ]
     },
     "execution_count": 11,
     "metadata": {},
     "output_type": "execute_result"
    }
   ],
   "source": [
    "df.head()"
   ]
  },
  {
   "cell_type": "code",
   "execution_count": 12,
   "id": "a3fa0b23",
   "metadata": {
    "execution": {
     "iopub.execute_input": "2023-02-08T11:23:59.471653Z",
     "iopub.status.busy": "2023-02-08T11:23:59.470666Z",
     "iopub.status.idle": "2023-02-08T11:23:59.480779Z",
     "shell.execute_reply": "2023-02-08T11:23:59.478937Z"
    },
    "papermill": {
     "duration": 0.023378,
     "end_time": "2023-02-08T11:23:59.484040",
     "exception": false,
     "start_time": "2023-02-08T11:23:59.460662",
     "status": "completed"
    },
    "tags": []
   },
   "outputs": [],
   "source": [
    "def create_train_test(df):\n",
    "    if not os.path.isfile('/kaggle/working/train.csv'):\n",
    "        df.iloc[:int(df.shape[0]*0.8)].to_csv('/kaggle/working/train.csv')\n",
    "    if not os.path.isfile('/kaggle/working/data.csv/test.csv'):\n",
    "        df.iloc[int(df.shape[0]*0.8):].to_csv('/kaggle/working/test.csv')\n",
    "        "
   ]
  },
  {
   "cell_type": "code",
   "execution_count": 13,
   "id": "5663f8d5",
   "metadata": {
    "execution": {
     "iopub.execute_input": "2023-02-08T11:23:59.504060Z",
     "iopub.status.busy": "2023-02-08T11:23:59.503499Z",
     "iopub.status.idle": "2023-02-08T11:26:55.614129Z",
     "shell.execute_reply": "2023-02-08T11:26:55.612012Z"
    },
    "papermill": {
     "duration": 176.124889,
     "end_time": "2023-02-08T11:26:55.617691",
     "exception": false,
     "start_time": "2023-02-08T11:23:59.492802",
     "status": "completed"
    },
    "tags": []
   },
   "outputs": [],
   "source": [
    "create_train_test(df)\n",
    "del df"
   ]
  },
  {
   "cell_type": "code",
   "execution_count": 14,
   "id": "ff39b372",
   "metadata": {
    "execution": {
     "iopub.execute_input": "2023-02-08T11:26:55.639576Z",
     "iopub.status.busy": "2023-02-08T11:26:55.638184Z",
     "iopub.status.idle": "2023-02-08T11:27:38.346240Z",
     "shell.execute_reply": "2023-02-08T11:27:38.344597Z"
    },
    "papermill": {
     "duration": 42.723,
     "end_time": "2023-02-08T11:27:38.349604",
     "exception": false,
     "start_time": "2023-02-08T11:26:55.626604",
     "status": "completed"
    },
    "tags": []
   },
   "outputs": [],
   "source": [
    "train = pd.read_csv('/kaggle/working/train.csv',parse_dates=['date'])\n",
    "os.remove('/kaggle/working/train.csv')\n",
    "test = pd.read_csv('/kaggle/working/test.csv')\n",
    "os.remove('/kaggle/working/test.csv')"
   ]
  },
  {
   "cell_type": "code",
   "execution_count": 15,
   "id": "34b36ac7",
   "metadata": {
    "execution": {
     "iopub.execute_input": "2023-02-08T11:27:38.369434Z",
     "iopub.status.busy": "2023-02-08T11:27:38.368416Z",
     "iopub.status.idle": "2023-02-08T11:27:39.019523Z",
     "shell.execute_reply": "2023-02-08T11:27:39.017352Z"
    },
    "papermill": {
     "duration": 0.664517,
     "end_time": "2023-02-08T11:27:39.022914",
     "exception": false,
     "start_time": "2023-02-08T11:27:38.358397",
     "status": "completed"
    },
    "tags": []
   },
   "outputs": [],
   "source": [
    "train.drop('date',1,inplace=True)\n",
    "test.drop('date',1,inplace = True)"
   ]
  },
  {
   "cell_type": "code",
   "execution_count": 16,
   "id": "497e141d",
   "metadata": {
    "execution": {
     "iopub.execute_input": "2023-02-08T11:27:39.043170Z",
     "iopub.status.busy": "2023-02-08T11:27:39.041547Z",
     "iopub.status.idle": "2023-02-08T11:27:39.059075Z",
     "shell.execute_reply": "2023-02-08T11:27:39.057028Z"
    },
    "papermill": {
     "duration": 0.030619,
     "end_time": "2023-02-08T11:27:39.061829",
     "exception": false,
     "start_time": "2023-02-08T11:27:39.031210",
     "status": "completed"
    },
    "tags": []
   },
   "outputs": [
    {
     "data": {
      "text/html": [
       "<div>\n",
       "<style scoped>\n",
       "    .dataframe tbody tr th:only-of-type {\n",
       "        vertical-align: middle;\n",
       "    }\n",
       "\n",
       "    .dataframe tbody tr th {\n",
       "        vertical-align: top;\n",
       "    }\n",
       "\n",
       "    .dataframe thead th {\n",
       "        text-align: right;\n",
       "    }\n",
       "</style>\n",
       "<table border=\"1\" class=\"dataframe\">\n",
       "  <thead>\n",
       "    <tr style=\"text-align: right;\">\n",
       "      <th></th>\n",
       "      <th>Unnamed: 0</th>\n",
       "      <th>movie</th>\n",
       "      <th>user</th>\n",
       "      <th>rating</th>\n",
       "    </tr>\n",
       "  </thead>\n",
       "  <tbody>\n",
       "    <tr>\n",
       "      <th>0</th>\n",
       "      <td>0</td>\n",
       "      <td>10341</td>\n",
       "      <td>510180</td>\n",
       "      <td>4</td>\n",
       "    </tr>\n",
       "    <tr>\n",
       "      <th>1</th>\n",
       "      <td>1</td>\n",
       "      <td>1798</td>\n",
       "      <td>510180</td>\n",
       "      <td>5</td>\n",
       "    </tr>\n",
       "    <tr>\n",
       "      <th>2</th>\n",
       "      <td>2</td>\n",
       "      <td>10774</td>\n",
       "      <td>510180</td>\n",
       "      <td>3</td>\n",
       "    </tr>\n",
       "    <tr>\n",
       "      <th>3</th>\n",
       "      <td>3</td>\n",
       "      <td>8651</td>\n",
       "      <td>510180</td>\n",
       "      <td>2</td>\n",
       "    </tr>\n",
       "    <tr>\n",
       "      <th>4</th>\n",
       "      <td>4</td>\n",
       "      <td>14660</td>\n",
       "      <td>510180</td>\n",
       "      <td>2</td>\n",
       "    </tr>\n",
       "  </tbody>\n",
       "</table>\n",
       "</div>"
      ],
      "text/plain": [
       "   Unnamed: 0  movie    user  rating\n",
       "0           0  10341  510180       4\n",
       "1           1   1798  510180       5\n",
       "2           2  10774  510180       3\n",
       "3           3   8651  510180       2\n",
       "4           4  14660  510180       2"
      ]
     },
     "execution_count": 16,
     "metadata": {},
     "output_type": "execute_result"
    }
   ],
   "source": [
    "train.head()"
   ]
  },
  {
   "cell_type": "code",
   "execution_count": 17,
   "id": "ebe99a0b",
   "metadata": {
    "execution": {
     "iopub.execute_input": "2023-02-08T11:27:39.080963Z",
     "iopub.status.busy": "2023-02-08T11:27:39.080449Z",
     "iopub.status.idle": "2023-02-08T11:27:39.968255Z",
     "shell.execute_reply": "2023-02-08T11:27:39.967449Z"
    },
    "papermill": {
     "duration": 0.900477,
     "end_time": "2023-02-08T11:27:39.970770",
     "exception": false,
     "start_time": "2023-02-08T11:27:39.070293",
     "status": "completed"
    },
    "tags": []
   },
   "outputs": [
    {
     "data": {
      "image/png": "[encoded data removed]",
      "text/plain": [
       "<Figure size 1080x576 with 1 Axes>"
      ]
     },
     "metadata": {
      "needs_background": "light"
     },
     "output_type": "display_data"
    }
   ],
   "source": [
    "c = train['rating'].value_counts()\n",
    "\n",
    "plt.figure(figsize=(15,8))\n",
    "ax = plt.bar(c.index,c.values)\n",
    "plt.bar_label(ax,c.values)\n",
    "plt.title('Rating distribution')\n",
    "plt.xlabel('Rating index')\n",
    "plt.ylabel('Numbers')\n",
    "plt.show()"
   ]
  },
  {
   "cell_type": "markdown",
   "id": "30ebdb7d",
   "metadata": {
    "papermill": {
     "duration": 0.008379,
     "end_time": "2023-02-08T11:27:39.988030",
     "exception": false,
     "start_time": "2023-02-08T11:27:39.979651",
     "status": "completed"
    },
    "tags": []
   },
   "source": [
    "* Most of the ratingds are positive and 3-4."
   ]
  },
  {
   "cell_type": "code",
   "execution_count": 18,
   "id": "e807088b",
   "metadata": {
    "execution": {
     "iopub.execute_input": "2023-02-08T11:27:40.009307Z",
     "iopub.status.busy": "2023-02-08T11:27:40.007537Z",
     "iopub.status.idle": "2023-02-08T11:27:43.649200Z",
     "shell.execute_reply": "2023-02-08T11:27:43.646944Z"
    },
    "papermill": {
     "duration": 3.654601,
     "end_time": "2023-02-08T11:27:43.651394",
     "exception": false,
     "start_time": "2023-02-08T11:27:39.996793",
     "status": "completed"
    },
    "tags": []
   },
   "outputs": [
    {
     "data": {
      "text/plain": [
       "{305344: 17112, 2439493: 15896, 387418: 15402, 1639792: 9767, 1461435: 9447}"
      ]
     },
     "execution_count": 18,
     "metadata": {},
     "output_type": "execute_result"
    }
   ],
   "source": [
    "g = train.groupby('user')['rating'].count()\n",
    "g = dict( sorted(g.items(), key=lambda x:x[1] ,reverse=True)[0:5])\n",
    "g\n"
   ]
  },
  {
   "cell_type": "markdown",
   "id": "81d317d6",
   "metadata": {
    "papermill": {
     "duration": 0.009988,
     "end_time": "2023-02-08T11:27:43.671792",
     "exception": false,
     "start_time": "2023-02-08T11:27:43.661804",
     "status": "completed"
    },
    "tags": []
   },
   "source": [
    "# Creating sparse-matrix"
   ]
  },
  {
   "cell_type": "code",
   "execution_count": 19,
   "id": "b7ada80f",
   "metadata": {
    "execution": {
     "iopub.execute_input": "2023-02-08T11:27:43.693347Z",
     "iopub.status.busy": "2023-02-08T11:27:43.692061Z",
     "iopub.status.idle": "2023-02-08T11:27:52.243150Z",
     "shell.execute_reply": "2023-02-08T11:27:52.240759Z"
    },
    "papermill": {
     "duration": 8.56594,
     "end_time": "2023-02-08T11:27:52.246978",
     "exception": false,
     "start_time": "2023-02-08T11:27:43.681038",
     "status": "completed"
    },
    "tags": []
   },
   "outputs": [],
   "source": [
    "sparse_train = sparse.csr_matrix((train.rating.values,(train.user.values,train.movie.values)),)"
   ]
  },
  {
   "cell_type": "code",
   "execution_count": 20,
   "id": "ef27c99e",
   "metadata": {
    "execution": {
     "iopub.execute_input": "2023-02-08T11:27:52.267660Z",
     "iopub.status.busy": "2023-02-08T11:27:52.267143Z",
     "iopub.status.idle": "2023-02-08T11:27:52.276148Z",
     "shell.execute_reply": "2023-02-08T11:27:52.274073Z"
    },
    "papermill": {
     "duration": 0.023741,
     "end_time": "2023-02-08T11:27:52.280003",
     "exception": false,
     "start_time": "2023-02-08T11:27:52.256262",
     "status": "completed"
    },
    "tags": []
   },
   "outputs": [
    {
     "name": "stdout",
     "output_type": "stream",
     "text": [
      "(2649430, 17771)\n"
     ]
    }
   ],
   "source": [
    "print(sparse_train.shape)"
   ]
  },
  {
   "cell_type": "markdown",
   "id": "cf465f0a",
   "metadata": {
    "papermill": {
     "duration": 0.008498,
     "end_time": "2023-02-08T11:27:52.297544",
     "exception": false,
     "start_time": "2023-02-08T11:27:52.289046",
     "status": "completed"
    },
    "tags": []
   },
   "source": [
    "# Movie-Movie Similarity matrix  "
   ]
  },
  {
   "cell_type": "code",
   "execution_count": 21,
   "id": "2da08011",
   "metadata": {
    "execution": {
     "iopub.execute_input": "2023-02-08T11:27:52.317744Z",
     "iopub.status.busy": "2023-02-08T11:27:52.317100Z",
     "iopub.status.idle": "2023-02-08T11:32:40.540294Z",
     "shell.execute_reply": "2023-02-08T11:32:40.537916Z"
    },
    "papermill": {
     "duration": 288.23833,
     "end_time": "2023-02-08T11:32:40.544513",
     "exception": false,
     "start_time": "2023-02-08T11:27:52.306183",
     "status": "completed"
    },
    "tags": []
   },
   "outputs": [],
   "source": [
    "sim = cosine_similarity(X=sparse_train.T,dense_output=False)"
   ]
  },
  {
   "cell_type": "code",
   "execution_count": 22,
   "id": "43b0f23d",
   "metadata": {
    "execution": {
     "iopub.execute_input": "2023-02-08T11:32:40.565880Z",
     "iopub.status.busy": "2023-02-08T11:32:40.565336Z",
     "iopub.status.idle": "2023-02-08T11:32:55.444416Z",
     "shell.execute_reply": "2023-02-08T11:32:55.442297Z"
    },
    "papermill": {
     "duration": 14.892848,
     "end_time": "2023-02-08T11:32:55.446943",
     "exception": false,
     "start_time": "2023-02-08T11:32:40.554095",
     "status": "completed"
    },
    "tags": []
   },
   "outputs": [
    {
     "data": {
      "text/plain": [
       "array([1, 2, 3, 4, 5], dtype=int32)"
      ]
     },
     "execution_count": 22,
     "metadata": {},
     "output_type": "execute_result"
    }
   ],
   "source": [
    "movie_ids = np.unique(sim.nonzero()[1])\n",
    "movie_ids[0:5]"
   ]
  },
  {
   "cell_type": "code",
   "execution_count": 23,
   "id": "a969ca53",
   "metadata": {
    "execution": {
     "iopub.execute_input": "2023-02-08T11:32:55.467606Z",
     "iopub.status.busy": "2023-02-08T11:32:55.467117Z",
     "iopub.status.idle": "2023-02-08T11:32:55.475405Z",
     "shell.execute_reply": "2023-02-08T11:32:55.473879Z"
    },
    "papermill": {
     "duration": 0.021586,
     "end_time": "2023-02-08T11:32:55.478108",
     "exception": false,
     "start_time": "2023-02-08T11:32:55.456522",
     "status": "completed"
    },
    "tags": []
   },
   "outputs": [
    {
     "data": {
      "text/plain": [
       "(17771, 17771)"
      ]
     },
     "execution_count": 23,
     "metadata": {},
     "output_type": "execute_result"
    }
   ],
   "source": [
    "sim.shape"
   ]
  },
  {
   "cell_type": "code",
   "execution_count": 24,
   "id": "a363d85f",
   "metadata": {
    "execution": {
     "iopub.execute_input": "2023-02-08T11:32:55.498764Z",
     "iopub.status.busy": "2023-02-08T11:32:55.498195Z",
     "iopub.status.idle": "2023-02-08T11:33:30.031147Z",
     "shell.execute_reply": "2023-02-08T11:33:30.029018Z"
    },
    "papermill": {
     "duration": 34.547416,
     "end_time": "2023-02-08T11:33:30.034658",
     "exception": false,
     "start_time": "2023-02-08T11:32:55.487242",
     "status": "completed"
    },
    "tags": []
   },
   "outputs": [],
   "source": [
    "similar_movies = dict()\n",
    "for i in movie_ids:\n",
    "    sim_movies = sim[i].toarray().ravel().argsort()[::-1][1:]\n",
    "    similar_movies[i] = sim_movies[0:20]"
   ]
  },
  {
   "cell_type": "code",
   "execution_count": 25,
   "id": "3bc3ede3",
   "metadata": {
    "execution": {
     "iopub.execute_input": "2023-02-08T11:33:30.057135Z",
     "iopub.status.busy": "2023-02-08T11:33:30.056502Z",
     "iopub.status.idle": "2023-02-08T11:33:30.069308Z",
     "shell.execute_reply": "2023-02-08T11:33:30.066509Z"
    },
    "papermill": {
     "duration": 0.027757,
     "end_time": "2023-02-08T11:33:30.072878",
     "exception": false,
     "start_time": "2023-02-08T11:33:30.045121",
     "status": "completed"
    },
    "tags": []
   },
   "outputs": [
    {
     "data": {
      "text/plain": [
       "array([ 8279,  8013, 16528,  5927, 13105, 12049,  4424, 10193, 17590,\n",
       "        4549,  3755,   590, 14059, 15144, 15054,  9584,  9071,  6349,\n",
       "       16402,  3973])"
      ]
     },
     "execution_count": 25,
     "metadata": {},
     "output_type": "execute_result"
    }
   ],
   "source": [
    "similar_movies[15]"
   ]
  },
  {
   "cell_type": "code",
   "execution_count": 26,
   "id": "c211a3de",
   "metadata": {
    "execution": {
     "iopub.execute_input": "2023-02-08T11:33:30.094135Z",
     "iopub.status.busy": "2023-02-08T11:33:30.093653Z",
     "iopub.status.idle": "2023-02-08T11:33:30.167609Z",
     "shell.execute_reply": "2023-02-08T11:33:30.165298Z"
    },
    "papermill": {
     "duration": 0.088255,
     "end_time": "2023-02-08T11:33:30.170707",
     "exception": false,
     "start_time": "2023-02-08T11:33:30.082452",
     "status": "completed"
    },
    "tags": []
   },
   "outputs": [],
   "source": [
    "names=pd.read_csv('/kaggle/input/netflix-prize-data/movie_titles.csv',sep=',',names=['movie_id','year','title'],index_col='movie_id',encoding='ISO-8859-1')"
   ]
  },
  {
   "cell_type": "code",
   "execution_count": 27,
   "id": "b53fa991",
   "metadata": {
    "execution": {
     "iopub.execute_input": "2023-02-08T11:33:30.192893Z",
     "iopub.status.busy": "2023-02-08T11:33:30.192365Z",
     "iopub.status.idle": "2023-02-08T11:33:30.205539Z",
     "shell.execute_reply": "2023-02-08T11:33:30.204143Z"
    },
    "papermill": {
     "duration": 0.028685,
     "end_time": "2023-02-08T11:33:30.208862",
     "exception": false,
     "start_time": "2023-02-08T11:33:30.180177",
     "status": "completed"
    },
    "tags": []
   },
   "outputs": [
    {
     "data": {
      "text/html": [
       "<div>\n",
       "<style scoped>\n",
       "    .dataframe tbody tr th:only-of-type {\n",
       "        vertical-align: middle;\n",
       "    }\n",
       "\n",
       "    .dataframe tbody tr th {\n",
       "        vertical-align: top;\n",
       "    }\n",
       "\n",
       "    .dataframe thead th {\n",
       "        text-align: right;\n",
       "    }\n",
       "</style>\n",
       "<table border=\"1\" class=\"dataframe\">\n",
       "  <thead>\n",
       "    <tr style=\"text-align: right;\">\n",
       "      <th></th>\n",
       "      <th>year</th>\n",
       "      <th>title</th>\n",
       "    </tr>\n",
       "    <tr>\n",
       "      <th>movie_id</th>\n",
       "      <th></th>\n",
       "      <th></th>\n",
       "    </tr>\n",
       "  </thead>\n",
       "  <tbody>\n",
       "    <tr>\n",
       "      <th>1</th>\n",
       "      <td>2003.0</td>\n",
       "      <td>Dinosaur Planet</td>\n",
       "    </tr>\n",
       "    <tr>\n",
       "      <th>2</th>\n",
       "      <td>2004.0</td>\n",
       "      <td>Isle of Man TT 2004 Review</td>\n",
       "    </tr>\n",
       "    <tr>\n",
       "      <th>3</th>\n",
       "      <td>1997.0</td>\n",
       "      <td>Character</td>\n",
       "    </tr>\n",
       "    <tr>\n",
       "      <th>4</th>\n",
       "      <td>1994.0</td>\n",
       "      <td>Paula Abdul's Get Up &amp; Dance</td>\n",
       "    </tr>\n",
       "    <tr>\n",
       "      <th>5</th>\n",
       "      <td>2004.0</td>\n",
       "      <td>The Rise and Fall of ECW</td>\n",
       "    </tr>\n",
       "  </tbody>\n",
       "</table>\n",
       "</div>"
      ],
      "text/plain": [
       "            year                         title\n",
       "movie_id                                      \n",
       "1         2003.0               Dinosaur Planet\n",
       "2         2004.0    Isle of Man TT 2004 Review\n",
       "3         1997.0                     Character\n",
       "4         1994.0  Paula Abdul's Get Up & Dance\n",
       "5         2004.0      The Rise and Fall of ECW"
      ]
     },
     "execution_count": 27,
     "metadata": {},
     "output_type": "execute_result"
    }
   ],
   "source": [
    "names.head()"
   ]
  },
  {
   "cell_type": "markdown",
   "id": "3c5b3bc8",
   "metadata": {
    "papermill": {
     "duration": 0.010139,
     "end_time": "2023-02-08T11:33:30.229904",
     "exception": false,
     "start_time": "2023-02-08T11:33:30.219765",
     "status": "completed"
    },
    "tags": []
   },
   "source": [
    "# Results"
   ]
  },
  {
   "cell_type": "code",
   "execution_count": 28,
   "id": "6568fef2",
   "metadata": {
    "execution": {
     "iopub.execute_input": "2023-02-08T11:33:30.257223Z",
     "iopub.status.busy": "2023-02-08T11:33:30.254770Z",
     "iopub.status.idle": "2023-02-08T11:33:30.269489Z",
     "shell.execute_reply": "2023-02-08T11:33:30.265343Z"
    },
    "papermill": {
     "duration": 0.037584,
     "end_time": "2023-02-08T11:33:30.278999",
     "exception": false,
     "start_time": "2023-02-08T11:33:30.241415",
     "status": "completed"
    },
    "tags": []
   },
   "outputs": [
    {
     "data": {
      "text/plain": [
       "year              2003.0\n",
       "title    Dinosaur Planet\n",
       "Name: 1, dtype: object"
      ]
     },
     "execution_count": 28,
     "metadata": {},
     "output_type": "execute_result"
    }
   ],
   "source": [
    "names.loc[1]"
   ]
  },
  {
   "cell_type": "markdown",
   "id": "158251a3",
   "metadata": {
    "papermill": {
     "duration": 0.009572,
     "end_time": "2023-02-08T11:33:30.302486",
     "exception": false,
     "start_time": "2023-02-08T11:33:30.292914",
     "status": "completed"
    },
    "tags": []
   },
   "source": [
    "# Similar movies to Dinosaur Planet "
   ]
  },
  {
   "cell_type": "code",
   "execution_count": 29,
   "id": "d3d401fa",
   "metadata": {
    "execution": {
     "iopub.execute_input": "2023-02-08T11:33:30.323872Z",
     "iopub.status.busy": "2023-02-08T11:33:30.323317Z",
     "iopub.status.idle": "2023-02-08T11:33:30.340706Z",
     "shell.execute_reply": "2023-02-08T11:33:30.338768Z"
    },
    "papermill": {
     "duration": 0.032206,
     "end_time": "2023-02-08T11:33:30.344097",
     "exception": false,
     "start_time": "2023-02-08T11:33:30.311891",
     "status": "completed"
    },
    "tags": []
   },
   "outputs": [
    {
     "data": {
      "text/html": [
       "<div>\n",
       "<style scoped>\n",
       "    .dataframe tbody tr th:only-of-type {\n",
       "        vertical-align: middle;\n",
       "    }\n",
       "\n",
       "    .dataframe tbody tr th {\n",
       "        vertical-align: top;\n",
       "    }\n",
       "\n",
       "    .dataframe thead th {\n",
       "        text-align: right;\n",
       "    }\n",
       "</style>\n",
       "<table border=\"1\" class=\"dataframe\">\n",
       "  <thead>\n",
       "    <tr style=\"text-align: right;\">\n",
       "      <th></th>\n",
       "      <th>year</th>\n",
       "      <th>title</th>\n",
       "    </tr>\n",
       "    <tr>\n",
       "      <th>movie_id</th>\n",
       "      <th></th>\n",
       "      <th></th>\n",
       "    </tr>\n",
       "  </thead>\n",
       "  <tbody>\n",
       "    <tr>\n",
       "      <th>694</th>\n",
       "      <td>2000.0</td>\n",
       "      <td>When Dinosaurs Roamed America</td>\n",
       "    </tr>\n",
       "    <tr>\n",
       "      <th>5302</th>\n",
       "      <td>2003.0</td>\n",
       "      <td>Chased by Dinosaurs: Three Walking with Dinosa...</td>\n",
       "    </tr>\n",
       "    <tr>\n",
       "      <th>1084</th>\n",
       "      <td>2001.0</td>\n",
       "      <td>Walking with Prehistoric Beasts</td>\n",
       "    </tr>\n",
       "    <tr>\n",
       "      <th>13586</th>\n",
       "      <td>2001.0</td>\n",
       "      <td>Allosaurus: A Walking with Dinosaurs Special</td>\n",
       "    </tr>\n",
       "    <tr>\n",
       "      <th>1173</th>\n",
       "      <td>1999.0</td>\n",
       "      <td>Walking with Dinosaurs</td>\n",
       "    </tr>\n",
       "    <tr>\n",
       "      <th>4181</th>\n",
       "      <td>2003.0</td>\n",
       "      <td>Walking with Cavemen</td>\n",
       "    </tr>\n",
       "    <tr>\n",
       "      <th>8800</th>\n",
       "      <td>2003.0</td>\n",
       "      <td>Prehistoric America: A Journey Through the Ice...</td>\n",
       "    </tr>\n",
       "    <tr>\n",
       "      <th>10656</th>\n",
       "      <td>2003.0</td>\n",
       "      <td>Before We Ruled the Earth: Mastering the Beasts</td>\n",
       "    </tr>\n",
       "    <tr>\n",
       "      <th>15648</th>\n",
       "      <td>2002.0</td>\n",
       "      <td>National Geographic: Dinosaur Hunters: Secrets...</td>\n",
       "    </tr>\n",
       "    <tr>\n",
       "      <th>10257</th>\n",
       "      <td>2002.0</td>\n",
       "      <td>Prehistoric Planet: The Complete Dino Dynasty</td>\n",
       "    </tr>\n",
       "    <tr>\n",
       "      <th>15100</th>\n",
       "      <td>2003.0</td>\n",
       "      <td>Before We Ruled the Earth: Hunt or Be Hunted</td>\n",
       "    </tr>\n",
       "    <tr>\n",
       "      <th>10495</th>\n",
       "      <td>2000.0</td>\n",
       "      <td>Land of the Mammoth</td>\n",
       "    </tr>\n",
       "    <tr>\n",
       "      <th>16892</th>\n",
       "      <td>2003.0</td>\n",
       "      <td>The Future is Wild</td>\n",
       "    </tr>\n",
       "    <tr>\n",
       "      <th>8408</th>\n",
       "      <td>2002.0</td>\n",
       "      <td>National Geographic: Super Croc</td>\n",
       "    </tr>\n",
       "    <tr>\n",
       "      <th>7302</th>\n",
       "      <td>2001.0</td>\n",
       "      <td>The Blue Planet: Seas of Life: Seasonal Seas -...</td>\n",
       "    </tr>\n",
       "    <tr>\n",
       "      <th>11914</th>\n",
       "      <td>2001.0</td>\n",
       "      <td>The Blue Planet: Seas of Life: Tidal Seas - Co...</td>\n",
       "    </tr>\n",
       "    <tr>\n",
       "      <th>12125</th>\n",
       "      <td>2001.0</td>\n",
       "      <td>The Blue Planet: Seas of Life: Open Ocean - Th...</td>\n",
       "    </tr>\n",
       "    <tr>\n",
       "      <th>3029</th>\n",
       "      <td>1998.0</td>\n",
       "      <td>T-Rex: Back to the Cretaceous: IMAX</td>\n",
       "    </tr>\n",
       "    <tr>\n",
       "      <th>14182</th>\n",
       "      <td>2002.0</td>\n",
       "      <td>Air Jaws 1 and 2: Sharks of South Africa</td>\n",
       "    </tr>\n",
       "    <tr>\n",
       "      <th>8664</th>\n",
       "      <td>2001.0</td>\n",
       "      <td>The Blue Planet: Seas of Life: Ocean World - F...</td>\n",
       "    </tr>\n",
       "  </tbody>\n",
       "</table>\n",
       "</div>"
      ],
      "text/plain": [
       "            year                                              title\n",
       "movie_id                                                           \n",
       "694       2000.0                      When Dinosaurs Roamed America\n",
       "5302      2003.0  Chased by Dinosaurs: Three Walking with Dinosa...\n",
       "1084      2001.0                    Walking with Prehistoric Beasts\n",
       "13586     2001.0       Allosaurus: A Walking with Dinosaurs Special\n",
       "1173      1999.0                             Walking with Dinosaurs\n",
       "4181      2003.0                               Walking with Cavemen\n",
       "8800      2003.0  Prehistoric America: A Journey Through the Ice...\n",
       "10656     2003.0    Before We Ruled the Earth: Mastering the Beasts\n",
       "15648     2002.0  National Geographic: Dinosaur Hunters: Secrets...\n",
       "10257     2002.0      Prehistoric Planet: The Complete Dino Dynasty\n",
       "15100     2003.0       Before We Ruled the Earth: Hunt or Be Hunted\n",
       "10495     2000.0                                Land of the Mammoth\n",
       "16892     2003.0                                 The Future is Wild\n",
       "8408      2002.0                    National Geographic: Super Croc\n",
       "7302      2001.0  The Blue Planet: Seas of Life: Seasonal Seas -...\n",
       "11914     2001.0  The Blue Planet: Seas of Life: Tidal Seas - Co...\n",
       "12125     2001.0  The Blue Planet: Seas of Life: Open Ocean - Th...\n",
       "3029      1998.0                T-Rex: Back to the Cretaceous: IMAX\n",
       "14182     2002.0           Air Jaws 1 and 2: Sharks of South Africa\n",
       "8664      2001.0  The Blue Planet: Seas of Life: Ocean World - F..."
      ]
     },
     "execution_count": 29,
     "metadata": {},
     "output_type": "execute_result"
    }
   ],
   "source": [
    "names.loc[similar_movies[1]]"
   ]
  }
 ],
 "metadata": {
  "kernelspec": {
   "display_name": "Python 3",
   "language": "python",
   "name": "python3"
  },
  "language_info": {
   "codemirror_mode": {
    "name": "ipython",
    "version": 3
   },
   "file_extension": ".py",
   "mimetype": "text/x-python",
   "name": "python",
   "nbconvert_exporter": "python",
   "pygments_lexer": "ipython3",
   "version": "3.7.12"
  },
  "papermill": {
   "default_parameters": {},
   "duration": 1092.753025,
   "end_time": "2023-02-08T11:33:32.594196",
   "environment_variables": {},
   "exception": null,
   "input_path": "__notebook__.ipynb",
   "output_path": "__notebook__.ipynb",
   "parameters": {},
   "start_time": "2023-02-08T11:15:19.841171",
   "version": "2.3.4"
  }
 },
 "nbformat": 4,
 "nbformat_minor": 5
}
