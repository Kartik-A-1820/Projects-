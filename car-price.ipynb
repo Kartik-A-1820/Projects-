{
 "cells": [
  {
   "cell_type": "code",
   "execution_count": 1,
   "id": "60d0c8f0",
   "metadata": {
    "_cell_guid": "b1076dfc-b9ad-4769-8c92-a6c4dae69d19",
    "_uuid": "8f2839f25d086af736a60e9eeb907d3b93b6e0e5",
    "execution": {
     "iopub.execute_input": "2023-01-02T10:04:43.403006Z",
     "iopub.status.busy": "2023-01-02T10:04:43.402393Z",
     "iopub.status.idle": "2023-01-02T10:04:43.425711Z",
     "shell.execute_reply": "2023-01-02T10:04:43.423527Z"
    },
    "papermill": {
     "duration": 0.04172,
     "end_time": "2023-01-02T10:04:43.428415",
     "exception": false,
     "start_time": "2023-01-02T10:04:43.386695",
     "status": "completed"
    },
    "tags": []
   },
   "outputs": [
    {
     "name": "stdout",
     "output_type": "stream",
     "text": [
      "/kaggle/input/vehicle-dataset-from-cardekho/car data.csv\n",
      "/kaggle/input/vehicle-dataset-from-cardekho/CAR DETAILS FROM CAR DEKHO.csv\n",
      "/kaggle/input/vehicle-dataset-from-cardekho/Car details v3.csv\n"
     ]
    }
   ],
   "source": [
    "# This Python 3 environment comes with many helpful analytics libraries installed\n",
    "# It is defined by the kaggle/python Docker image: https://github.com/kaggle/docker-python\n",
    "# For example, here's several helpful packages to load\n",
    "\n",
    "import numpy as np # linear algebra\n",
    "import pandas as pd # data processing, CSV file I/O (e.g. pd.read_csv)\n",
    "\n",
    "# Input data files are available in the read-only \"../input/\" directory\n",
    "# For example, running this (by clicking run or pressing Shift+Enter) will list all files under the input directory\n",
    "\n",
    "import os\n",
    "for dirname, _, filenames in os.walk('/kaggle/input'):\n",
    "    for filename in filenames:\n",
    "        print(os.path.join(dirname, filename))\n",
    "\n",
    "# You can write up to 20GB to the current directory (/kaggle/working/) that gets preserved as output when you create a version using \"Save & Run All\" \n",
    "# You can also write temporary files to /kaggle/temp/, but they won't be saved outside of the current session"
   ]
  },
  {
   "cell_type": "code",
   "execution_count": 2,
   "id": "880e76aa",
   "metadata": {
    "execution": {
     "iopub.execute_input": "2023-01-02T10:04:43.457851Z",
     "iopub.status.busy": "2023-01-02T10:04:43.457465Z",
     "iopub.status.idle": "2023-01-02T10:04:43.508508Z",
     "shell.execute_reply": "2023-01-02T10:04:43.507321Z"
    },
    "papermill": {
     "duration": 0.070079,
     "end_time": "2023-01-02T10:04:43.511024",
     "exception": false,
     "start_time": "2023-01-02T10:04:43.440945",
     "status": "completed"
    },
    "tags": []
   },
   "outputs": [],
   "source": [
    "df = pd.read_csv('/kaggle/input/vehicle-dataset-from-cardekho/Car details v3.csv')"
   ]
  },
  {
   "cell_type": "code",
   "execution_count": 3,
   "id": "95b59840",
   "metadata": {
    "execution": {
     "iopub.execute_input": "2023-01-02T10:04:43.538801Z",
     "iopub.status.busy": "2023-01-02T10:04:43.538008Z",
     "iopub.status.idle": "2023-01-02T10:04:43.570677Z",
     "shell.execute_reply": "2023-01-02T10:04:43.569160Z"
    },
    "papermill": {
     "duration": 0.048973,
     "end_time": "2023-01-02T10:04:43.573048",
     "exception": false,
     "start_time": "2023-01-02T10:04:43.524075",
     "status": "completed"
    },
    "tags": []
   },
   "outputs": [
    {
     "data": {
      "text/html": [
       "<div>\n",
       "<style scoped>\n",
       "    .dataframe tbody tr th:only-of-type {\n",
       "        vertical-align: middle;\n",
       "    }\n",
       "\n",
       "    .dataframe tbody tr th {\n",
       "        vertical-align: top;\n",
       "    }\n",
       "\n",
       "    .dataframe thead th {\n",
       "        text-align: right;\n",
       "    }\n",
       "</style>\n",
       "<table border=\"1\" class=\"dataframe\">\n",
       "  <thead>\n",
       "    <tr style=\"text-align: right;\">\n",
       "      <th></th>\n",
       "      <th>name</th>\n",
       "      <th>year</th>\n",
       "      <th>selling_price</th>\n",
       "      <th>km_driven</th>\n",
       "      <th>fuel</th>\n",
       "      <th>seller_type</th>\n",
       "      <th>transmission</th>\n",
       "      <th>owner</th>\n",
       "      <th>mileage</th>\n",
       "      <th>engine</th>\n",
       "      <th>max_power</th>\n",
       "      <th>torque</th>\n",
       "      <th>seats</th>\n",
       "    </tr>\n",
       "  </thead>\n",
       "  <tbody>\n",
       "    <tr>\n",
       "      <th>0</th>\n",
       "      <td>Maruti Swift Dzire VDI</td>\n",
       "      <td>2014</td>\n",
       "      <td>450000</td>\n",
       "      <td>145500</td>\n",
       "      <td>Diesel</td>\n",
       "      <td>Individual</td>\n",
       "      <td>Manual</td>\n",
       "      <td>First Owner</td>\n",
       "      <td>23.4 kmpl</td>\n",
       "      <td>1248 CC</td>\n",
       "      <td>74 bhp</td>\n",
       "      <td>190Nm@ 2000rpm</td>\n",
       "      <td>5.0</td>\n",
       "    </tr>\n",
       "    <tr>\n",
       "      <th>1</th>\n",
       "      <td>Skoda Rapid 1.5 TDI Ambition</td>\n",
       "      <td>2014</td>\n",
       "      <td>370000</td>\n",
       "      <td>120000</td>\n",
       "      <td>Diesel</td>\n",
       "      <td>Individual</td>\n",
       "      <td>Manual</td>\n",
       "      <td>Second Owner</td>\n",
       "      <td>21.14 kmpl</td>\n",
       "      <td>1498 CC</td>\n",
       "      <td>103.52 bhp</td>\n",
       "      <td>250Nm@ 1500-2500rpm</td>\n",
       "      <td>5.0</td>\n",
       "    </tr>\n",
       "    <tr>\n",
       "      <th>2</th>\n",
       "      <td>Honda City 2017-2020 EXi</td>\n",
       "      <td>2006</td>\n",
       "      <td>158000</td>\n",
       "      <td>140000</td>\n",
       "      <td>Petrol</td>\n",
       "      <td>Individual</td>\n",
       "      <td>Manual</td>\n",
       "      <td>Third Owner</td>\n",
       "      <td>17.7 kmpl</td>\n",
       "      <td>1497 CC</td>\n",
       "      <td>78 bhp</td>\n",
       "      <td>12.7@ 2,700(kgm@ rpm)</td>\n",
       "      <td>5.0</td>\n",
       "    </tr>\n",
       "    <tr>\n",
       "      <th>3</th>\n",
       "      <td>Hyundai i20 Sportz Diesel</td>\n",
       "      <td>2010</td>\n",
       "      <td>225000</td>\n",
       "      <td>127000</td>\n",
       "      <td>Diesel</td>\n",
       "      <td>Individual</td>\n",
       "      <td>Manual</td>\n",
       "      <td>First Owner</td>\n",
       "      <td>23.0 kmpl</td>\n",
       "      <td>1396 CC</td>\n",
       "      <td>90 bhp</td>\n",
       "      <td>22.4 kgm at 1750-2750rpm</td>\n",
       "      <td>5.0</td>\n",
       "    </tr>\n",
       "    <tr>\n",
       "      <th>4</th>\n",
       "      <td>Maruti Swift VXI BSIII</td>\n",
       "      <td>2007</td>\n",
       "      <td>130000</td>\n",
       "      <td>120000</td>\n",
       "      <td>Petrol</td>\n",
       "      <td>Individual</td>\n",
       "      <td>Manual</td>\n",
       "      <td>First Owner</td>\n",
       "      <td>16.1 kmpl</td>\n",
       "      <td>1298 CC</td>\n",
       "      <td>88.2 bhp</td>\n",
       "      <td>11.5@ 4,500(kgm@ rpm)</td>\n",
       "      <td>5.0</td>\n",
       "    </tr>\n",
       "  </tbody>\n",
       "</table>\n",
       "</div>"
      ],
      "text/plain": [
       "                           name  year  selling_price  km_driven    fuel  \\\n",
       "0        Maruti Swift Dzire VDI  2014         450000     145500  Diesel   \n",
       "1  Skoda Rapid 1.5 TDI Ambition  2014         370000     120000  Diesel   \n",
       "2      Honda City 2017-2020 EXi  2006         158000     140000  Petrol   \n",
       "3     Hyundai i20 Sportz Diesel  2010         225000     127000  Diesel   \n",
       "4        Maruti Swift VXI BSIII  2007         130000     120000  Petrol   \n",
       "\n",
       "  seller_type transmission         owner     mileage   engine   max_power  \\\n",
       "0  Individual       Manual   First Owner   23.4 kmpl  1248 CC      74 bhp   \n",
       "1  Individual       Manual  Second Owner  21.14 kmpl  1498 CC  103.52 bhp   \n",
       "2  Individual       Manual   Third Owner   17.7 kmpl  1497 CC      78 bhp   \n",
       "3  Individual       Manual   First Owner   23.0 kmpl  1396 CC      90 bhp   \n",
       "4  Individual       Manual   First Owner   16.1 kmpl  1298 CC    88.2 bhp   \n",
       "\n",
       "                     torque  seats  \n",
       "0            190Nm@ 2000rpm    5.0  \n",
       "1       250Nm@ 1500-2500rpm    5.0  \n",
       "2     12.7@ 2,700(kgm@ rpm)    5.0  \n",
       "3  22.4 kgm at 1750-2750rpm    5.0  \n",
       "4     11.5@ 4,500(kgm@ rpm)    5.0  "
      ]
     },
     "execution_count": 3,
     "metadata": {},
     "output_type": "execute_result"
    }
   ],
   "source": [
    "df.head()\n"
   ]
  },
  {
   "cell_type": "code",
   "execution_count": 4,
   "id": "a1c715f9",
   "metadata": {
    "execution": {
     "iopub.execute_input": "2023-01-02T10:04:43.600515Z",
     "iopub.status.busy": "2023-01-02T10:04:43.600111Z",
     "iopub.status.idle": "2023-01-02T10:04:43.635533Z",
     "shell.execute_reply": "2023-01-02T10:04:43.632906Z"
    },
    "papermill": {
     "duration": 0.052739,
     "end_time": "2023-01-02T10:04:43.638479",
     "exception": false,
     "start_time": "2023-01-02T10:04:43.585740",
     "status": "completed"
    },
    "tags": []
   },
   "outputs": [
    {
     "name": "stdout",
     "output_type": "stream",
     "text": [
      "<class 'pandas.core.frame.DataFrame'>\n",
      "RangeIndex: 8128 entries, 0 to 8127\n",
      "Data columns (total 13 columns):\n",
      " #   Column         Non-Null Count  Dtype  \n",
      "---  ------         --------------  -----  \n",
      " 0   name           8128 non-null   object \n",
      " 1   year           8128 non-null   int64  \n",
      " 2   selling_price  8128 non-null   int64  \n",
      " 3   km_driven      8128 non-null   int64  \n",
      " 4   fuel           8128 non-null   object \n",
      " 5   seller_type    8128 non-null   object \n",
      " 6   transmission   8128 non-null   object \n",
      " 7   owner          8128 non-null   object \n",
      " 8   mileage        7907 non-null   object \n",
      " 9   engine         7907 non-null   object \n",
      " 10  max_power      7913 non-null   object \n",
      " 11  torque         7906 non-null   object \n",
      " 12  seats          7907 non-null   float64\n",
      "dtypes: float64(1), int64(3), object(9)\n",
      "memory usage: 825.6+ KB\n"
     ]
    }
   ],
   "source": [
    "df.info()"
   ]
  },
  {
   "cell_type": "code",
   "execution_count": 5,
   "id": "b919bdc7",
   "metadata": {
    "execution": {
     "iopub.execute_input": "2023-01-02T10:04:43.669719Z",
     "iopub.status.busy": "2023-01-02T10:04:43.669327Z",
     "iopub.status.idle": "2023-01-02T10:04:43.680949Z",
     "shell.execute_reply": "2023-01-02T10:04:43.679511Z"
    },
    "papermill": {
     "duration": 0.031259,
     "end_time": "2023-01-02T10:04:43.684890",
     "exception": false,
     "start_time": "2023-01-02T10:04:43.653631",
     "status": "completed"
    },
    "tags": []
   },
   "outputs": [
    {
     "data": {
      "text/plain": [
       "Index(['year', 'selling_price', 'km_driven', 'seats'], dtype='object')"
      ]
     },
     "execution_count": 5,
     "metadata": {},
     "output_type": "execute_result"
    }
   ],
   "source": [
    "# extract numerical columns\n",
    "numerical_columns = df.select_dtypes(include=['int64', 'float64']).columns\n",
    "numerical_columns"
   ]
  },
  {
   "cell_type": "code",
   "execution_count": 6,
   "id": "69f4c08f",
   "metadata": {
    "execution": {
     "iopub.execute_input": "2023-01-02T10:04:43.722062Z",
     "iopub.status.busy": "2023-01-02T10:04:43.721649Z",
     "iopub.status.idle": "2023-01-02T10:04:43.731638Z",
     "shell.execute_reply": "2023-01-02T10:04:43.730649Z"
    },
    "papermill": {
     "duration": 0.027396,
     "end_time": "2023-01-02T10:04:43.733828",
     "exception": false,
     "start_time": "2023-01-02T10:04:43.706432",
     "status": "completed"
    },
    "tags": []
   },
   "outputs": [
    {
     "data": {
      "text/plain": [
       "Index(['name', 'fuel', 'seller_type', 'transmission', 'owner', 'mileage',\n",
       "       'engine', 'max_power', 'torque'],\n",
       "      dtype='object')"
      ]
     },
     "execution_count": 6,
     "metadata": {},
     "output_type": "execute_result"
    }
   ],
   "source": [
    "#extract categorical columns\n",
    "categorical_columns = df.select_dtypes(include=['object']).columns\n",
    "categorical_columns"
   ]
  },
  {
   "cell_type": "code",
   "execution_count": 7,
   "id": "ed4bbd1a",
   "metadata": {
    "execution": {
     "iopub.execute_input": "2023-01-02T10:04:43.762971Z",
     "iopub.status.busy": "2023-01-02T10:04:43.762277Z",
     "iopub.status.idle": "2023-01-02T10:04:43.774542Z",
     "shell.execute_reply": "2023-01-02T10:04:43.773018Z"
    },
    "papermill": {
     "duration": 0.029563,
     "end_time": "2023-01-02T10:04:43.776727",
     "exception": false,
     "start_time": "2023-01-02T10:04:43.747164",
     "status": "completed"
    },
    "tags": []
   },
   "outputs": [
    {
     "data": {
      "text/plain": [
       "year               0\n",
       "selling_price      0\n",
       "km_driven          0\n",
       "seats            221\n",
       "dtype: int64"
      ]
     },
     "execution_count": 7,
     "metadata": {},
     "output_type": "execute_result"
    }
   ],
   "source": [
    "#null values in numerical columns\n",
    "df[numerical_columns].isnull().sum()\n"
   ]
  },
  {
   "cell_type": "code",
   "execution_count": 8,
   "id": "1e842357",
   "metadata": {
    "execution": {
     "iopub.execute_input": "2023-01-02T10:04:43.807217Z",
     "iopub.status.busy": "2023-01-02T10:04:43.805767Z",
     "iopub.status.idle": "2023-01-02T10:04:43.828275Z",
     "shell.execute_reply": "2023-01-02T10:04:43.826897Z"
    },
    "papermill": {
     "duration": 0.041222,
     "end_time": "2023-01-02T10:04:43.831365",
     "exception": false,
     "start_time": "2023-01-02T10:04:43.790143",
     "status": "completed"
    },
    "tags": []
   },
   "outputs": [
    {
     "data": {
      "text/plain": [
       "name              0\n",
       "fuel              0\n",
       "seller_type       0\n",
       "transmission      0\n",
       "owner             0\n",
       "mileage         221\n",
       "engine          221\n",
       "max_power       215\n",
       "torque          222\n",
       "dtype: int64"
      ]
     },
     "execution_count": 8,
     "metadata": {},
     "output_type": "execute_result"
    }
   ],
   "source": [
    "#null values in categorical columns\n",
    "df[categorical_columns].isnull().sum()"
   ]
  },
  {
   "cell_type": "code",
   "execution_count": 9,
   "id": "2766c9e4",
   "metadata": {
    "execution": {
     "iopub.execute_input": "2023-01-02T10:04:43.865285Z",
     "iopub.status.busy": "2023-01-02T10:04:43.863926Z",
     "iopub.status.idle": "2023-01-02T10:04:44.998606Z",
     "shell.execute_reply": "2023-01-02T10:04:44.997671Z"
    },
    "papermill": {
     "duration": 1.152766,
     "end_time": "2023-01-02T10:04:45.001363",
     "exception": false,
     "start_time": "2023-01-02T10:04:43.848597",
     "status": "completed"
    },
    "tags": []
   },
   "outputs": [],
   "source": [
    "# Visual relations\n",
    "import seaborn as sns\n",
    "import matplotlib.pyplot as plt\n",
    "%matplotlib inline"
   ]
  },
  {
   "cell_type": "code",
   "execution_count": 10,
   "id": "06d3be06",
   "metadata": {
    "execution": {
     "iopub.execute_input": "2023-01-02T10:04:45.030664Z",
     "iopub.status.busy": "2023-01-02T10:04:45.030272Z",
     "iopub.status.idle": "2023-01-02T10:04:45.759357Z",
     "shell.execute_reply": "2023-01-02T10:04:45.758264Z"
    },
    "papermill": {
     "duration": 0.747147,
     "end_time": "2023-01-02T10:04:45.761924",
     "exception": false,
     "start_time": "2023-01-02T10:04:45.014777",
     "status": "completed"
    },
    "tags": []
   },
   "outputs": [
    {
     "data": {
      "image/png": "[encoded data removed]",
      "text/plain": [
       "<Figure size 432x288 with 1 Axes>"
      ]
     },
     "metadata": {
      "needs_background": "light"
     },
     "output_type": "display_data"
    },
    {
     "data": {
      "image/png": "[encoded data removed]",
      "text/plain": [
       "<Figure size 432x288 with 1 Axes>"
      ]
     },
     "metadata": {
      "needs_background": "light"
     },
     "output_type": "display_data"
    },
    {
     "data": {
      "image/png": "[encoded data removed]",
      "text/plain": [
       "<Figure size 432x288 with 1 Axes>"
      ]
     },
     "metadata": {
      "needs_background": "light"
     },
     "output_type": "display_data"
    }
   ],
   "source": [
    "#check relation with selling price (numerical features)\n",
    "for feature in numerical_columns:\n",
    "    if feature != 'selling_price':\n",
    "        ax = sns.scatterplot(data=df,x=feature,y='selling_price')\n",
    "        plt.xlim(df[feature].min(), df[feature].max())\n",
    "        plt.ylim(0, df['selling_price'].max())\n",
    "        plt.xlabel(feature)\n",
    "        plt.ylabel('selling_price')\n",
    "        plt.show()\n",
    "    "
   ]
  },
  {
   "cell_type": "code",
   "execution_count": 11,
   "id": "9e692ed0",
   "metadata": {
    "execution": {
     "iopub.execute_input": "2023-01-02T10:04:45.791964Z",
     "iopub.status.busy": "2023-01-02T10:04:45.791587Z",
     "iopub.status.idle": "2023-01-02T10:04:46.306765Z",
     "shell.execute_reply": "2023-01-02T10:04:46.305453Z"
    },
    "papermill": {
     "duration": 0.532952,
     "end_time": "2023-01-02T10:04:46.309260",
     "exception": false,
     "start_time": "2023-01-02T10:04:45.776308",
     "status": "completed"
    },
    "tags": []
   },
   "outputs": [
    {
     "data": {
      "image/png": "[encoded data removed]",
      "text/plain": [
       "<Figure size 432x288 with 1 Axes>"
      ]
     },
     "metadata": {
      "needs_background": "light"
     },
     "output_type": "display_data"
    },
    {
     "data": {
      "image/png": "[encoded data removed]",
      "text/plain": [
       "<Figure size 432x288 with 1 Axes>"
      ]
     },
     "metadata": {
      "needs_background": "light"
     },
     "output_type": "display_data"
    },
    {
     "data": {
      "image/png": "[encoded data removed]",
      "text/plain": [
       "<Figure size 432x288 with 1 Axes>"
      ]
     },
     "metadata": {
      "needs_background": "light"
     },
     "output_type": "display_data"
    }
   ],
   "source": [
    "#check outliers\n",
    "for feature in numerical_columns:\n",
    "    if feature != 'selling_price':\n",
    "        ax = sns.boxplot(data=df,x=feature)\n",
    "        plt.xlabel(feature)\n",
    "        plt.ylabel('selling_price')\n",
    "        plt.show()\n",
    "    "
   ]
  },
  {
   "cell_type": "code",
   "execution_count": 12,
   "id": "122e95d3",
   "metadata": {
    "execution": {
     "iopub.execute_input": "2023-01-02T10:04:46.341286Z",
     "iopub.status.busy": "2023-01-02T10:04:46.340871Z",
     "iopub.status.idle": "2023-01-02T10:04:46.346768Z",
     "shell.execute_reply": "2023-01-02T10:04:46.345494Z"
    },
    "papermill": {
     "duration": 0.025224,
     "end_time": "2023-01-02T10:04:46.349113",
     "exception": false,
     "start_time": "2023-01-02T10:04:46.323889",
     "status": "completed"
    },
    "tags": []
   },
   "outputs": [],
   "source": [
    "def count_outliers(column):\n",
    "    q1, q3 = column.quantile([0.25, 0.75])\n",
    "    iqr = q3 - q1\n",
    "    lower_bound = q1 - (1.5 * iqr)\n",
    "    upper_bound = q3 + (1.5 * iqr)\n",
    "    return len(column[(column < lower_bound) | (column > upper_bound)])"
   ]
  },
  {
   "cell_type": "code",
   "execution_count": 13,
   "id": "a4cd04ad",
   "metadata": {
    "execution": {
     "iopub.execute_input": "2023-01-02T10:04:46.381040Z",
     "iopub.status.busy": "2023-01-02T10:04:46.380625Z",
     "iopub.status.idle": "2023-01-02T10:04:46.394264Z",
     "shell.execute_reply": "2023-01-02T10:04:46.393285Z"
    },
    "papermill": {
     "duration": 0.033065,
     "end_time": "2023-01-02T10:04:46.396808",
     "exception": false,
     "start_time": "2023-01-02T10:04:46.363743",
     "status": "completed"
    },
    "tags": []
   },
   "outputs": [],
   "source": [
    "outlier_counts = df[numerical_columns].apply(count_outliers)"
   ]
  },
  {
   "cell_type": "code",
   "execution_count": 14,
   "id": "bcc2d00a",
   "metadata": {
    "execution": {
     "iopub.execute_input": "2023-01-02T10:04:46.428918Z",
     "iopub.status.busy": "2023-01-02T10:04:46.428510Z",
     "iopub.status.idle": "2023-01-02T10:04:46.434860Z",
     "shell.execute_reply": "2023-01-02T10:04:46.434141Z"
    },
    "papermill": {
     "duration": 0.025205,
     "end_time": "2023-01-02T10:04:46.437103",
     "exception": false,
     "start_time": "2023-01-02T10:04:46.411898",
     "status": "completed"
    },
    "tags": []
   },
   "outputs": [
    {
     "data": {
      "text/plain": [
       "year               81\n",
       "selling_price     600\n",
       "km_driven         170\n",
       "seats            1653\n",
       "dtype: int64"
      ]
     },
     "execution_count": 14,
     "metadata": {},
     "output_type": "execute_result"
    }
   ],
   "source": [
    "#numerical columns outliers\n",
    "outlier_counts "
   ]
  },
  {
   "cell_type": "code",
   "execution_count": 15,
   "id": "45da2f4a",
   "metadata": {
    "execution": {
     "iopub.execute_input": "2023-01-02T10:04:46.469046Z",
     "iopub.status.busy": "2023-01-02T10:04:46.468082Z",
     "iopub.status.idle": "2023-01-02T10:04:46.478402Z",
     "shell.execute_reply": "2023-01-02T10:04:46.477562Z"
    },
    "papermill": {
     "duration": 0.028669,
     "end_time": "2023-01-02T10:04:46.480494",
     "exception": false,
     "start_time": "2023-01-02T10:04:46.451825",
     "status": "completed"
    },
    "tags": []
   },
   "outputs": [
    {
     "data": {
      "text/plain": [
       "5.0     6254\n",
       "7.0     1120\n",
       "8.0      236\n",
       "4.0      133\n",
       "9.0       80\n",
       "6.0       62\n",
       "10.0      19\n",
       "2.0        2\n",
       "14.0       1\n",
       "Name: seats, dtype: int64"
      ]
     },
     "execution_count": 15,
     "metadata": {},
     "output_type": "execute_result"
    }
   ],
   "source": [
    "#all seating options\n",
    "df.seats.value_counts()"
   ]
  },
  {
   "cell_type": "code",
   "execution_count": 16,
   "id": "162e666d",
   "metadata": {
    "execution": {
     "iopub.execute_input": "2023-01-02T10:04:46.512202Z",
     "iopub.status.busy": "2023-01-02T10:04:46.511748Z",
     "iopub.status.idle": "2023-01-02T10:04:46.529201Z",
     "shell.execute_reply": "2023-01-02T10:04:46.528028Z"
    },
    "papermill": {
     "duration": 0.036113,
     "end_time": "2023-01-02T10:04:46.531502",
     "exception": false,
     "start_time": "2023-01-02T10:04:46.495389",
     "status": "completed"
    },
    "tags": []
   },
   "outputs": [
    {
     "data": {
      "text/html": [
       "<div>\n",
       "<style scoped>\n",
       "    .dataframe tbody tr th:only-of-type {\n",
       "        vertical-align: middle;\n",
       "    }\n",
       "\n",
       "    .dataframe tbody tr th {\n",
       "        vertical-align: top;\n",
       "    }\n",
       "\n",
       "    .dataframe thead th {\n",
       "        text-align: right;\n",
       "    }\n",
       "</style>\n",
       "<table border=\"1\" class=\"dataframe\">\n",
       "  <thead>\n",
       "    <tr style=\"text-align: right;\">\n",
       "      <th></th>\n",
       "      <th>name</th>\n",
       "      <th>fuel</th>\n",
       "      <th>seller_type</th>\n",
       "      <th>transmission</th>\n",
       "      <th>owner</th>\n",
       "      <th>mileage</th>\n",
       "      <th>engine</th>\n",
       "      <th>max_power</th>\n",
       "      <th>torque</th>\n",
       "    </tr>\n",
       "  </thead>\n",
       "  <tbody>\n",
       "    <tr>\n",
       "      <th>0</th>\n",
       "      <td>Maruti Swift Dzire VDI</td>\n",
       "      <td>Diesel</td>\n",
       "      <td>Individual</td>\n",
       "      <td>Manual</td>\n",
       "      <td>First Owner</td>\n",
       "      <td>23.4 kmpl</td>\n",
       "      <td>1248 CC</td>\n",
       "      <td>74 bhp</td>\n",
       "      <td>190Nm@ 2000rpm</td>\n",
       "    </tr>\n",
       "    <tr>\n",
       "      <th>1</th>\n",
       "      <td>Skoda Rapid 1.5 TDI Ambition</td>\n",
       "      <td>Diesel</td>\n",
       "      <td>Individual</td>\n",
       "      <td>Manual</td>\n",
       "      <td>Second Owner</td>\n",
       "      <td>21.14 kmpl</td>\n",
       "      <td>1498 CC</td>\n",
       "      <td>103.52 bhp</td>\n",
       "      <td>250Nm@ 1500-2500rpm</td>\n",
       "    </tr>\n",
       "    <tr>\n",
       "      <th>2</th>\n",
       "      <td>Honda City 2017-2020 EXi</td>\n",
       "      <td>Petrol</td>\n",
       "      <td>Individual</td>\n",
       "      <td>Manual</td>\n",
       "      <td>Third Owner</td>\n",
       "      <td>17.7 kmpl</td>\n",
       "      <td>1497 CC</td>\n",
       "      <td>78 bhp</td>\n",
       "      <td>12.7@ 2,700(kgm@ rpm)</td>\n",
       "    </tr>\n",
       "    <tr>\n",
       "      <th>3</th>\n",
       "      <td>Hyundai i20 Sportz Diesel</td>\n",
       "      <td>Diesel</td>\n",
       "      <td>Individual</td>\n",
       "      <td>Manual</td>\n",
       "      <td>First Owner</td>\n",
       "      <td>23.0 kmpl</td>\n",
       "      <td>1396 CC</td>\n",
       "      <td>90 bhp</td>\n",
       "      <td>22.4 kgm at 1750-2750rpm</td>\n",
       "    </tr>\n",
       "    <tr>\n",
       "      <th>4</th>\n",
       "      <td>Maruti Swift VXI BSIII</td>\n",
       "      <td>Petrol</td>\n",
       "      <td>Individual</td>\n",
       "      <td>Manual</td>\n",
       "      <td>First Owner</td>\n",
       "      <td>16.1 kmpl</td>\n",
       "      <td>1298 CC</td>\n",
       "      <td>88.2 bhp</td>\n",
       "      <td>11.5@ 4,500(kgm@ rpm)</td>\n",
       "    </tr>\n",
       "  </tbody>\n",
       "</table>\n",
       "</div>"
      ],
      "text/plain": [
       "                           name    fuel seller_type transmission  \\\n",
       "0        Maruti Swift Dzire VDI  Diesel  Individual       Manual   \n",
       "1  Skoda Rapid 1.5 TDI Ambition  Diesel  Individual       Manual   \n",
       "2      Honda City 2017-2020 EXi  Petrol  Individual       Manual   \n",
       "3     Hyundai i20 Sportz Diesel  Diesel  Individual       Manual   \n",
       "4        Maruti Swift VXI BSIII  Petrol  Individual       Manual   \n",
       "\n",
       "          owner     mileage   engine   max_power                    torque  \n",
       "0   First Owner   23.4 kmpl  1248 CC      74 bhp            190Nm@ 2000rpm  \n",
       "1  Second Owner  21.14 kmpl  1498 CC  103.52 bhp       250Nm@ 1500-2500rpm  \n",
       "2   Third Owner   17.7 kmpl  1497 CC      78 bhp     12.7@ 2,700(kgm@ rpm)  \n",
       "3   First Owner   23.0 kmpl  1396 CC      90 bhp  22.4 kgm at 1750-2750rpm  \n",
       "4   First Owner   16.1 kmpl  1298 CC    88.2 bhp     11.5@ 4,500(kgm@ rpm)  "
      ]
     },
     "execution_count": 16,
     "metadata": {},
     "output_type": "execute_result"
    }
   ],
   "source": [
    "#some features are numerical but are represented in categorical, lets fix them\n",
    "df[categorical_columns].head()"
   ]
  },
  {
   "cell_type": "code",
   "execution_count": 17,
   "id": "1cfdcd31",
   "metadata": {
    "execution": {
     "iopub.execute_input": "2023-01-02T10:04:46.564138Z",
     "iopub.status.busy": "2023-01-02T10:04:46.563705Z",
     "iopub.status.idle": "2023-01-02T10:04:46.568541Z",
     "shell.execute_reply": "2023-01-02T10:04:46.567356Z"
    },
    "papermill": {
     "duration": 0.02407,
     "end_time": "2023-01-02T10:04:46.570619",
     "exception": false,
     "start_time": "2023-01-02T10:04:46.546549",
     "status": "completed"
    },
    "tags": []
   },
   "outputs": [],
   "source": [
    "cols_to_fix = ['mileage','engine','max_power','torque']"
   ]
  },
  {
   "cell_type": "code",
   "execution_count": 18,
   "id": "dcb59693",
   "metadata": {
    "execution": {
     "iopub.execute_input": "2023-01-02T10:04:46.602297Z",
     "iopub.status.busy": "2023-01-02T10:04:46.601632Z",
     "iopub.status.idle": "2023-01-02T10:04:46.662016Z",
     "shell.execute_reply": "2023-01-02T10:04:46.660873Z"
    },
    "papermill": {
     "duration": 0.07934,
     "end_time": "2023-01-02T10:04:46.664802",
     "exception": false,
     "start_time": "2023-01-02T10:04:46.585462",
     "status": "completed"
    },
    "tags": []
   },
   "outputs": [],
   "source": [
    "#consider only numeric value\n",
    "for value in cols_to_fix:\n",
    "    df[value] = df[value].str.extract(r'(\\d+)')"
   ]
  },
  {
   "cell_type": "code",
   "execution_count": 19,
   "id": "a11b603c",
   "metadata": {
    "execution": {
     "iopub.execute_input": "2023-01-02T10:04:46.697948Z",
     "iopub.status.busy": "2023-01-02T10:04:46.697310Z",
     "iopub.status.idle": "2023-01-02T10:04:46.711939Z",
     "shell.execute_reply": "2023-01-02T10:04:46.710083Z"
    },
    "papermill": {
     "duration": 0.034302,
     "end_time": "2023-01-02T10:04:46.714604",
     "exception": false,
     "start_time": "2023-01-02T10:04:46.680302",
     "status": "completed"
    },
    "tags": []
   },
   "outputs": [
    {
     "name": "stdout",
     "output_type": "stream",
     "text": [
      "<class 'pandas.core.frame.DataFrame'>\n",
      "RangeIndex: 8128 entries, 0 to 8127\n",
      "Data columns (total 4 columns):\n",
      " #   Column     Non-Null Count  Dtype \n",
      "---  ------     --------------  ----- \n",
      " 0   mileage    7907 non-null   object\n",
      " 1   engine     7907 non-null   object\n",
      " 2   max_power  7912 non-null   object\n",
      " 3   torque     7906 non-null   object\n",
      "dtypes: object(4)\n",
      "memory usage: 254.1+ KB\n"
     ]
    }
   ],
   "source": [
    "df[cols_to_fix].info()"
   ]
  },
  {
   "cell_type": "code",
   "execution_count": 20,
   "id": "ac0121cc",
   "metadata": {
    "execution": {
     "iopub.execute_input": "2023-01-02T10:04:46.747377Z",
     "iopub.status.busy": "2023-01-02T10:04:46.746961Z",
     "iopub.status.idle": "2023-01-02T10:04:46.761202Z",
     "shell.execute_reply": "2023-01-02T10:04:46.759937Z"
    },
    "papermill": {
     "duration": 0.034082,
     "end_time": "2023-01-02T10:04:46.763765",
     "exception": false,
     "start_time": "2023-01-02T10:04:46.729683",
     "status": "completed"
    },
    "tags": []
   },
   "outputs": [
    {
     "data": {
      "text/plain": [
       "name              0\n",
       "fuel              0\n",
       "seller_type       0\n",
       "transmission      0\n",
       "owner             0\n",
       "mileage         221\n",
       "engine          221\n",
       "max_power       216\n",
       "torque          222\n",
       "dtype: int64"
      ]
     },
     "execution_count": 20,
     "metadata": {},
     "output_type": "execute_result"
    }
   ],
   "source": [
    "df[categorical_columns].isnull().sum()"
   ]
  },
  {
   "cell_type": "code",
   "execution_count": 21,
   "id": "9f379e9b",
   "metadata": {
    "execution": {
     "iopub.execute_input": "2023-01-02T10:04:46.796208Z",
     "iopub.status.busy": "2023-01-02T10:04:46.795807Z",
     "iopub.status.idle": "2023-01-02T10:04:46.805922Z",
     "shell.execute_reply": "2023-01-02T10:04:46.804665Z"
    },
    "papermill": {
     "duration": 0.029709,
     "end_time": "2023-01-02T10:04:46.808720",
     "exception": false,
     "start_time": "2023-01-02T10:04:46.779011",
     "status": "completed"
    },
    "tags": []
   },
   "outputs": [],
   "source": [
    "#drop rows with null categorical values\n",
    "df=df.dropna(subset=cols_to_fix)"
   ]
  },
  {
   "cell_type": "code",
   "execution_count": 22,
   "id": "7259b84b",
   "metadata": {
    "execution": {
     "iopub.execute_input": "2023-01-02T10:04:46.841769Z",
     "iopub.status.busy": "2023-01-02T10:04:46.841334Z",
     "iopub.status.idle": "2023-01-02T10:04:46.848027Z",
     "shell.execute_reply": "2023-01-02T10:04:46.846899Z"
    },
    "papermill": {
     "duration": 0.026134,
     "end_time": "2023-01-02T10:04:46.850171",
     "exception": false,
     "start_time": "2023-01-02T10:04:46.824037",
     "status": "completed"
    },
    "tags": []
   },
   "outputs": [
    {
     "data": {
      "text/plain": [
       "(7906, 13)"
      ]
     },
     "execution_count": 22,
     "metadata": {},
     "output_type": "execute_result"
    }
   ],
   "source": [
    "df.shape"
   ]
  },
  {
   "cell_type": "code",
   "execution_count": 23,
   "id": "0441a24f",
   "metadata": {
    "execution": {
     "iopub.execute_input": "2023-01-02T10:04:46.882472Z",
     "iopub.status.busy": "2023-01-02T10:04:46.882060Z",
     "iopub.status.idle": "2023-01-02T10:04:46.896627Z",
     "shell.execute_reply": "2023-01-02T10:04:46.895493Z"
    },
    "papermill": {
     "duration": 0.033563,
     "end_time": "2023-01-02T10:04:46.899124",
     "exception": false,
     "start_time": "2023-01-02T10:04:46.865561",
     "status": "completed"
    },
    "tags": []
   },
   "outputs": [
    {
     "data": {
      "text/plain": [
       "name            0\n",
       "fuel            0\n",
       "seller_type     0\n",
       "transmission    0\n",
       "owner           0\n",
       "mileage         0\n",
       "engine          0\n",
       "max_power       0\n",
       "torque          0\n",
       "dtype: int64"
      ]
     },
     "execution_count": 23,
     "metadata": {},
     "output_type": "execute_result"
    }
   ],
   "source": [
    "df[categorical_columns].isnull().sum()"
   ]
  },
  {
   "cell_type": "code",
   "execution_count": 24,
   "id": "4a5bc711",
   "metadata": {
    "execution": {
     "iopub.execute_input": "2023-01-02T10:04:46.932013Z",
     "iopub.status.busy": "2023-01-02T10:04:46.931632Z",
     "iopub.status.idle": "2023-01-02T10:04:46.958790Z",
     "shell.execute_reply": "2023-01-02T10:04:46.957939Z"
    },
    "papermill": {
     "duration": 0.046434,
     "end_time": "2023-01-02T10:04:46.961044",
     "exception": false,
     "start_time": "2023-01-02T10:04:46.914610",
     "status": "completed"
    },
    "tags": []
   },
   "outputs": [],
   "source": [
    "#now change the dtype of cols_to_fix to numerical\n",
    "for v in cols_to_fix:\n",
    "    df[v] = pd.to_numeric(df[v])"
   ]
  },
  {
   "cell_type": "code",
   "execution_count": 25,
   "id": "04217fd6",
   "metadata": {
    "execution": {
     "iopub.execute_input": "2023-01-02T10:04:46.993883Z",
     "iopub.status.busy": "2023-01-02T10:04:46.993462Z",
     "iopub.status.idle": "2023-01-02T10:04:47.003204Z",
     "shell.execute_reply": "2023-01-02T10:04:47.002108Z"
    },
    "papermill": {
     "duration": 0.028868,
     "end_time": "2023-01-02T10:04:47.005446",
     "exception": false,
     "start_time": "2023-01-02T10:04:46.976578",
     "status": "completed"
    },
    "tags": []
   },
   "outputs": [
    {
     "data": {
      "text/plain": [
       "Index(['year', 'selling_price', 'km_driven', 'mileage', 'engine', 'max_power',\n",
       "       'torque', 'seats'],\n",
       "      dtype='object')"
      ]
     },
     "execution_count": 25,
     "metadata": {},
     "output_type": "execute_result"
    }
   ],
   "source": [
    "#updated numerical values\n",
    "numerical_columns = df.select_dtypes(include=['int64', 'float64']).columns\n",
    "numerical_columns"
   ]
  },
  {
   "cell_type": "code",
   "execution_count": 26,
   "id": "d12de5d4",
   "metadata": {
    "execution": {
     "iopub.execute_input": "2023-01-02T10:04:47.039975Z",
     "iopub.status.busy": "2023-01-02T10:04:47.039555Z",
     "iopub.status.idle": "2023-01-02T10:04:47.049401Z",
     "shell.execute_reply": "2023-01-02T10:04:47.048158Z"
    },
    "papermill": {
     "duration": 0.030177,
     "end_time": "2023-01-02T10:04:47.052037",
     "exception": false,
     "start_time": "2023-01-02T10:04:47.021860",
     "status": "completed"
    },
    "tags": []
   },
   "outputs": [
    {
     "data": {
      "text/plain": [
       "Index(['name', 'fuel', 'seller_type', 'transmission', 'owner'], dtype='object')"
      ]
     },
     "execution_count": 26,
     "metadata": {},
     "output_type": "execute_result"
    }
   ],
   "source": [
    "\n",
    "#update categorical columns\n",
    "categorical_columns = df.select_dtypes(include=['object']).columns\n",
    "categorical_columns"
   ]
  },
  {
   "cell_type": "code",
   "execution_count": 27,
   "id": "0d51be16",
   "metadata": {
    "execution": {
     "iopub.execute_input": "2023-01-02T10:04:47.085163Z",
     "iopub.status.busy": "2023-01-02T10:04:47.084739Z",
     "iopub.status.idle": "2023-01-02T10:04:47.098886Z",
     "shell.execute_reply": "2023-01-02T10:04:47.097715Z"
    },
    "papermill": {
     "duration": 0.03345,
     "end_time": "2023-01-02T10:04:47.101279",
     "exception": false,
     "start_time": "2023-01-02T10:04:47.067829",
     "status": "completed"
    },
    "tags": []
   },
   "outputs": [
    {
     "data": {
      "text/html": [
       "<div>\n",
       "<style scoped>\n",
       "    .dataframe tbody tr th:only-of-type {\n",
       "        vertical-align: middle;\n",
       "    }\n",
       "\n",
       "    .dataframe tbody tr th {\n",
       "        vertical-align: top;\n",
       "    }\n",
       "\n",
       "    .dataframe thead th {\n",
       "        text-align: right;\n",
       "    }\n",
       "</style>\n",
       "<table border=\"1\" class=\"dataframe\">\n",
       "  <thead>\n",
       "    <tr style=\"text-align: right;\">\n",
       "      <th></th>\n",
       "      <th>name</th>\n",
       "      <th>fuel</th>\n",
       "      <th>seller_type</th>\n",
       "      <th>transmission</th>\n",
       "      <th>owner</th>\n",
       "    </tr>\n",
       "  </thead>\n",
       "  <tbody>\n",
       "    <tr>\n",
       "      <th>0</th>\n",
       "      <td>Maruti Swift Dzire VDI</td>\n",
       "      <td>Diesel</td>\n",
       "      <td>Individual</td>\n",
       "      <td>Manual</td>\n",
       "      <td>First Owner</td>\n",
       "    </tr>\n",
       "    <tr>\n",
       "      <th>1</th>\n",
       "      <td>Skoda Rapid 1.5 TDI Ambition</td>\n",
       "      <td>Diesel</td>\n",
       "      <td>Individual</td>\n",
       "      <td>Manual</td>\n",
       "      <td>Second Owner</td>\n",
       "    </tr>\n",
       "    <tr>\n",
       "      <th>2</th>\n",
       "      <td>Honda City 2017-2020 EXi</td>\n",
       "      <td>Petrol</td>\n",
       "      <td>Individual</td>\n",
       "      <td>Manual</td>\n",
       "      <td>Third Owner</td>\n",
       "    </tr>\n",
       "    <tr>\n",
       "      <th>3</th>\n",
       "      <td>Hyundai i20 Sportz Diesel</td>\n",
       "      <td>Diesel</td>\n",
       "      <td>Individual</td>\n",
       "      <td>Manual</td>\n",
       "      <td>First Owner</td>\n",
       "    </tr>\n",
       "    <tr>\n",
       "      <th>4</th>\n",
       "      <td>Maruti Swift VXI BSIII</td>\n",
       "      <td>Petrol</td>\n",
       "      <td>Individual</td>\n",
       "      <td>Manual</td>\n",
       "      <td>First Owner</td>\n",
       "    </tr>\n",
       "  </tbody>\n",
       "</table>\n",
       "</div>"
      ],
      "text/plain": [
       "                           name    fuel seller_type transmission         owner\n",
       "0        Maruti Swift Dzire VDI  Diesel  Individual       Manual   First Owner\n",
       "1  Skoda Rapid 1.5 TDI Ambition  Diesel  Individual       Manual  Second Owner\n",
       "2      Honda City 2017-2020 EXi  Petrol  Individual       Manual   Third Owner\n",
       "3     Hyundai i20 Sportz Diesel  Diesel  Individual       Manual   First Owner\n",
       "4        Maruti Swift VXI BSIII  Petrol  Individual       Manual   First Owner"
      ]
     },
     "execution_count": 27,
     "metadata": {},
     "output_type": "execute_result"
    }
   ],
   "source": [
    "df[categorical_columns].head() #Its now ready to be encoded for name: LabelEncoder others:pd.get_dummies"
   ]
  },
  {
   "cell_type": "code",
   "execution_count": 28,
   "id": "71a509a2",
   "metadata": {
    "execution": {
     "iopub.execute_input": "2023-01-02T10:04:47.134973Z",
     "iopub.status.busy": "2023-01-02T10:04:47.134585Z",
     "iopub.status.idle": "2023-01-02T10:04:47.148913Z",
     "shell.execute_reply": "2023-01-02T10:04:47.147644Z"
    },
    "papermill": {
     "duration": 0.033685,
     "end_time": "2023-01-02T10:04:47.151062",
     "exception": false,
     "start_time": "2023-01-02T10:04:47.117377",
     "status": "completed"
    },
    "tags": []
   },
   "outputs": [
    {
     "data": {
      "text/html": [
       "<div>\n",
       "<style scoped>\n",
       "    .dataframe tbody tr th:only-of-type {\n",
       "        vertical-align: middle;\n",
       "    }\n",
       "\n",
       "    .dataframe tbody tr th {\n",
       "        vertical-align: top;\n",
       "    }\n",
       "\n",
       "    .dataframe thead th {\n",
       "        text-align: right;\n",
       "    }\n",
       "</style>\n",
       "<table border=\"1\" class=\"dataframe\">\n",
       "  <thead>\n",
       "    <tr style=\"text-align: right;\">\n",
       "      <th></th>\n",
       "      <th>year</th>\n",
       "      <th>selling_price</th>\n",
       "      <th>km_driven</th>\n",
       "      <th>mileage</th>\n",
       "      <th>engine</th>\n",
       "      <th>max_power</th>\n",
       "      <th>torque</th>\n",
       "      <th>seats</th>\n",
       "    </tr>\n",
       "  </thead>\n",
       "  <tbody>\n",
       "    <tr>\n",
       "      <th>0</th>\n",
       "      <td>2014</td>\n",
       "      <td>450000</td>\n",
       "      <td>145500</td>\n",
       "      <td>23</td>\n",
       "      <td>1248</td>\n",
       "      <td>74</td>\n",
       "      <td>190</td>\n",
       "      <td>5.0</td>\n",
       "    </tr>\n",
       "    <tr>\n",
       "      <th>1</th>\n",
       "      <td>2014</td>\n",
       "      <td>370000</td>\n",
       "      <td>120000</td>\n",
       "      <td>21</td>\n",
       "      <td>1498</td>\n",
       "      <td>103</td>\n",
       "      <td>250</td>\n",
       "      <td>5.0</td>\n",
       "    </tr>\n",
       "    <tr>\n",
       "      <th>2</th>\n",
       "      <td>2006</td>\n",
       "      <td>158000</td>\n",
       "      <td>140000</td>\n",
       "      <td>17</td>\n",
       "      <td>1497</td>\n",
       "      <td>78</td>\n",
       "      <td>12</td>\n",
       "      <td>5.0</td>\n",
       "    </tr>\n",
       "    <tr>\n",
       "      <th>3</th>\n",
       "      <td>2010</td>\n",
       "      <td>225000</td>\n",
       "      <td>127000</td>\n",
       "      <td>23</td>\n",
       "      <td>1396</td>\n",
       "      <td>90</td>\n",
       "      <td>22</td>\n",
       "      <td>5.0</td>\n",
       "    </tr>\n",
       "    <tr>\n",
       "      <th>4</th>\n",
       "      <td>2007</td>\n",
       "      <td>130000</td>\n",
       "      <td>120000</td>\n",
       "      <td>16</td>\n",
       "      <td>1298</td>\n",
       "      <td>88</td>\n",
       "      <td>11</td>\n",
       "      <td>5.0</td>\n",
       "    </tr>\n",
       "  </tbody>\n",
       "</table>\n",
       "</div>"
      ],
      "text/plain": [
       "   year  selling_price  km_driven  mileage  engine  max_power  torque  seats\n",
       "0  2014         450000     145500       23    1248         74     190    5.0\n",
       "1  2014         370000     120000       21    1498        103     250    5.0\n",
       "2  2006         158000     140000       17    1497         78      12    5.0\n",
       "3  2010         225000     127000       23    1396         90      22    5.0\n",
       "4  2007         130000     120000       16    1298         88      11    5.0"
      ]
     },
     "execution_count": 28,
     "metadata": {},
     "output_type": "execute_result"
    }
   ],
   "source": [
    "#lets prepare numerical columns\n",
    "df[numerical_columns].head()"
   ]
  },
  {
   "cell_type": "code",
   "execution_count": 29,
   "id": "18920786",
   "metadata": {
    "execution": {
     "iopub.execute_input": "2023-01-02T10:04:47.186428Z",
     "iopub.status.busy": "2023-01-02T10:04:47.186023Z",
     "iopub.status.idle": "2023-01-02T10:04:47.418456Z",
     "shell.execute_reply": "2023-01-02T10:04:47.417374Z"
    },
    "papermill": {
     "duration": 0.253207,
     "end_time": "2023-01-02T10:04:47.421183",
     "exception": false,
     "start_time": "2023-01-02T10:04:47.167976",
     "status": "completed"
    },
    "tags": []
   },
   "outputs": [
    {
     "name": "stderr",
     "output_type": "stream",
     "text": [
      "/opt/conda/lib/python3.7/site-packages/pandas/core/indexing.py:1732: SettingWithCopyWarning: \n",
      "A value is trying to be set on a copy of a slice from a DataFrame\n",
      "\n",
      "See the caveats in the documentation: https://pandas.pydata.org/pandas-docs/stable/user_guide/indexing.html#returning-a-view-versus-a-copy\n",
      "  self._setitem_single_block(indexer, value, name)\n"
     ]
    }
   ],
   "source": [
    "#lets fix torque\n",
    "def convert_torque(torque_kgm):\n",
    "    return torque_kgm * 9.80665\n",
    "\n",
    "\n",
    "for i in range(len(df['torque'])):\n",
    "    if df['torque'].iloc[i] < 40 or df['name'].iloc[i] in [ 'Mercedes-Benz E-Class E270 CDI',\n",
    " 'Mercedes-Benz New C-Class 250 CDI Classic',\n",
    " 'Mercedes-Benz New C-Class C 220 CDI Elegance MT','BMW X5 3.0d','BMW X5','BMW 5 Series 530d','Mercedes-Benz New','Mercedes-Benz E-Class','BMW 5',' Mercedes-Benz New'] :\n",
    "        df['torque'].iloc[i] = convert_torque(df['torque'].iloc[i])\n",
    "        \n",
    "        "
   ]
  },
  {
   "cell_type": "code",
   "execution_count": 30,
   "id": "fe221c3b",
   "metadata": {
    "execution": {
     "iopub.execute_input": "2023-01-02T10:04:47.455295Z",
     "iopub.status.busy": "2023-01-02T10:04:47.454866Z",
     "iopub.status.idle": "2023-01-02T10:04:47.493027Z",
     "shell.execute_reply": "2023-01-02T10:04:47.492234Z"
    },
    "papermill": {
     "duration": 0.058046,
     "end_time": "2023-01-02T10:04:47.495628",
     "exception": false,
     "start_time": "2023-01-02T10:04:47.437582",
     "status": "completed"
    },
    "tags": []
   },
   "outputs": [
    {
     "data": {
      "text/html": [
       "<div>\n",
       "<style scoped>\n",
       "    .dataframe tbody tr th:only-of-type {\n",
       "        vertical-align: middle;\n",
       "    }\n",
       "\n",
       "    .dataframe tbody tr th {\n",
       "        vertical-align: top;\n",
       "    }\n",
       "\n",
       "    .dataframe thead th {\n",
       "        text-align: right;\n",
       "    }\n",
       "</style>\n",
       "<table border=\"1\" class=\"dataframe\">\n",
       "  <thead>\n",
       "    <tr style=\"text-align: right;\">\n",
       "      <th></th>\n",
       "      <th>year</th>\n",
       "      <th>selling_price</th>\n",
       "      <th>km_driven</th>\n",
       "      <th>mileage</th>\n",
       "      <th>engine</th>\n",
       "      <th>max_power</th>\n",
       "      <th>torque</th>\n",
       "      <th>seats</th>\n",
       "    </tr>\n",
       "  </thead>\n",
       "  <tbody>\n",
       "    <tr>\n",
       "      <th>count</th>\n",
       "      <td>7906.000000</td>\n",
       "      <td>7.906000e+03</td>\n",
       "      <td>7.906000e+03</td>\n",
       "      <td>7906.000000</td>\n",
       "      <td>7906.000000</td>\n",
       "      <td>7906.000000</td>\n",
       "      <td>7906.000000</td>\n",
       "      <td>7906.000000</td>\n",
       "    </tr>\n",
       "    <tr>\n",
       "      <th>mean</th>\n",
       "      <td>2013.983936</td>\n",
       "      <td>6.498137e+05</td>\n",
       "      <td>6.918866e+04</td>\n",
       "      <td>18.981027</td>\n",
       "      <td>1458.708829</td>\n",
       "      <td>91.271060</td>\n",
       "      <td>176.990887</td>\n",
       "      <td>5.416393</td>\n",
       "    </tr>\n",
       "    <tr>\n",
       "      <th>std</th>\n",
       "      <td>3.863695</td>\n",
       "      <td>8.135827e+05</td>\n",
       "      <td>5.679230e+04</td>\n",
       "      <td>4.064364</td>\n",
       "      <td>503.893057</td>\n",
       "      <td>35.732781</td>\n",
       "      <td>90.831285</td>\n",
       "      <td>0.959208</td>\n",
       "    </tr>\n",
       "    <tr>\n",
       "      <th>min</th>\n",
       "      <td>1994.000000</td>\n",
       "      <td>2.999900e+04</td>\n",
       "      <td>1.000000e+00</td>\n",
       "      <td>0.000000</td>\n",
       "      <td>624.000000</td>\n",
       "      <td>32.000000</td>\n",
       "      <td>39.226600</td>\n",
       "      <td>2.000000</td>\n",
       "    </tr>\n",
       "    <tr>\n",
       "      <th>25%</th>\n",
       "      <td>2012.000000</td>\n",
       "      <td>2.700000e+05</td>\n",
       "      <td>3.500000e+04</td>\n",
       "      <td>16.000000</td>\n",
       "      <td>1197.000000</td>\n",
       "      <td>68.000000</td>\n",
       "      <td>111.000000</td>\n",
       "      <td>5.000000</td>\n",
       "    </tr>\n",
       "    <tr>\n",
       "      <th>50%</th>\n",
       "      <td>2015.000000</td>\n",
       "      <td>4.500000e+05</td>\n",
       "      <td>6.000000e+04</td>\n",
       "      <td>19.000000</td>\n",
       "      <td>1248.000000</td>\n",
       "      <td>82.000000</td>\n",
       "      <td>170.000000</td>\n",
       "      <td>5.000000</td>\n",
       "    </tr>\n",
       "    <tr>\n",
       "      <th>75%</th>\n",
       "      <td>2017.000000</td>\n",
       "      <td>6.900000e+05</td>\n",
       "      <td>9.542500e+04</td>\n",
       "      <td>22.000000</td>\n",
       "      <td>1582.000000</td>\n",
       "      <td>102.000000</td>\n",
       "      <td>205.000000</td>\n",
       "      <td>5.000000</td>\n",
       "    </tr>\n",
       "    <tr>\n",
       "      <th>max</th>\n",
       "      <td>2020.000000</td>\n",
       "      <td>1.000000e+07</td>\n",
       "      <td>2.360457e+06</td>\n",
       "      <td>42.000000</td>\n",
       "      <td>3604.000000</td>\n",
       "      <td>400.000000</td>\n",
       "      <td>789.000000</td>\n",
       "      <td>14.000000</td>\n",
       "    </tr>\n",
       "  </tbody>\n",
       "</table>\n",
       "</div>"
      ],
      "text/plain": [
       "              year  selling_price     km_driven      mileage       engine  \\\n",
       "count  7906.000000   7.906000e+03  7.906000e+03  7906.000000  7906.000000   \n",
       "mean   2013.983936   6.498137e+05  6.918866e+04    18.981027  1458.708829   \n",
       "std       3.863695   8.135827e+05  5.679230e+04     4.064364   503.893057   \n",
       "min    1994.000000   2.999900e+04  1.000000e+00     0.000000   624.000000   \n",
       "25%    2012.000000   2.700000e+05  3.500000e+04    16.000000  1197.000000   \n",
       "50%    2015.000000   4.500000e+05  6.000000e+04    19.000000  1248.000000   \n",
       "75%    2017.000000   6.900000e+05  9.542500e+04    22.000000  1582.000000   \n",
       "max    2020.000000   1.000000e+07  2.360457e+06    42.000000  3604.000000   \n",
       "\n",
       "         max_power       torque        seats  \n",
       "count  7906.000000  7906.000000  7906.000000  \n",
       "mean     91.271060   176.990887     5.416393  \n",
       "std      35.732781    90.831285     0.959208  \n",
       "min      32.000000    39.226600     2.000000  \n",
       "25%      68.000000   111.000000     5.000000  \n",
       "50%      82.000000   170.000000     5.000000  \n",
       "75%     102.000000   205.000000     5.000000  \n",
       "max     400.000000   789.000000    14.000000  "
      ]
     },
     "execution_count": 30,
     "metadata": {},
     "output_type": "execute_result"
    }
   ],
   "source": [
    "df.describe()"
   ]
  },
  {
   "cell_type": "code",
   "execution_count": 31,
   "id": "5f433549",
   "metadata": {
    "execution": {
     "iopub.execute_input": "2023-01-02T10:04:47.530842Z",
     "iopub.status.busy": "2023-01-02T10:04:47.529741Z",
     "iopub.status.idle": "2023-01-02T10:04:47.541176Z",
     "shell.execute_reply": "2023-01-02T10:04:47.539797Z"
    },
    "papermill": {
     "duration": 0.03134,
     "end_time": "2023-01-02T10:04:47.543527",
     "exception": false,
     "start_time": "2023-01-02T10:04:47.512187",
     "status": "completed"
    },
    "tags": []
   },
   "outputs": [
    {
     "data": {
      "text/plain": [
       "name             0\n",
       "year             0\n",
       "selling_price    0\n",
       "km_driven        0\n",
       "fuel             0\n",
       "seller_type      0\n",
       "transmission     0\n",
       "owner            0\n",
       "mileage          0\n",
       "engine           0\n",
       "max_power        0\n",
       "torque           0\n",
       "seats            0\n",
       "dtype: int64"
      ]
     },
     "execution_count": 31,
     "metadata": {},
     "output_type": "execute_result"
    }
   ],
   "source": [
    "df.isnull().sum()"
   ]
  },
  {
   "cell_type": "code",
   "execution_count": 32,
   "id": "0e1b33b6",
   "metadata": {
    "execution": {
     "iopub.execute_input": "2023-01-02T10:04:47.579673Z",
     "iopub.status.busy": "2023-01-02T10:04:47.578916Z",
     "iopub.status.idle": "2023-01-02T10:04:47.730927Z",
     "shell.execute_reply": "2023-01-02T10:04:47.729987Z"
    },
    "papermill": {
     "duration": 0.172949,
     "end_time": "2023-01-02T10:04:47.733583",
     "exception": false,
     "start_time": "2023-01-02T10:04:47.560634",
     "status": "completed"
    },
    "tags": []
   },
   "outputs": [],
   "source": [
    "from sklearn.preprocessing import LabelEncoder,OneHotEncoder\n",
    "le = LabelEncoder()\n",
    "name_encoder=le.fit_transform(df['name'])"
   ]
  },
  {
   "cell_type": "code",
   "execution_count": 33,
   "id": "d2f0593c",
   "metadata": {
    "execution": {
     "iopub.execute_input": "2023-01-02T10:04:47.768689Z",
     "iopub.status.busy": "2023-01-02T10:04:47.768270Z",
     "iopub.status.idle": "2023-01-02T10:04:47.778728Z",
     "shell.execute_reply": "2023-01-02T10:04:47.777934Z"
    },
    "papermill": {
     "duration": 0.030507,
     "end_time": "2023-01-02T10:04:47.780834",
     "exception": false,
     "start_time": "2023-01-02T10:04:47.750327",
     "status": "completed"
    },
    "tags": []
   },
   "outputs": [],
   "source": [
    "df['name'] = le.transform(df['name'])"
   ]
  },
  {
   "cell_type": "code",
   "execution_count": 34,
   "id": "e063c3e9",
   "metadata": {
    "execution": {
     "iopub.execute_input": "2023-01-02T10:04:47.815340Z",
     "iopub.status.busy": "2023-01-02T10:04:47.814906Z",
     "iopub.status.idle": "2023-01-02T10:04:47.821466Z",
     "shell.execute_reply": "2023-01-02T10:04:47.820598Z"
    },
    "papermill": {
     "duration": 0.026283,
     "end_time": "2023-01-02T10:04:47.823546",
     "exception": false,
     "start_time": "2023-01-02T10:04:47.797263",
     "status": "completed"
    },
    "tags": []
   },
   "outputs": [
    {
     "data": {
      "text/plain": [
       "(7906, 13)"
      ]
     },
     "execution_count": 34,
     "metadata": {},
     "output_type": "execute_result"
    }
   ],
   "source": [
    "df.shape"
   ]
  },
  {
   "cell_type": "code",
   "execution_count": 35,
   "id": "8a963fc2",
   "metadata": {
    "execution": {
     "iopub.execute_input": "2023-01-02T10:04:47.858970Z",
     "iopub.status.busy": "2023-01-02T10:04:47.858349Z",
     "iopub.status.idle": "2023-01-02T10:04:47.865179Z",
     "shell.execute_reply": "2023-01-02T10:04:47.864170Z"
    },
    "papermill": {
     "duration": 0.027521,
     "end_time": "2023-01-02T10:04:47.867420",
     "exception": false,
     "start_time": "2023-01-02T10:04:47.839899",
     "status": "completed"
    },
    "tags": []
   },
   "outputs": [
    {
     "data": {
      "text/plain": [
       "Index(['name', 'fuel', 'seller_type', 'transmission', 'owner'], dtype='object')"
      ]
     },
     "execution_count": 35,
     "metadata": {},
     "output_type": "execute_result"
    }
   ],
   "source": [
    "categorical_columns"
   ]
  },
  {
   "cell_type": "code",
   "execution_count": 36,
   "id": "aeb4771a",
   "metadata": {
    "execution": {
     "iopub.execute_input": "2023-01-02T10:04:47.903017Z",
     "iopub.status.busy": "2023-01-02T10:04:47.902313Z",
     "iopub.status.idle": "2023-01-02T10:04:47.918469Z",
     "shell.execute_reply": "2023-01-02T10:04:47.917517Z"
    },
    "papermill": {
     "duration": 0.036908,
     "end_time": "2023-01-02T10:04:47.920923",
     "exception": false,
     "start_time": "2023-01-02T10:04:47.884015",
     "status": "completed"
    },
    "tags": []
   },
   "outputs": [],
   "source": [
    "df = pd.get_dummies(df)\n"
   ]
  },
  {
   "cell_type": "code",
   "execution_count": 37,
   "id": "445de1b7",
   "metadata": {
    "execution": {
     "iopub.execute_input": "2023-01-02T10:04:47.956428Z",
     "iopub.status.busy": "2023-01-02T10:04:47.955744Z",
     "iopub.status.idle": "2023-01-02T10:04:47.962337Z",
     "shell.execute_reply": "2023-01-02T10:04:47.961324Z"
    },
    "papermill": {
     "duration": 0.026947,
     "end_time": "2023-01-02T10:04:47.964453",
     "exception": false,
     "start_time": "2023-01-02T10:04:47.937506",
     "status": "completed"
    },
    "tags": []
   },
   "outputs": [
    {
     "data": {
      "text/plain": [
       "(7906, 23)"
      ]
     },
     "execution_count": 37,
     "metadata": {},
     "output_type": "execute_result"
    }
   ],
   "source": [
    "df.shape"
   ]
  },
  {
   "cell_type": "code",
   "execution_count": 38,
   "id": "c2b4b359",
   "metadata": {
    "execution": {
     "iopub.execute_input": "2023-01-02T10:04:48.000019Z",
     "iopub.status.busy": "2023-01-02T10:04:47.999394Z",
     "iopub.status.idle": "2023-01-02T10:04:48.019829Z",
     "shell.execute_reply": "2023-01-02T10:04:48.018627Z"
    },
    "papermill": {
     "duration": 0.040883,
     "end_time": "2023-01-02T10:04:48.022178",
     "exception": false,
     "start_time": "2023-01-02T10:04:47.981295",
     "status": "completed"
    },
    "tags": []
   },
   "outputs": [
    {
     "data": {
      "text/html": [
       "<div>\n",
       "<style scoped>\n",
       "    .dataframe tbody tr th:only-of-type {\n",
       "        vertical-align: middle;\n",
       "    }\n",
       "\n",
       "    .dataframe tbody tr th {\n",
       "        vertical-align: top;\n",
       "    }\n",
       "\n",
       "    .dataframe thead th {\n",
       "        text-align: right;\n",
       "    }\n",
       "</style>\n",
       "<table border=\"1\" class=\"dataframe\">\n",
       "  <thead>\n",
       "    <tr style=\"text-align: right;\">\n",
       "      <th></th>\n",
       "      <th>name</th>\n",
       "      <th>year</th>\n",
       "      <th>selling_price</th>\n",
       "      <th>km_driven</th>\n",
       "      <th>mileage</th>\n",
       "      <th>engine</th>\n",
       "      <th>max_power</th>\n",
       "      <th>torque</th>\n",
       "      <th>seats</th>\n",
       "      <th>fuel_CNG</th>\n",
       "      <th>...</th>\n",
       "      <th>seller_type_Dealer</th>\n",
       "      <th>seller_type_Individual</th>\n",
       "      <th>seller_type_Trustmark Dealer</th>\n",
       "      <th>transmission_Automatic</th>\n",
       "      <th>transmission_Manual</th>\n",
       "      <th>owner_First Owner</th>\n",
       "      <th>owner_Fourth &amp; Above Owner</th>\n",
       "      <th>owner_Second Owner</th>\n",
       "      <th>owner_Test Drive Car</th>\n",
       "      <th>owner_Third Owner</th>\n",
       "    </tr>\n",
       "  </thead>\n",
       "  <tbody>\n",
       "    <tr>\n",
       "      <th>0</th>\n",
       "      <td>1249</td>\n",
       "      <td>2014</td>\n",
       "      <td>450000</td>\n",
       "      <td>145500</td>\n",
       "      <td>23</td>\n",
       "      <td>1248</td>\n",
       "      <td>74</td>\n",
       "      <td>190.00000</td>\n",
       "      <td>5.0</td>\n",
       "      <td>0</td>\n",
       "      <td>...</td>\n",
       "      <td>0</td>\n",
       "      <td>1</td>\n",
       "      <td>0</td>\n",
       "      <td>0</td>\n",
       "      <td>1</td>\n",
       "      <td>1</td>\n",
       "      <td>0</td>\n",
       "      <td>0</td>\n",
       "      <td>0</td>\n",
       "      <td>0</td>\n",
       "    </tr>\n",
       "    <tr>\n",
       "      <th>1</th>\n",
       "      <td>1546</td>\n",
       "      <td>2014</td>\n",
       "      <td>370000</td>\n",
       "      <td>120000</td>\n",
       "      <td>21</td>\n",
       "      <td>1498</td>\n",
       "      <td>103</td>\n",
       "      <td>250.00000</td>\n",
       "      <td>5.0</td>\n",
       "      <td>0</td>\n",
       "      <td>...</td>\n",
       "      <td>0</td>\n",
       "      <td>1</td>\n",
       "      <td>0</td>\n",
       "      <td>0</td>\n",
       "      <td>1</td>\n",
       "      <td>0</td>\n",
       "      <td>0</td>\n",
       "      <td>1</td>\n",
       "      <td>0</td>\n",
       "      <td>0</td>\n",
       "    </tr>\n",
       "    <tr>\n",
       "      <th>2</th>\n",
       "      <td>375</td>\n",
       "      <td>2006</td>\n",
       "      <td>158000</td>\n",
       "      <td>140000</td>\n",
       "      <td>17</td>\n",
       "      <td>1497</td>\n",
       "      <td>78</td>\n",
       "      <td>117.67980</td>\n",
       "      <td>5.0</td>\n",
       "      <td>0</td>\n",
       "      <td>...</td>\n",
       "      <td>0</td>\n",
       "      <td>1</td>\n",
       "      <td>0</td>\n",
       "      <td>0</td>\n",
       "      <td>1</td>\n",
       "      <td>0</td>\n",
       "      <td>0</td>\n",
       "      <td>0</td>\n",
       "      <td>0</td>\n",
       "      <td>1</td>\n",
       "    </tr>\n",
       "    <tr>\n",
       "      <th>3</th>\n",
       "      <td>743</td>\n",
       "      <td>2010</td>\n",
       "      <td>225000</td>\n",
       "      <td>127000</td>\n",
       "      <td>23</td>\n",
       "      <td>1396</td>\n",
       "      <td>90</td>\n",
       "      <td>215.74630</td>\n",
       "      <td>5.0</td>\n",
       "      <td>0</td>\n",
       "      <td>...</td>\n",
       "      <td>0</td>\n",
       "      <td>1</td>\n",
       "      <td>0</td>\n",
       "      <td>0</td>\n",
       "      <td>1</td>\n",
       "      <td>1</td>\n",
       "      <td>0</td>\n",
       "      <td>0</td>\n",
       "      <td>0</td>\n",
       "      <td>0</td>\n",
       "    </tr>\n",
       "    <tr>\n",
       "      <th>4</th>\n",
       "      <td>1290</td>\n",
       "      <td>2007</td>\n",
       "      <td>130000</td>\n",
       "      <td>120000</td>\n",
       "      <td>16</td>\n",
       "      <td>1298</td>\n",
       "      <td>88</td>\n",
       "      <td>107.87315</td>\n",
       "      <td>5.0</td>\n",
       "      <td>0</td>\n",
       "      <td>...</td>\n",
       "      <td>0</td>\n",
       "      <td>1</td>\n",
       "      <td>0</td>\n",
       "      <td>0</td>\n",
       "      <td>1</td>\n",
       "      <td>1</td>\n",
       "      <td>0</td>\n",
       "      <td>0</td>\n",
       "      <td>0</td>\n",
       "      <td>0</td>\n",
       "    </tr>\n",
       "  </tbody>\n",
       "</table>\n",
       "<p>5 rows × 23 columns</p>\n",
       "</div>"
      ],
      "text/plain": [
       "   name  year  selling_price  km_driven  mileage  engine  max_power  \\\n",
       "0  1249  2014         450000     145500       23    1248         74   \n",
       "1  1546  2014         370000     120000       21    1498        103   \n",
       "2   375  2006         158000     140000       17    1497         78   \n",
       "3   743  2010         225000     127000       23    1396         90   \n",
       "4  1290  2007         130000     120000       16    1298         88   \n",
       "\n",
       "      torque  seats  fuel_CNG  ...  seller_type_Dealer  \\\n",
       "0  190.00000    5.0         0  ...                   0   \n",
       "1  250.00000    5.0         0  ...                   0   \n",
       "2  117.67980    5.0         0  ...                   0   \n",
       "3  215.74630    5.0         0  ...                   0   \n",
       "4  107.87315    5.0         0  ...                   0   \n",
       "\n",
       "   seller_type_Individual  seller_type_Trustmark Dealer  \\\n",
       "0                       1                             0   \n",
       "1                       1                             0   \n",
       "2                       1                             0   \n",
       "3                       1                             0   \n",
       "4                       1                             0   \n",
       "\n",
       "   transmission_Automatic  transmission_Manual  owner_First Owner  \\\n",
       "0                       0                    1                  1   \n",
       "1                       0                    1                  0   \n",
       "2                       0                    1                  0   \n",
       "3                       0                    1                  1   \n",
       "4                       0                    1                  1   \n",
       "\n",
       "   owner_Fourth & Above Owner  owner_Second Owner  owner_Test Drive Car  \\\n",
       "0                           0                   0                     0   \n",
       "1                           0                   1                     0   \n",
       "2                           0                   0                     0   \n",
       "3                           0                   0                     0   \n",
       "4                           0                   0                     0   \n",
       "\n",
       "   owner_Third Owner  \n",
       "0                  0  \n",
       "1                  0  \n",
       "2                  1  \n",
       "3                  0  \n",
       "4                  0  \n",
       "\n",
       "[5 rows x 23 columns]"
      ]
     },
     "execution_count": 38,
     "metadata": {},
     "output_type": "execute_result"
    }
   ],
   "source": [
    "df.head()"
   ]
  },
  {
   "cell_type": "code",
   "execution_count": 39,
   "id": "371f8b9a",
   "metadata": {
    "execution": {
     "iopub.execute_input": "2023-01-02T10:04:48.059904Z",
     "iopub.status.busy": "2023-01-02T10:04:48.059262Z",
     "iopub.status.idle": "2023-01-02T10:04:48.073989Z",
     "shell.execute_reply": "2023-01-02T10:04:48.072575Z"
    },
    "papermill": {
     "duration": 0.036189,
     "end_time": "2023-01-02T10:04:48.076598",
     "exception": false,
     "start_time": "2023-01-02T10:04:48.040409",
     "status": "completed"
    },
    "tags": []
   },
   "outputs": [
    {
     "name": "stdout",
     "output_type": "stream",
     "text": [
      "<class 'pandas.core.frame.DataFrame'>\n",
      "Int64Index: 7906 entries, 0 to 8127\n",
      "Data columns (total 23 columns):\n",
      " #   Column                        Non-Null Count  Dtype  \n",
      "---  ------                        --------------  -----  \n",
      " 0   name                          7906 non-null   int64  \n",
      " 1   year                          7906 non-null   int64  \n",
      " 2   selling_price                 7906 non-null   int64  \n",
      " 3   km_driven                     7906 non-null   int64  \n",
      " 4   mileage                       7906 non-null   int64  \n",
      " 5   engine                        7906 non-null   int64  \n",
      " 6   max_power                     7906 non-null   int64  \n",
      " 7   torque                        7906 non-null   float64\n",
      " 8   seats                         7906 non-null   float64\n",
      " 9   fuel_CNG                      7906 non-null   uint8  \n",
      " 10  fuel_Diesel                   7906 non-null   uint8  \n",
      " 11  fuel_LPG                      7906 non-null   uint8  \n",
      " 12  fuel_Petrol                   7906 non-null   uint8  \n",
      " 13  seller_type_Dealer            7906 non-null   uint8  \n",
      " 14  seller_type_Individual        7906 non-null   uint8  \n",
      " 15  seller_type_Trustmark Dealer  7906 non-null   uint8  \n",
      " 16  transmission_Automatic        7906 non-null   uint8  \n",
      " 17  transmission_Manual           7906 non-null   uint8  \n",
      " 18  owner_First Owner             7906 non-null   uint8  \n",
      " 19  owner_Fourth & Above Owner    7906 non-null   uint8  \n",
      " 20  owner_Second Owner            7906 non-null   uint8  \n",
      " 21  owner_Test Drive Car          7906 non-null   uint8  \n",
      " 22  owner_Third Owner             7906 non-null   uint8  \n",
      "dtypes: float64(2), int64(7), uint8(14)\n",
      "memory usage: 725.7 KB\n"
     ]
    }
   ],
   "source": [
    "df.info()"
   ]
  },
  {
   "cell_type": "code",
   "execution_count": 40,
   "id": "50b5734b",
   "metadata": {
    "execution": {
     "iopub.execute_input": "2023-01-02T10:04:48.113153Z",
     "iopub.status.busy": "2023-01-02T10:04:48.112699Z",
     "iopub.status.idle": "2023-01-02T10:04:48.121025Z",
     "shell.execute_reply": "2023-01-02T10:04:48.119835Z"
    },
    "papermill": {
     "duration": 0.029655,
     "end_time": "2023-01-02T10:04:48.123705",
     "exception": false,
     "start_time": "2023-01-02T10:04:48.094050",
     "status": "completed"
    },
    "tags": []
   },
   "outputs": [
    {
     "name": "stderr",
     "output_type": "stream",
     "text": [
      "/opt/conda/lib/python3.7/site-packages/ipykernel_launcher.py:1: FutureWarning: In a future version of pandas all arguments of DataFrame.drop except for the argument 'labels' will be keyword-only\n",
      "  \"\"\"Entry point for launching an IPython kernel.\n"
     ]
    }
   ],
   "source": [
    "x = df.drop('selling_price',1)\n",
    "y=df.selling_price.values"
   ]
  },
  {
   "cell_type": "code",
   "execution_count": 41,
   "id": "4932db77",
   "metadata": {
    "execution": {
     "iopub.execute_input": "2023-01-02T10:04:48.162192Z",
     "iopub.status.busy": "2023-01-02T10:04:48.161779Z",
     "iopub.status.idle": "2023-01-02T10:04:48.169841Z",
     "shell.execute_reply": "2023-01-02T10:04:48.168793Z"
    },
    "papermill": {
     "duration": 0.030103,
     "end_time": "2023-01-02T10:04:48.172305",
     "exception": false,
     "start_time": "2023-01-02T10:04:48.142202",
     "status": "completed"
    },
    "tags": []
   },
   "outputs": [],
   "source": [
    "x = np.array(x)\n",
    "y=np.array(y)"
   ]
  },
  {
   "cell_type": "code",
   "execution_count": 42,
   "id": "d1700619",
   "metadata": {
    "execution": {
     "iopub.execute_input": "2023-01-02T10:04:48.209640Z",
     "iopub.status.busy": "2023-01-02T10:04:48.208552Z",
     "iopub.status.idle": "2023-01-02T10:04:48.479670Z",
     "shell.execute_reply": "2023-01-02T10:04:48.478556Z"
    },
    "papermill": {
     "duration": 0.292305,
     "end_time": "2023-01-02T10:04:48.482196",
     "exception": false,
     "start_time": "2023-01-02T10:04:48.189891",
     "status": "completed"
    },
    "tags": []
   },
   "outputs": [],
   "source": [
    "from sklearn.model_selection import train_test_split\n",
    "from sklearn.linear_model import LinearRegression\n",
    "from sklearn.tree import DecisionTreeRegressor\n",
    "from sklearn.ensemble import RandomForestRegressor\n",
    "from sklearn.preprocessing import StandardScaler\n",
    "from sklearn.metrics import r2_score,mean_squared_error"
   ]
  },
  {
   "cell_type": "code",
   "execution_count": 43,
   "id": "aff81965",
   "metadata": {
    "execution": {
     "iopub.execute_input": "2023-01-02T10:04:48.520431Z",
     "iopub.status.busy": "2023-01-02T10:04:48.520001Z",
     "iopub.status.idle": "2023-01-02T10:04:48.525794Z",
     "shell.execute_reply": "2023-01-02T10:04:48.524316Z"
    },
    "papermill": {
     "duration": 0.026822,
     "end_time": "2023-01-02T10:04:48.528001",
     "exception": false,
     "start_time": "2023-01-02T10:04:48.501179",
     "status": "completed"
    },
    "tags": []
   },
   "outputs": [],
   "source": [
    "scaler = StandardScaler()"
   ]
  },
  {
   "cell_type": "code",
   "execution_count": 44,
   "id": "e95e1669",
   "metadata": {
    "execution": {
     "iopub.execute_input": "2023-01-02T10:04:48.565733Z",
     "iopub.status.busy": "2023-01-02T10:04:48.565353Z",
     "iopub.status.idle": "2023-01-02T10:04:48.573430Z",
     "shell.execute_reply": "2023-01-02T10:04:48.572448Z"
    },
    "papermill": {
     "duration": 0.029745,
     "end_time": "2023-01-02T10:04:48.575614",
     "exception": false,
     "start_time": "2023-01-02T10:04:48.545869",
     "status": "completed"
    },
    "tags": []
   },
   "outputs": [],
   "source": [
    "x = scaler.fit_transform(x)"
   ]
  },
  {
   "cell_type": "code",
   "execution_count": 45,
   "id": "5405ec7c",
   "metadata": {
    "execution": {
     "iopub.execute_input": "2023-01-02T10:04:48.612545Z",
     "iopub.status.busy": "2023-01-02T10:04:48.611935Z",
     "iopub.status.idle": "2023-01-02T10:04:48.618144Z",
     "shell.execute_reply": "2023-01-02T10:04:48.617313Z"
    },
    "papermill": {
     "duration": 0.027342,
     "end_time": "2023-01-02T10:04:48.620259",
     "exception": false,
     "start_time": "2023-01-02T10:04:48.592917",
     "status": "completed"
    },
    "tags": []
   },
   "outputs": [],
   "source": [
    "x_train, x_test, y_train, y_test = train_test_split(x,y,test_size=0.3,random_state=28)"
   ]
  },
  {
   "cell_type": "code",
   "execution_count": 46,
   "id": "d4c248ed",
   "metadata": {
    "execution": {
     "iopub.execute_input": "2023-01-02T10:04:48.657224Z",
     "iopub.status.busy": "2023-01-02T10:04:48.656552Z",
     "iopub.status.idle": "2023-01-02T10:04:48.690882Z",
     "shell.execute_reply": "2023-01-02T10:04:48.688107Z"
    },
    "papermill": {
     "duration": 0.06052,
     "end_time": "2023-01-02T10:04:48.698148",
     "exception": false,
     "start_time": "2023-01-02T10:04:48.637628",
     "status": "completed"
    },
    "tags": []
   },
   "outputs": [
    {
     "name": "stdout",
     "output_type": "stream",
     "text": [
      "mse: 203153645303.42474\n",
      "r2: 0.6886541903909065\n"
     ]
    }
   ],
   "source": [
    "model = LinearRegression()\n",
    "model.fit(x_train,y_train)\n",
    "pred = model.predict(x_test)\n",
    "print('mse:',mean_squared_error(y_test,pred))\n",
    "print('r2:',r2_score(y_test,pred))"
   ]
  },
  {
   "cell_type": "code",
   "execution_count": 47,
   "id": "77368368",
   "metadata": {
    "execution": {
     "iopub.execute_input": "2023-01-02T10:04:48.819637Z",
     "iopub.status.busy": "2023-01-02T10:04:48.819254Z",
     "iopub.status.idle": "2023-01-02T10:04:48.861108Z",
     "shell.execute_reply": "2023-01-02T10:04:48.859601Z"
    },
    "papermill": {
     "duration": 0.072493,
     "end_time": "2023-01-02T10:04:48.864401",
     "exception": false,
     "start_time": "2023-01-02T10:04:48.791908",
     "status": "completed"
    },
    "tags": []
   },
   "outputs": [
    {
     "name": "stdout",
     "output_type": "stream",
     "text": [
      "mse: 30360756058.920753\n",
      "r2: 0.9534702212141427\n"
     ]
    }
   ],
   "source": [
    "model = DecisionTreeRegressor()\n",
    "model.fit(x_train,y_train)\n",
    "pred = model.predict(x_test)\n",
    "print('mse:',mean_squared_error(y_test,pred))\n",
    "print('r2:',r2_score(y_test,pred))"
   ]
  },
  {
   "cell_type": "code",
   "execution_count": 48,
   "id": "12928e6f",
   "metadata": {
    "execution": {
     "iopub.execute_input": "2023-01-02T10:04:48.902616Z",
     "iopub.status.busy": "2023-01-02T10:04:48.902225Z",
     "iopub.status.idle": "2023-01-02T10:04:51.185449Z",
     "shell.execute_reply": "2023-01-02T10:04:51.183931Z"
    },
    "papermill": {
     "duration": 2.304934,
     "end_time": "2023-01-02T10:04:51.187853",
     "exception": false,
     "start_time": "2023-01-02T10:04:48.882919",
     "status": "completed"
    },
    "tags": []
   },
   "outputs": [
    {
     "name": "stdout",
     "output_type": "stream",
     "text": [
      "mse: 16900805906.879559\n",
      "r2: 0.9740984460787578\n"
     ]
    }
   ],
   "source": [
    "model = RandomForestRegressor()\n",
    "model.fit(x_train,y_train)\n",
    "pred = model.predict(x_test)\n",
    "print('mse:',mean_squared_error(y_test,pred))\n",
    "print('r2:',r2_score(y_test,pred))"
   ]
  },
  {
   "cell_type": "code",
   "execution_count": 49,
   "id": "f0a72cc7",
   "metadata": {
    "execution": {
     "iopub.execute_input": "2023-01-02T10:04:51.226941Z",
     "iopub.status.busy": "2023-01-02T10:04:51.226559Z",
     "iopub.status.idle": "2023-01-02T10:04:51.231256Z",
     "shell.execute_reply": "2023-01-02T10:04:51.230160Z"
    },
    "papermill": {
     "duration": 0.027123,
     "end_time": "2023-01-02T10:04:51.233538",
     "exception": false,
     "start_time": "2023-01-02T10:04:51.206415",
     "status": "completed"
    },
    "tags": []
   },
   "outputs": [],
   "source": [
    "from sklearn.model_selection import cross_val_score"
   ]
  },
  {
   "cell_type": "code",
   "execution_count": 50,
   "id": "7216a64d",
   "metadata": {
    "execution": {
     "iopub.execute_input": "2023-01-02T10:04:51.271906Z",
     "iopub.status.busy": "2023-01-02T10:04:51.271499Z",
     "iopub.status.idle": "2023-01-02T10:04:51.439690Z",
     "shell.execute_reply": "2023-01-02T10:04:51.438137Z"
    },
    "papermill": {
     "duration": 0.19261,
     "end_time": "2023-01-02T10:04:51.443999",
     "exception": false,
     "start_time": "2023-01-02T10:04:51.251389",
     "status": "completed"
    },
    "tags": []
   },
   "outputs": [
    {
     "data": {
      "text/plain": [
       "0.6689845540571427"
      ]
     },
     "execution_count": 50,
     "metadata": {},
     "output_type": "execute_result"
    }
   ],
   "source": [
    "model = LinearRegression()\n",
    "score = cross_val_score(model,x_train,y_train,cv=10)\n",
    "score.mean()\n"
   ]
  },
  {
   "cell_type": "code",
   "execution_count": 51,
   "id": "e46e75f5",
   "metadata": {
    "execution": {
     "iopub.execute_input": "2023-01-02T10:04:51.567660Z",
     "iopub.status.busy": "2023-01-02T10:04:51.567286Z",
     "iopub.status.idle": "2023-01-02T10:04:51.892172Z",
     "shell.execute_reply": "2023-01-02T10:04:51.890758Z"
    },
    "papermill": {
     "duration": 0.359647,
     "end_time": "2023-01-02T10:04:51.894662",
     "exception": false,
     "start_time": "2023-01-02T10:04:51.535015",
     "status": "completed"
    },
    "tags": []
   },
   "outputs": [
    {
     "data": {
      "text/plain": [
       "0.9333556076398415"
      ]
     },
     "execution_count": 51,
     "metadata": {},
     "output_type": "execute_result"
    }
   ],
   "source": [
    "model = DecisionTreeRegressor()\n",
    "score = cross_val_score(model,x_train,y_train,cv=10)\n",
    "score.mean()\n"
   ]
  },
  {
   "cell_type": "code",
   "execution_count": 52,
   "id": "fba63861",
   "metadata": {
    "execution": {
     "iopub.execute_input": "2023-01-02T10:04:51.934523Z",
     "iopub.status.busy": "2023-01-02T10:04:51.934128Z",
     "iopub.status.idle": "2023-01-02T10:05:12.111304Z",
     "shell.execute_reply": "2023-01-02T10:05:12.110168Z"
    },
    "papermill": {
     "duration": 20.20024,
     "end_time": "2023-01-02T10:05:12.113840",
     "exception": false,
     "start_time": "2023-01-02T10:04:51.913600",
     "status": "completed"
    },
    "tags": []
   },
   "outputs": [
    {
     "data": {
      "text/plain": [
       "0.961881501508066"
      ]
     },
     "execution_count": 52,
     "metadata": {},
     "output_type": "execute_result"
    }
   ],
   "source": [
    "model = RandomForestRegressor()\n",
    "score = cross_val_score(model,x_train,y_train,cv=10)\n",
    "score.mean()\n"
   ]
  },
  {
   "cell_type": "code",
   "execution_count": 53,
   "id": "ae9a2f2e",
   "metadata": {
    "execution": {
     "iopub.execute_input": "2023-01-02T10:05:12.151677Z",
     "iopub.status.busy": "2023-01-02T10:05:12.151267Z",
     "iopub.status.idle": "2023-01-02T10:05:14.441230Z",
     "shell.execute_reply": "2023-01-02T10:05:14.439999Z"
    },
    "papermill": {
     "duration": 2.312048,
     "end_time": "2023-01-02T10:05:14.443988",
     "exception": false,
     "start_time": "2023-01-02T10:05:12.131940",
     "status": "completed"
    },
    "tags": []
   },
   "outputs": [
    {
     "name": "stdout",
     "output_type": "stream",
     "text": [
      "score: 0.973173867921266\n",
      "mse: 17504094652.914753\n",
      "r2: 0.973173867921266\n"
     ]
    }
   ],
   "source": [
    "model.fit(x_train,y_train)\n",
    "print('score:',model.score(x_test,y_test))\n",
    "pred = model.predict(x_test)\n",
    "print('mse:',mean_squared_error(y_test,pred))\n",
    "print('r2:',r2_score(y_test,pred))"
   ]
  },
  {
   "cell_type": "code",
   "execution_count": null,
   "id": "849de3c7",
   "metadata": {
    "papermill": {
     "duration": 0.01806,
     "end_time": "2023-01-02T10:05:14.480858",
     "exception": false,
     "start_time": "2023-01-02T10:05:14.462798",
     "status": "completed"
    },
    "tags": []
   },
   "outputs": [],
   "source": []
  }
 ],
 "metadata": {
  "kernelspec": {
   "display_name": "Python 3",
   "language": "python",
   "name": "python3"
  },
  "language_info": {
   "codemirror_mode": {
    "name": "ipython",
    "version": 3
   },
   "file_extension": ".py",
   "mimetype": "text/x-python",
   "name": "python",
   "nbconvert_exporter": "python",
   "pygments_lexer": "ipython3",
   "version": "3.7.12"
  },
  "papermill": {
   "default_parameters": {},
   "duration": 40.636331,
   "end_time": "2023-01-02T10:05:15.320728",
   "environment_variables": {},
   "exception": null,
   "input_path": "__notebook__.ipynb",
   "output_path": "__notebook__.ipynb",
   "parameters": {},
   "start_time": "2023-01-02T10:04:34.684397",
   "version": "2.3.4"
  }
 },
 "nbformat": 4,
 "nbformat_minor": 5
}
